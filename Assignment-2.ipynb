{
 "cells": [
  {
   "cell_type": "markdown",
   "metadata": {
    "deletable": false,
    "editable": false,
    "nbgrader": {
     "checksum": "bfa10372945594d526a3451700847332",
     "grade": false,
     "grade_id": "cell-90272a0660e1e543",
     "locked": true,
     "schema_version": 1,
     "solution": false
    }
   },
   "source": [
    "# CSPB 3104 Assignment 2:"
   ]
  },
  {
   "cell_type": "markdown",
   "metadata": {
    "deletable": false,
    "editable": false,
    "nbgrader": {
     "checksum": "f69baec4344547349fece2ce266b1906",
     "grade": false,
     "grade_id": "cell-b2378586f074c0e1",
     "locked": true,
     "schema_version": 1,
     "solution": false
    }
   },
   "source": [
    "***\n",
    "# Instructions\n",
    "\n",
    "This assignment is to be completed as a python3 notebook.  \n",
    "\n",
    "The questions  provided  below will ask you to either write code or \n",
    "write answers in the form of markdown.\n",
    "\n",
    " Markdown syntax guide is here: [click here](https://github.com/adam-p/markdown-here/wiki/Markdown-Cheatsheet)\n",
    "\n",
    "Using markdown you can typeset formulae using latex.\n",
    "This way you can write nice readable answers with formulae like thus:\n",
    "\n",
    "The algorithm runs in time $\\Theta\\left(n^{2.1\\log_2(\\log_2( n \\log^*(n)))}\\right)$, \n",
    "where $\\log^*(n)$ is the inverse _Ackerman_ function.\n",
    "\n",
    "__Double click anywhere on this box to find out how your instructor typeset it. Press Shift+Enter to go back.__\n"
   ]
  },
  {
   "cell_type": "markdown",
   "metadata": {
    "deletable": false,
    "editable": false,
    "nbgrader": {
     "checksum": "e5552ff91c4189986de921e15845a12b",
     "grade": false,
     "grade_id": "cell-767eb69472626de9",
     "locked": true,
     "schema_version": 1,
     "solution": false
    }
   },
   "source": [
    "***\n",
    "## Question 1: Setting Up and Solving Recurrences\n",
    "\n",
    "Consider the python-like pseudocode below\n",
    "\n",
    "~~~\n",
    "def div_and_conquer_fun(a):\n",
    "    # a is an array of size n\n",
    "    n = length(a)\n",
    "    if n == 0:\n",
    "        return 0\n",
    "    if n == 1: \n",
    "        return a[1]\n",
    "    # 1. Divide into 3 parts\n",
    "    a1 = a[1 ... n//3]\n",
    "    a2 = a[n//3+1 ... 2*n//3]\n",
    "    a3 = a[2*n//3+1 ... n]\n",
    "    # note // denotes integer division a//b := floor(a/b)\n",
    "    (b1, b2) = coalesce_arrays_into_two(a1, a2, a3)\n",
    "    # note b1, b2 are arrays of size n//4 each.\n",
    "    c1 = div_and_conquer_fun(b1)\n",
    "    c2 = div_and_conquer_fun(b2)\n",
    "    return c1 + c2 // Theta (1) time\n",
    "~~~\n",
    "\n",
    "1. The algorithm first divides an array of size n into 3 roughly equal parts.\n",
    "2. Next, it uses the function `coalesce_arrays_into_two(a1, a2, a3)` that runs in $\\Theta(n)$ time, returning two arrays `b1` and `b2` of size $\\frac{n}{4}$ each.\n",
    "3. The function is then recursively called on `b1` and `b2`.\n",
    "4. Finally, the result is summed up and returned.\n",
    "\n",
    "Write down a recurrence relation for the running time of the divide and conquer function above. Use master method to solve the recurrence: write down which case of the master method and the result.\n"
   ]
  },
  {
   "cell_type": "markdown",
   "metadata": {
    "deletable": false,
    "nbgrader": {
     "checksum": "2ee945ba87f3ce5fefbdca45f6fb6760",
     "grade": true,
     "grade_id": "cell-0025f295bb34e01b",
     "locked": false,
     "points": 20,
     "schema_version": 1,
     "solution": true
    }
   },
   "source": [
    "    def div_and_conquer_fun(a):\n",
    "        # a is an array of size n\n",
    "O(1)    n = length(a)\n",
    "O(1)    if n == 0:\n",
    "O(1)        return 0\n",
    "O(1)     if n == 1: \n",
    "O(1)        return a[1]\n",
    "        # 1. Divide into 3 parts\n",
    "O(1)    a1 = a[1 ... n//3]\n",
    "O(1)    a2 = a[n//3+1 ... 2*n//3]\n",
    "O(1)    a3 = a[2*n//3+1 ... n]\n",
    "        # note // denotes integer division a//b := floor(a/b)\n",
    "O(n)    (b1, b2) = coalesce_arrays_into_two(a1, a2, a3)\n",
    "        # note b1, b2 are arrays of size n//4 each.\n",
    "D1      c1 = div_and_conquer_fun(b1)\n",
    "D2      c2 = div_and_conquer_fun(b2)\n",
    "O(1)    return c1 + c2 // Theta (1) time\n",
    "\n",
    "D1 and D2 are both T(n/4) if T(n) is the recurrance relation of this algorithm.\n",
    "$$ T(n) = T(\\frac{n}{4}) + T(\\frac{n}{4}) + O(n) + O(1)*9 $$\n",
    "$$T(n) = 2*T(\\frac{n}{4}) + O(n) $$\n",
    "$$Log4(2) = .5 $$\n",
    "$$c  > .5 $$\n",
    "\n",
    "Thus, since c = 1 and is greater, we use case 3 of the master method.  This means the time complexity is T(n) = O(n)\n",
    "\n"
   ]
  },
  {
   "cell_type": "markdown",
   "metadata": {
    "deletable": false,
    "editable": false,
    "nbgrader": {
     "checksum": "a6bb61265e60ef3955dc6bcd4d7e80fa",
     "grade": false,
     "grade_id": "cell-14b16acc08601846",
     "locked": true,
     "schema_version": 1,
     "solution": false
    }
   },
   "source": [
    "***\n",
    "## Question 2(a): Counting Dominances\n",
    "Suppose you are given two sorted arrays $a$ and $b$ of the sizes $m$ and $n$, respectively. A \"dominance\" of $a$ over $b$ is a pair of indices $(i,j)$ such that $a[i] > b[j]$.  Note that $i$ is an index of array $a$ and $j$ must be an index of array $b$.\n",
    "\n",
    "\n",
    "Write a __brute force__ algorithm that counts the number of dominances of $a$ over $b$ that runs in $\\Theta(n^2)$ time."
   ]
  },
  {
   "cell_type": "code",
   "execution_count": 227,
   "metadata": {
    "deletable": false,
    "nbgrader": {
     "checksum": "97bf8e44cad345ac3ee6e5c847d9c124",
     "grade": false,
     "grade_id": "cell-57660028cdf2b31f",
     "locked": false,
     "schema_version": 1,
     "solution": true
    }
   },
   "outputs": [],
   "source": [
    "#Answer 2(a):\n",
    "def count_dominances_brute_force(a, b):\n",
    "    count = 0\n",
    "\n",
    "    for i in range(len(a)) :\n",
    "        for j in range(len(b)) :\n",
    "            if (a[i] > b[j]) :\n",
    "                count+=1\n",
    "    \n",
    "    return count\n",
    "    "
   ]
  },
  {
   "cell_type": "markdown",
   "metadata": {
    "deletable": false,
    "editable": false,
    "nbgrader": {
     "checksum": "860be429462dbaf8d2f2c515ed723ef1",
     "grade": false,
     "grade_id": "cell-cdfb6eee99246206",
     "locked": true,
     "schema_version": 1,
     "solution": false
    }
   },
   "source": [
    "## Question 2(b): Counting Dominances\n",
    "However, the brute force algorithm is suboptimal. Design a $\\Theta(n)$ algorithm to count the number of dominances. Do this by modifying the merge algorithm we studied as part of merge sort. Instead of merging the two sorted arrays, count the number of dominances."
   ]
  },
  {
   "cell_type": "code",
   "execution_count": 228,
   "metadata": {
    "deletable": false,
    "nbgrader": {
     "checksum": "c9d09891a702692324317f2f06928f83",
     "grade": false,
     "grade_id": "cell-a6e9bad601c5a14f",
     "locked": false,
     "schema_version": 1,
     "solution": true
    }
   },
   "outputs": [],
   "source": [
    "import math\n",
    "\n",
    "#Answer 2(b):\n",
    "def count_dominances(a, b):\n",
    "    count = 0\n",
    "    i = 0\n",
    "    n = len(a)\n",
    "    j = 0\n",
    "    m = len(b)\n",
    "\n",
    "    if m == 0 or n == 0 :\n",
    "        return 0\n",
    "\n",
    "    while i < n and j < m :\n",
    "        if a[i] > b[j] :\n",
    "            count+=1+j\n",
    "            j+=1\n",
    "        else : \n",
    "            i+=1\n",
    "\n",
    "    # j = m but there's still items in a\n",
    "    while i < n :\n",
    "        i+=1\n",
    "        j = m-1\n",
    "        if i < n :\n",
    "            if (a[i] > b[j]) :\n",
    "                count+=1+j\n",
    "    \n",
    "    \n",
    "    return count"
   ]
  },
  {
   "cell_type": "markdown",
   "metadata": {
    "deletable": false,
    "editable": false,
    "nbgrader": {
     "checksum": "08af54cb42f3d273d7ab2dddae7611a5",
     "grade": false,
     "grade_id": "cell-78c09dcbb3442f85",
     "locked": true,
     "schema_version": 1,
     "solution": false
    }
   },
   "source": [
    "## Question 2(c): Counting Dominances"
   ]
  },
  {
   "cell_type": "markdown",
   "metadata": {
    "deletable": false,
    "nbgrader": {
     "checksum": "dea5ee254285bc894d3403d3a7c9e368",
     "grade": true,
     "grade_id": "cell-efd6f00eccd2e786",
     "locked": false,
     "points": 15,
     "schema_version": 1,
     "solution": true
    }
   },
   "source": [
    "I actually spent a lot of time on this but find it a challenge at times to debug in jupyter notebooks.\n",
    "My logic was to get all the dominances by one by one incrementing the indices of a and b.  If we found an item in a that is larger than the one we are on for b, then we add to the count, also adding any dominances that could have been missed in the process.  The \"pointer\" for b gets incremented so you can examine the next item.  If a[i] < b[j] then you increment i so that a larger value in a can be found. After you have terminated the first loop, any remaining dominances for the unfinished array are captured in the remaining loop.  We don't need a second loop for if i = n but j < m because both arrays are in increasing order.  If b[j] is greater than or equal to a[i] then none of the remaining elements of b will be smaller and provide dominances. \n",
    "The biggest challenge I had was in adding the missed dominances correctly. All the smaller values in b are also dominances so that is why I chose j+1 as the size of all the dominances from that jth element to the 0th.  I am sure I am overadding at times but after spending a lot of time trying to get the count correct, I am unsure where the logic error is."
   ]
  },
  {
   "cell_type": "markdown",
   "metadata": {
    "deletable": false,
    "editable": false,
    "nbgrader": {
     "checksum": "10c9b10bda40c50df22d4539e9e1293a",
     "grade": false,
     "grade_id": "cell-717259161e0da085",
     "locked": true,
     "schema_version": 1,
     "solution": false
    }
   },
   "source": [
    "***\n",
    "## Question 3(a): Finding a Fixed Point. \n",
    "A fixed point of an array $A$, if it exists, is an index $i$ such that $A[i] = i$.\n",
    "Given a _sorted_ array $A$ of _distinct_ __integers__, return the index of the fixed point if one exists, or otherwise, return `-1` to signal that no fixed point exists. Your algorithm must be as efficient as possible."
   ]
  },
  {
   "cell_type": "code",
   "execution_count": 229,
   "metadata": {},
   "outputs": [],
   "source": [
    "def find_fixed_helper(a, start, stop) :\n",
    "\n",
    "    mid = start + (stop - start)//2 # floor of the length of passed array portion\n",
    "\n",
    "    #case 1 - Base case - mid point is fixed\n",
    "    if (a[mid] == mid) :\n",
    "        fixed_point = mid\n",
    "    #case 2 - Base case - mid point isn't fixed AND there's only one or no elements\n",
    "    elif (stop - start < 2) :\n",
    "        fixed_point = -1\n",
    "    #case 3 - mid element is less than, don't call recursion on left half\n",
    "    #               but recurse on the right half\n",
    "    elif (a[mid] < mid) :\n",
    "        fixed_point = find_fixed_helper(a, mid, stop)\n",
    "    #case 4 - mid element is greater than, don't call recursion on right half\n",
    "    #               but recurse the left half\n",
    "    else :\n",
    "        fixed_point = find_fixed_helper(a, start, mid)\n",
    "    \n",
    "    return fixed_point"
   ]
  },
  {
   "cell_type": "code",
   "execution_count": 230,
   "metadata": {
    "deletable": false,
    "nbgrader": {
     "checksum": "64439ed70c5cea4a6bffc2dabe93edf7",
     "grade": false,
     "grade_id": "cell-6a58c57b10f4d43e",
     "locked": false,
     "schema_version": 1,
     "solution": true
    }
   },
   "outputs": [],
   "source": [
    "#Answer 3(a)\n",
    "def find_fixed_point(a):\n",
    "\n",
    "    fixed_index = find_fixed_helper(a, 0, len(a) - 1)\n",
    "\n",
    "    return fixed_index"
   ]
  },
  {
   "cell_type": "code",
   "execution_count": 231,
   "metadata": {
    "deletable": false,
    "nbgrader": {
     "checksum": "64439ed70c5cea4a6bffc2dabe93edf7",
     "grade": false,
     "grade_id": "cell-6a58c57b10f4d43e",
     "locked": false,
     "schema_version": 1,
     "solution": true
    }
   },
   "outputs": [],
   "source": [
    "# #My original version I didn't want to delete completely\n",
    "# def find_fixed_point2(a):\n",
    "#     i = len(a) - 1 # our array index\n",
    "\n",
    "#     while i >= 0 :\n",
    "#         if a[i] == i :\n",
    "#             return i\n",
    "#         elif a[i] < i : \n",
    "#             # if there's elements < their index, then \n",
    "#             # no matches exist in lower indices\n",
    "#             break\n",
    "#         else :\n",
    "#             i-=1\n",
    "\n",
    "#     return -1"
   ]
  },
  {
   "cell_type": "markdown",
   "metadata": {
    "deletable": false,
    "editable": false,
    "nbgrader": {
     "checksum": "6c274681c749bb6c58e8dde56635d7eb",
     "grade": false,
     "grade_id": "cell-efe5ac4bc0e4837f",
     "locked": true,
     "schema_version": 1,
     "solution": false
    }
   },
   "source": [
    "## Question 3(b): \n"
   ]
  },
  {
   "cell_type": "markdown",
   "metadata": {
    "deletable": false,
    "nbgrader": {
     "checksum": "b56d56218876bc9dbd207eae9ca1a7b4",
     "grade": true,
     "grade_id": "cell-15fd886bc11e6fd3",
     "locked": false,
     "points": 15,
     "schema_version": 1,
     "solution": true
    }
   },
   "source": [
    "I used a divide and conquer technique similar to merge sort to divide the array progressively into smaller and smaller pieces and then performed the operation of examining a single element and returning a count if it is a match, or -1 if it isn't. \n",
    "\n",
    "The worst case complexity occurs when the array needs to be divided up log(n) times.  This algorithm is only the divide part of the mergesort algorithm and doesn't involve the sorting part, making it only log(n) and not n*log(n).\n",
    "\n",
    "The best case occurs when the first element is a fixed point allowing the algorithm to only examine one element, giving it a runtime of omega(1)."
   ]
  },
  {
   "cell_type": "markdown",
   "metadata": {
    "deletable": false,
    "editable": false,
    "nbgrader": {
     "checksum": "2301b95ece8905c2526db45ded4ddae5",
     "grade": false,
     "grade_id": "cell-60a6c725103b998b",
     "locked": true,
     "schema_version": 1,
     "solution": false
    }
   },
   "source": [
    "## Question 3(c): Finding a Fixed Point Again. \n",
    "\n",
    "Given a _sorted_ array $A$ of _distinct_ __natural numbers__, return the index of the fixed point if one exists, or otherwise, return `-1` to signal that no fixed point exists. Your algorithm must be as efficient as possible."
   ]
  },
  {
   "cell_type": "code",
   "execution_count": 232,
   "metadata": {
    "deletable": false,
    "nbgrader": {
     "checksum": "d98b1301107a5bbfa66ae3a977b791fe",
     "grade": false,
     "grade_id": "cell-03b15d6700803f4e",
     "locked": false,
     "schema_version": 1,
     "solution": true
    }
   },
   "outputs": [],
   "source": [
    "#Answer 3(c)\n",
    "def find_fixed_point_natural(a):\n",
    "    # By nature of natural numbers, if the first\n",
    "    # element is not zero, none of the others\n",
    "    # will match because they are only sorted whole numbers and are distinct\n",
    "    if (a[0] == 0) :\n",
    "        return 0\n",
    "    else :\n",
    "        return -1\n",
    "        "
   ]
  },
  {
   "cell_type": "markdown",
   "metadata": {
    "deletable": false,
    "editable": false,
    "nbgrader": {
     "checksum": "c8e490b2a7c6014caa537f97cc83ded2",
     "grade": false,
     "grade_id": "cell-9c27a502610b58e6",
     "locked": true,
     "schema_version": 1,
     "solution": false
    }
   },
   "source": [
    "## Question 3(d)"
   ]
  },
  {
   "cell_type": "markdown",
   "metadata": {
    "deletable": false,
    "nbgrader": {
     "checksum": "7c4bb7c5d9bab33e741016192c9e4ed9",
     "grade": true,
     "grade_id": "cell-f933018b82a90554",
     "locked": false,
     "points": 10,
     "schema_version": 1,
     "solution": true
    }
   },
   "source": [
    "Because only natural numbers are in the domain for this algorithm and all values must be unique, if the first one is not a[0] = 0, then none of the others, which will all be at least one larger than the previous value, can possibly be matched sets since the first one will be larger than its index.  Once I realized this, the algorithm was easy to create minus the debugging I spent returning false instead of -1.\n",
    "\n",
    "The runtime complexity of this is O(1) because it involves only a simple if statement and not any loops or repeating actions.  This is both the best and worst case complexity."
   ]
  },
  {
   "cell_type": "markdown",
   "metadata": {
    "deletable": false,
    "editable": false,
    "nbgrader": {
     "checksum": "a5328778b7b206131cac84e3bd7a2b3a",
     "grade": false,
     "grade_id": "cell-4b434c6869df301a",
     "locked": true,
     "schema_version": 1,
     "solution": false
    }
   },
   "source": [
    "## Testing your solutions -- Do not edit code beyond this point"
   ]
  },
  {
   "cell_type": "code",
   "execution_count": 233,
   "metadata": {
    "deletable": false,
    "editable": false,
    "nbgrader": {
     "checksum": "c7c0636e3689887b061f9989282df7c2",
     "grade": true,
     "grade_id": "cell-07261dba53118757",
     "locked": true,
     "points": 0,
     "schema_version": 1,
     "solution": false
    }
   },
   "outputs": [],
   "source": [
    "# This code runs 5 test cases on your two algorithms\n",
    "def test_count_dominances(func):\n",
    "    a1 = [ 5, 7, 10]\n",
    "    b1 = [ 1, 2,  3] \n",
    "    n1 = 9\n",
    "\n",
    "    a2 = [ 6, 10, 15, 21]\n",
    "    b2 = [ 4, 19, 25, 32]\n",
    "    n2 = 5\n",
    "    \n",
    "    \n",
    "    a3 = [ 6, 10, 15, 21]\n",
    "    b3 = []\n",
    "    n3 = 0\n",
    "    \n",
    "    a4 = [ 1, 3, 5, 7, 9, 11, 13]\n",
    "    b4 = [ 2,  4, 6, 8, 10]\n",
    "    n4 = 20\n",
    "    \n",
    "    a5 = [1, 3, 5, 6, 7, 9, 11, 13]\n",
    "    b5 = [2, 4, 6, 6, 6, 8, 10]\n",
    "    n5 = 30\n",
    "    \n",
    "    problems = [(a1, b1, n1), (a2, b2, n2), (a3, b3, n3), (a4, b4, n4), (a5, b5, n5)]\n",
    "    num_passed = 0\n",
    "    for (a, b, n) in problems:\n",
    "        res = func(a, b)\n",
    "        if res == n:\n",
    "            num_passed = num_passed + 1\n",
    "        else: \n",
    "            print('FAILED: a = ', a, 'b = ', b, ' expected = ', n, 'your code = ', res)\n",
    "    print('--- Done ---')\n",
    "    print ('Num tests = ', len(problems))\n",
    "    print ('Num passed = ', num_passed)"
   ]
  },
  {
   "cell_type": "code",
   "execution_count": 234,
   "metadata": {
    "deletable": false,
    "editable": false,
    "nbgrader": {
     "checksum": "28764e3f2e016c045b78f4a55afe9653",
     "grade": true,
     "grade_id": "cell-5fec67453127a249",
     "locked": true,
     "points": 10,
     "schema_version": 1,
     "solution": false
    }
   },
   "outputs": [
    {
     "name": "stdout",
     "output_type": "stream",
     "text": [
      "Testing brute force:\n",
      "--- Done ---\n",
      "Num tests =  5\n",
      "Num passed =  5\n"
     ]
    }
   ],
   "source": [
    "print('Testing brute force:')\n",
    "test_count_dominances(count_dominances_brute_force)"
   ]
  },
  {
   "cell_type": "code",
   "execution_count": 235,
   "metadata": {
    "deletable": false,
    "editable": false,
    "nbgrader": {
     "checksum": "971316c3d8c19f59176d0326dd51b505",
     "grade": true,
     "grade_id": "cell-a4ebce53d021bc00",
     "locked": true,
     "points": 10,
     "schema_version": 1,
     "solution": false
    }
   },
   "outputs": [
    {
     "name": "stdout",
     "output_type": "stream",
     "text": [
      "Testing modified merge algorithm:\n",
      "FAILED: a =  [5, 7, 10] b =  [1, 2, 3]  expected =  9 your code =  12\n",
      "FAILED: a =  [6, 10, 15, 21] b =  [4, 19, 25, 32]  expected =  5 your code =  3\n",
      "FAILED: a =  [1, 3, 5, 6, 7, 9, 11, 13] b =  [2, 4, 6, 6, 6, 8, 10]  expected =  30 your code =  35\n",
      "--- Done ---\n",
      "Num tests =  5\n",
      "Num passed =  2\n"
     ]
    }
   ],
   "source": [
    "print('Testing modified merge algorithm:')\n",
    "test_count_dominances(count_dominances)"
   ]
  },
  {
   "cell_type": "code",
   "execution_count": 236,
   "metadata": {
    "deletable": false,
    "editable": false,
    "nbgrader": {
     "checksum": "6442c0a137c6d1f059a8567df954d0bf",
     "grade": false,
     "grade_id": "cell-c7a63ccb8e19aab3",
     "locked": true,
     "schema_version": 1,
     "solution": false
    }
   },
   "outputs": [
    {
     "name": "stdout",
     "output_type": "stream",
     "text": [
      "Comparing the two implementations.\n",
      "Disparity observed between two algorithms: [2, 3, 4, 5, 8, 9, 11, 12, 14, 19, 22, 26, 30, 32, 38, 42, 43, 53, 57, 58] [0, 1, 4, 5, 8, 10, 12, 13, 14, 15, 21, 22, 23, 24, 26, 27, 36, 43, 50, 51] 216 250\n",
      "Disparity observed between two algorithms: [1, 3, 9, 12, 13, 15, 18, 19, 21, 25, 28, 29, 34, 36, 40, 43, 44, 50, 56, 57] [4, 5, 7, 10, 11, 13, 15, 16, 19, 22, 24, 26, 27, 33, 36, 38, 42, 45, 47, 53] 218 230\n",
      "Disparity observed between two algorithms: [6, 7, 9, 12, 13, 14, 15, 19, 22, 25, 29, 34, 38, 40, 46, 48, 51, 52, 55, 58] [2, 7, 8, 9, 11, 14, 16, 21, 25, 26, 30, 31, 32, 34, 39, 46, 50, 51, 55, 56] 205 210\n",
      "Disparity observed between two algorithms: [2, 12, 13, 15, 17, 21, 22, 25, 27, 28, 31, 33, 40, 42, 43, 44, 49, 52, 58, 59] [1, 5, 6, 11, 15, 20, 23, 24, 26, 29, 32, 36, 42, 49, 51, 53, 54, 56, 58, 59] 192 190\n",
      "Disparity observed between two algorithms: [0, 2, 6, 8, 9, 10, 11, 12, 13, 14, 18, 24, 27, 38, 43, 48, 51, 52, 55, 59] [4, 7, 16, 17, 19, 20, 21, 22, 25, 26, 27, 29, 30, 31, 34, 36, 41, 46, 55, 58] 162 210\n",
      "Disparity observed between two algorithms: [1, 3, 5, 6, 7, 8, 9, 15, 17, 19, 20, 21, 22, 23, 35, 41, 45, 51, 55, 59] [6, 8, 10, 11, 15, 18, 19, 23, 27, 28, 30, 32, 35, 38, 40, 44, 46, 51, 53, 55] 146 210\n",
      "Disparity observed between two algorithms: [8, 15, 16, 22, 23, 28, 30, 34, 37, 39, 41, 45, 46, 47, 48, 49, 51, 53, 56, 57] [2, 12, 14, 16, 17, 21, 24, 27, 32, 37, 38, 42, 43, 47, 49, 50, 51, 55, 56, 58] 212 190\n",
      "Disparity observed between two algorithms: [1, 5, 6, 8, 15, 19, 26, 27, 30, 31, 33, 35, 36, 42, 44, 49, 51, 54, 56, 59] [1, 2, 5, 8, 9, 11, 12, 15, 25, 26, 29, 34, 35, 36, 38, 41, 47, 51, 55, 59] 222 190\n",
      "Disparity observed between two algorithms: [1, 3, 6, 11, 14, 16, 28, 29, 30, 31, 32, 39, 44, 45, 48, 53, 56, 57, 58, 59] [3, 11, 14, 20, 24, 25, 28, 30, 33, 40, 41, 44, 45, 46, 48, 51, 53, 54, 58, 59] 178 190\n",
      "Disparity observed between two algorithms: [1, 7, 11, 13, 15, 20, 21, 22, 23, 24, 29, 33, 34, 35, 37, 40, 47, 49, 50, 51] [0, 4, 10, 15, 16, 18, 25, 31, 32, 33, 39, 43, 47, 48, 50, 51, 54, 55, 58, 59] 154 120\n",
      "Disparity observed between two algorithms: [0, 5, 6, 9, 14, 16, 23, 24, 26, 30, 35, 38, 40, 44, 46, 50, 52, 55, 56, 57] [0, 1, 4, 6, 8, 12, 22, 25, 36, 37, 41, 45, 46, 47, 48, 50, 53, 55, 58, 59] 188 171\n",
      "Disparity observed between two algorithms: [0, 5, 6, 7, 9, 10, 16, 17, 18, 22, 24, 26, 28, 32, 34, 35, 36, 41, 43, 55] [4, 5, 9, 14, 15, 16, 18, 22, 23, 31, 39, 41, 44, 45, 47, 49, 51, 53, 55, 57] 142 171\n",
      "Disparity observed between two algorithms: [0, 5, 16, 17, 18, 20, 21, 24, 27, 28, 40, 41, 43, 46, 50, 51, 52, 53, 57, 59] [0, 3, 7, 9, 10, 11, 16, 21, 22, 26, 30, 35, 37, 40, 41, 46, 48, 50, 51, 53] 235 230\n",
      "Disparity observed between two algorithms: [0, 3, 4, 7, 8, 10, 12, 15, 21, 23, 25, 29, 31, 35, 39, 44, 45, 48, 57, 59] [3, 4, 6, 11, 12, 15, 21, 22, 23, 26, 32, 41, 46, 48, 49, 52, 54, 55, 57, 59] 158 190\n",
      "Disparity observed between two algorithms: [0, 2, 3, 7, 8, 9, 15, 18, 20, 21, 23, 26, 28, 31, 39, 45, 47, 49, 51, 55] [0, 1, 2, 4, 9, 13, 14, 15, 17, 25, 31, 32, 34, 36, 39, 42, 46, 47, 54, 56] 192 190\n",
      "Disparity observed between two algorithms: [3, 4, 9, 11, 13, 16, 17, 18, 20, 22, 24, 27, 29, 32, 35, 36, 39, 42, 47, 57] [1, 2, 9, 16, 18, 19, 22, 28, 29, 30, 31, 37, 40, 42, 43, 46, 47, 50, 54, 57] 150 190\n",
      "Disparity observed between two algorithms: [0, 2, 6, 7, 16, 18, 20, 21, 22, 23, 26, 30, 35, 40, 42, 45, 49, 50, 53, 55] [0, 1, 3, 4, 5, 6, 8, 15, 16, 21, 22, 25, 33, 40, 51, 52, 53, 57, 58, 59] 208 153\n",
      "Disparity observed between two algorithms: [1, 7, 15, 16, 20, 21, 23, 24, 28, 30, 33, 34, 41, 42, 46, 50, 52, 53, 55, 59] [1, 7, 12, 13, 14, 16, 25, 27, 32, 33, 34, 40, 42, 44, 46, 48, 49, 55, 57, 58] 196 210\n",
      "Disparity observed between two algorithms: [0, 4, 8, 9, 11, 12, 13, 19, 20, 21, 23, 25, 29, 30, 31, 35, 37, 38, 42, 47] [0, 1, 3, 8, 9, 15, 18, 19, 24, 25, 27, 32, 33, 37, 41, 42, 44, 48, 52, 59] 170 153\n",
      "Disparity observed between two algorithms: [0, 1, 6, 11, 14, 15, 16, 17, 18, 23, 24, 26, 28, 35, 37, 47, 48, 50, 52, 54] [7, 9, 12, 13, 14, 15, 16, 17, 19, 20, 25, 32, 33, 42, 43, 50, 52, 55, 56, 59] 178 153\n",
      "Disparity observed between two algorithms: [0, 6, 9, 11, 12, 14, 20, 21, 27, 29, 34, 37, 38, 39, 40, 42, 43, 47, 53, 54] [1, 5, 8, 9, 13, 14, 18, 24, 26, 28, 36, 37, 39, 40, 43, 46, 47, 49, 57, 59] 189 171\n",
      "Disparity observed between two algorithms: [0, 2, 5, 9, 13, 17, 19, 20, 21, 22, 27, 36, 37, 39, 41, 42, 48, 50, 51, 57] [2, 3, 4, 5, 10, 12, 14, 15, 19, 23, 26, 34, 35, 40, 42, 44, 46, 48, 53, 54] 207 210\n",
      "Disparity observed between two algorithms: [0, 1, 3, 5, 9, 10, 12, 13, 16, 18, 19, 24, 28, 34, 35, 40, 43, 46, 56, 57] [2, 8, 16, 17, 19, 21, 24, 29, 32, 35, 37, 39, 41, 43, 44, 49, 51, 54, 55, 57] 129 190\n",
      "Disparity observed between two algorithms: [3, 5, 8, 10, 13, 14, 17, 20, 22, 25, 27, 28, 30, 32, 38, 41, 45, 46, 49, 51] [1, 3, 5, 6, 8, 10, 11, 13, 14, 15, 17, 19, 21, 30, 32, 33, 36, 37, 40, 52] 241 190\n",
      "Disparity observed between two algorithms: [5, 8, 10, 15, 17, 19, 20, 27, 31, 34, 39, 40, 41, 45, 47, 48, 50, 53, 55, 57] [0, 2, 3, 6, 8, 13, 15, 16, 18, 22, 25, 26, 33, 35, 36, 47, 51, 52, 57, 59] 242 171\n",
      "Disparity observed between two algorithms: [0, 2, 4, 8, 9, 11, 19, 21, 22, 23, 24, 25, 27, 28, 40, 43, 45, 47, 50, 56] [4, 5, 18, 19, 24, 25, 27, 29, 34, 35, 39, 41, 47, 48, 49, 51, 52, 54, 58, 59] 123 171\n",
      "Disparity observed between two algorithms: [2, 3, 8, 9, 10, 12, 16, 17, 19, 20, 30, 31, 33, 42, 45, 46, 51, 52, 54, 58] [3, 4, 13, 14, 15, 21, 26, 31, 34, 35, 38, 41, 44, 45, 46, 47, 48, 50, 53, 54] 164 210\n",
      "Disparity observed between two algorithms: [3, 4, 5, 11, 13, 20, 22, 29, 31, 34, 43, 45, 46, 47, 48, 49, 52, 53, 54, 55] [3, 5, 6, 7, 9, 16, 18, 19, 21, 32, 36, 37, 38, 41, 43, 45, 49, 57, 58, 59] 218 153\n",
      "Disparity observed between two algorithms: [1, 8, 11, 17, 19, 20, 22, 24, 27, 29, 31, 34, 39, 40, 45, 47, 50, 55, 56, 59] [2, 5, 7, 8, 10, 11, 12, 14, 17, 20, 22, 26, 29, 34, 36, 39, 44, 47, 50, 51] 248 250\n",
      "Disparity observed between two algorithms: [0, 3, 5, 7, 10, 11, 14, 15, 29, 32, 33, 36, 41, 42, 50, 51, 52, 53, 54, 57] [1, 6, 8, 13, 16, 18, 19, 24, 25, 27, 29, 30, 31, 34, 35, 40, 43, 48, 49, 52] 218 250\n",
      "Disparity observed between two algorithms: [3, 11, 12, 13, 15, 17, 21, 24, 25, 27, 28, 29, 31, 32, 34, 36, 38, 40, 42, 55] [1, 7, 12, 13, 15, 17, 18, 20, 21, 23, 24, 27, 29, 33, 35, 38, 42, 45, 47, 52] 203 210\n",
      "Disparity observed between two algorithms: [3, 4, 6, 11, 14, 15, 22, 24, 25, 28, 29, 30, 32, 40, 46, 48, 49, 50, 52, 55] [0, 1, 3, 5, 6, 8, 9, 11, 14, 15, 17, 19, 39, 40, 41, 42, 43, 53, 57, 59] 233 171\n",
      "Disparity observed between two algorithms: [0, 1, 2, 4, 5, 6, 9, 12, 14, 15, 19, 26, 28, 31, 33, 36, 47, 51, 52, 57] [0, 2, 3, 7, 9, 12, 21, 27, 30, 31, 32, 36, 39, 41, 44, 45, 51, 54, 57, 58] 151 171\n",
      "Disparity observed between two algorithms: [2, 3, 4, 6, 8, 9, 10, 13, 18, 20, 22, 23, 24, 37, 41, 42, 45, 47, 50, 52] [0, 1, 3, 6, 8, 10, 11, 13, 16, 18, 26, 29, 33, 34, 35, 39, 40, 45, 49, 54] 202 190\n",
      "Disparity observed between two algorithms: [4, 7, 8, 13, 14, 19, 26, 29, 32, 33, 36, 39, 45, 47, 50, 52, 53, 57, 58, 59] [2, 3, 4, 6, 7, 14, 17, 20, 22, 26, 28, 38, 39, 40, 46, 47, 48, 51, 52, 54] 236 250\n",
      "Disparity observed between two algorithms: [2, 4, 7, 10, 11, 12, 18, 22, 31, 32, 33, 34, 40, 44, 49, 51, 54, 56, 57, 58] [0, 4, 14, 20, 22, 23, 24, 26, 27, 30, 35, 38, 39, 48, 49, 51, 53, 55, 56, 59] 185 190\n",
      "Disparity observed between two algorithms: [1, 3, 4, 7, 10, 13, 14, 16, 19, 21, 25, 34, 36, 39, 44, 46, 47, 50, 52, 58] [5, 6, 7, 11, 13, 17, 21, 28, 32, 33, 39, 40, 41, 46, 48, 49, 50, 54, 58, 59] 159 171\n",
      "Disparity observed between two algorithms: [8, 10, 11, 12, 14, 15, 16, 17, 18, 19, 21, 23, 25, 30, 33, 36, 44, 48, 50, 56] [5, 6, 9, 10, 12, 14, 20, 23, 26, 29, 30, 39, 41, 44, 45, 46, 48, 55, 56, 58] 166 171\n",
      "Disparity observed between two algorithms: [0, 1, 6, 8, 10, 12, 19, 27, 28, 30, 33, 34, 37, 39, 40, 44, 46, 49, 51, 59] [0, 1, 2, 5, 7, 9, 20, 28, 29, 33, 36, 38, 39, 42, 43, 44, 46, 49, 50, 57] 193 210\n",
      "Disparity observed between two algorithms: [1, 3, 8, 11, 14, 17, 19, 20, 23, 26, 27, 33, 34, 37, 38, 46, 47, 49, 50, 59] [0, 1, 5, 11, 17, 19, 25, 28, 29, 33, 35, 38, 40, 43, 45, 47, 48, 51, 54, 58] 173 210\n",
      "Disparity observed between two algorithms: [0, 2, 3, 6, 7, 10, 16, 17, 21, 24, 25, 28, 33, 38, 40, 49, 51, 53, 54, 57] [4, 5, 7, 11, 15, 16, 20, 21, 24, 26, 29, 35, 36, 39, 46, 51, 52, 53, 55, 58] 174 190\n",
      "Disparity observed between two algorithms: [6, 7, 11, 15, 17, 18, 21, 24, 28, 35, 38, 41, 43, 47, 49, 51, 53, 55, 56, 59] [1, 3, 5, 13, 20, 24, 25, 30, 31, 34, 35, 37, 38, 39, 40, 42, 48, 54, 57, 58] 214 210\n",
      "Disparity observed between two algorithms: [1, 2, 3, 6, 10, 13, 14, 16, 20, 23, 27, 28, 32, 35, 39, 40, 41, 43, 47, 49] [0, 1, 7, 8, 15, 16, 17, 20, 27, 29, 31, 32, 34, 37, 39, 40, 42, 43, 51, 54] 178 171\n",
      "Disparity observed between two algorithms: [0, 1, 4, 5, 7, 8, 10, 14, 16, 21, 25, 30, 31, 35, 42, 45, 49, 52, 54, 59] [1, 6, 7, 13, 15, 17, 18, 23, 25, 26, 27, 29, 33, 34, 35, 47, 51, 53, 55, 58] 173 210\n",
      "Disparity observed between two algorithms: [3, 4, 6, 7, 9, 10, 13, 15, 20, 21, 23, 27, 31, 33, 34, 38, 41, 51, 54, 56] [4, 5, 6, 7, 8, 9, 19, 20, 22, 23, 24, 27, 31, 37, 40, 46, 47, 48, 52, 54] 187 210\n",
      "Disparity observed between two algorithms: [0, 1, 5, 9, 10, 12, 16, 17, 19, 22, 24, 26, 34, 43, 45, 46, 54, 56, 57, 59] [2, 3, 7, 10, 11, 15, 17, 18, 28, 32, 33, 36, 38, 39, 41, 44, 45, 48, 51, 57] 193 210\n",
      "Disparity observed between two algorithms: [0, 7, 8, 14, 20, 24, 25, 29, 30, 31, 32, 35, 36, 42, 46, 48, 51, 53, 54, 55] [0, 7, 9, 11, 14, 16, 18, 20, 30, 33, 36, 37, 40, 41, 46, 49, 53, 54, 57, 58] 194 171\n",
      "Disparity observed between two algorithms: [0, 2, 4, 9, 11, 19, 21, 24, 25, 26, 28, 30, 36, 39, 40, 42, 43, 45, 46, 59] [12, 17, 18, 19, 22, 23, 24, 26, 29, 32, 33, 37, 41, 43, 48, 49, 51, 54, 56, 59] 152 190\n",
      "Disparity observed between two algorithms: [1, 11, 14, 16, 19, 21, 22, 28, 30, 32, 33, 35, 36, 38, 40, 43, 46, 56, 58, 59] [4, 5, 6, 7, 8, 10, 11, 12, 14, 16, 17, 18, 36, 38, 39, 45, 48, 50, 55, 57] 249 230\n",
      "Disparity observed between two algorithms: [6, 10, 11, 12, 14, 16, 19, 22, 24, 29, 33, 41, 43, 48, 49, 52, 53, 57, 58, 59] [3, 6, 7, 9, 17, 23, 25, 32, 33, 34, 35, 38, 42, 43, 50, 51, 52, 54, 57, 58] 195 210\n",
      "Disparity observed between two algorithms: [8, 12, 13, 18, 19, 21, 23, 25, 34, 36, 38, 40, 41, 44, 47, 48, 50, 52, 53, 56] [0, 4, 5, 10, 11, 15, 19, 20, 21, 23, 25, 32, 33, 37, 44, 46, 48, 49, 55, 59] 239 190\n",
      "Disparity observed between two algorithms: [0, 4, 10, 13, 15, 22, 23, 25, 27, 34, 36, 39, 42, 44, 48, 49, 51, 54, 55, 56] [1, 7, 11, 14, 15, 18, 20, 25, 27, 30, 33, 37, 40, 42, 43, 45, 48, 54, 57, 59] 204 171\n",
      "Disparity observed between two algorithms: [2, 9, 10, 11, 17, 27, 32, 35, 38, 40, 41, 42, 45, 46, 48, 49, 54, 55, 56, 58] [4, 5, 9, 10, 13, 18, 25, 27, 32, 33, 34, 35, 38, 40, 43, 44, 46, 48, 54, 55] 237 230\n",
      "Disparity observed between two algorithms: [1, 2, 3, 10, 22, 26, 27, 30, 36, 37, 39, 41, 44, 48, 51, 52, 53, 54, 56, 59] [1, 4, 5, 8, 9, 13, 14, 19, 20, 23, 32, 36, 37, 40, 41, 43, 48, 50, 53, 57] 240 210\n",
      "Disparity observed between two algorithms: [0, 2, 6, 7, 12, 16, 21, 23, 24, 25, 29, 31, 33, 36, 37, 38, 48, 50, 55, 56] [3, 5, 12, 13, 17, 21, 22, 24, 27, 32, 39, 41, 43, 44, 46, 47, 51, 53, 55, 59] 164 190\n",
      "Disparity observed between two algorithms: [12, 13, 18, 25, 27, 32, 34, 36, 38, 40, 43, 45, 47, 48, 49, 50, 51, 52, 55, 58] [3, 5, 6, 9, 10, 11, 14, 16, 19, 20, 26, 28, 29, 30, 31, 35, 42, 44, 50, 59] 302 190\n",
      "Disparity observed between two algorithms: [3, 10, 11, 19, 20, 25, 26, 28, 33, 34, 35, 37, 39, 43, 46, 51, 54, 56, 58, 59] [4, 9, 10, 13, 21, 23, 27, 29, 32, 33, 34, 35, 38, 39, 46, 51, 52, 53, 54, 57] 207 230\n",
      "Disparity observed between two algorithms: [0, 2, 3, 5, 6, 7, 9, 16, 20, 21, 32, 39, 41, 42, 43, 44, 48, 51, 53, 55] [4, 7, 12, 13, 14, 15, 21, 22, 25, 28, 32, 35, 36, 39, 41, 42, 43, 45, 51, 52] 184 230\n",
      "Disparity observed between two algorithms: [1, 4, 7, 10, 12, 19, 21, 24, 25, 27, 30, 35, 37, 42, 43, 49, 54, 55, 58, 59] [1, 3, 5, 6, 9, 10, 14, 17, 24, 26, 27, 33, 36, 37, 38, 40, 44, 54, 55, 58] 219 210\n",
      "Disparity observed between two algorithms: [1, 9, 10, 11, 12, 13, 14, 16, 21, 24, 35, 36, 42, 44, 48, 50, 51, 52, 55, 59] [0, 4, 8, 10, 11, 14, 16, 23, 26, 28, 29, 33, 34, 37, 39, 44, 46, 47, 51, 54] 216 230\n",
      "Disparity observed between two algorithms: [0, 3, 6, 9, 12, 15, 18, 25, 26, 30, 32, 33, 36, 45, 46, 48, 49, 54, 55, 58] [7, 10, 11, 13, 14, 17, 19, 21, 24, 25, 31, 32, 40, 41, 42, 44, 46, 50, 55, 57] 201 210\n",
      "Disparity observed between two algorithms: [1, 8, 13, 14, 16, 19, 22, 27, 28, 29, 34, 38, 40, 46, 48, 52, 53, 56, 58, 59] [5, 7, 9, 20, 29, 30, 34, 35, 36, 38, 40, 41, 42, 43, 44, 46, 47, 48, 49, 57] 184 230\n",
      "Disparity observed between two algorithms: [1, 2, 3, 5, 9, 13, 14, 18, 19, 23, 29, 30, 32, 34, 36, 42, 45, 53, 54, 58] [1, 2, 4, 7, 10, 12, 13, 18, 26, 27, 29, 30, 32, 33, 34, 36, 42, 52, 54, 55] 197 210\n",
      "Disparity observed between two algorithms: [0, 1, 3, 8, 16, 17, 22, 25, 28, 30, 32, 38, 41, 45, 48, 51, 53, 55, 57, 59] [0, 3, 6, 8, 9, 11, 12, 16, 19, 22, 26, 27, 30, 31, 34, 35, 38, 39, 45, 55] 245 230\n",
      "Disparity observed between two algorithms: [0, 4, 5, 6, 7, 9, 14, 22, 24, 25, 31, 34, 35, 40, 41, 44, 50, 51, 56, 58] [0, 4, 5, 6, 13, 14, 23, 24, 28, 30, 31, 32, 37, 38, 43, 45, 47, 49, 51, 53] 193 230\n",
      "Disparity observed between two algorithms: [0, 1, 2, 8, 11, 14, 24, 25, 28, 30, 33, 36, 40, 44, 45, 47, 48, 51, 56, 58] [6, 7, 19, 23, 25, 31, 33, 34, 37, 39, 41, 42, 45, 51, 52, 53, 54, 55, 56, 59] 148 190\n",
      "Disparity observed between two algorithms: [2, 3, 7, 14, 15, 17, 21, 25, 27, 28, 29, 33, 34, 36, 49, 50, 51, 54, 56, 57] [0, 1, 4, 5, 11, 13, 15, 18, 24, 26, 29, 30, 32, 34, 36, 42, 49, 51, 56, 59] 219 190\n",
      "Disparity observed between two algorithms: [1, 3, 4, 6, 12, 13, 15, 19, 25, 31, 34, 35, 37, 41, 42, 43, 47, 51, 55, 58] [5, 6, 9, 17, 21, 23, 24, 29, 31, 36, 38, 40, 41, 45, 46, 47, 48, 55, 58, 59] 162 171\n",
      "Disparity observed between two algorithms: [1, 2, 3, 5, 10, 15, 16, 18, 20, 28, 30, 33, 35, 37, 39, 44, 45, 51, 52, 55] [1, 2, 3, 5, 10, 11, 15, 17, 18, 24, 27, 30, 37, 40, 41, 42, 45, 46, 55, 58] 197 171\n",
      "Disparity observed between two algorithms: [0, 1, 2, 8, 9, 12, 14, 15, 17, 19, 28, 40, 41, 42, 43, 46, 48, 55, 56, 58] [3, 7, 9, 10, 21, 24, 25, 26, 30, 31, 33, 42, 46, 50, 52, 53, 54, 57, 58, 59] 154 171\n",
      "Disparity observed between two algorithms: [1, 7, 9, 10, 12, 16, 22, 24, 27, 28, 29, 30, 32, 38, 44, 46, 48, 54, 55, 59] [0, 8, 10, 13, 21, 22, 25, 32, 33, 36, 38, 39, 42, 46, 47, 48, 51, 53, 54, 55] 167 210\n",
      "Disparity observed between two algorithms: [2, 3, 4, 7, 8, 13, 18, 23, 25, 31, 32, 34, 39, 41, 44, 45, 50, 53, 54, 58] [1, 6, 9, 13, 16, 19, 20, 21, 24, 26, 27, 29, 34, 35, 44, 49, 50, 54, 57, 58] 194 190\n",
      "Disparity observed between two algorithms: [0, 2, 8, 18, 25, 28, 29, 31, 34, 37, 38, 39, 40, 45, 47, 51, 55, 57, 58, 59] [2, 3, 4, 11, 12, 14, 15, 30, 31, 33, 34, 37, 41, 42, 44, 45, 47, 48, 51, 57] 223 230\n",
      "Disparity observed between two algorithms: [1, 8, 9, 11, 12, 17, 20, 24, 27, 28, 30, 35, 44, 45, 49, 50, 53, 55, 57, 58] [0, 1, 4, 6, 9, 25, 27, 28, 31, 33, 34, 35, 36, 41, 42, 43, 46, 52, 54, 56] 209 230\n",
      "Disparity observed between two algorithms: [1, 5, 8, 15, 16, 23, 24, 25, 26, 27, 30, 32, 35, 37, 39, 40, 41, 44, 45, 49] [6, 7, 11, 19, 22, 25, 29, 32, 33, 35, 37, 38, 39, 42, 44, 46, 50, 51, 53, 57] 151 136\n",
      "Disparity observed between two algorithms: [2, 4, 16, 18, 20, 23, 24, 27, 28, 29, 30, 32, 34, 35, 43, 44, 45, 47, 50, 55] [0, 8, 10, 14, 15, 19, 22, 27, 28, 30, 34, 35, 38, 44, 47, 50, 54, 55, 56, 59] 182 153\n",
      "Disparity observed between two algorithms: [0, 1, 3, 6, 7, 8, 9, 11, 20, 22, 24, 30, 31, 36, 40, 45, 48, 50, 54, 58] [12, 13, 17, 20, 21, 26, 27, 28, 29, 31, 34, 39, 43, 46, 47, 48, 50, 53, 56, 58] 135 190\n",
      "Disparity observed between two algorithms: [5, 7, 9, 10, 12, 14, 16, 20, 24, 29, 31, 32, 33, 34, 37, 40, 49, 50, 52, 57] [0, 4, 6, 7, 9, 12, 15, 22, 26, 30, 31, 38, 42, 43, 45, 48, 52, 54, 55, 57] 189 190\n",
      "Disparity observed between two algorithms: [7, 8, 10, 11, 12, 22, 24, 25, 30, 36, 38, 41, 45, 46, 50, 51, 52, 54, 55, 57] [3, 5, 9, 11, 12, 15, 16, 21, 22, 24, 30, 31, 32, 35, 38, 44, 47, 51, 56, 59] 233 190\n",
      "Disparity observed between two algorithms: [0, 1, 2, 6, 9, 16, 17, 18, 23, 24, 26, 28, 30, 33, 34, 41, 43, 50, 51, 53] [2, 3, 5, 8, 9, 12, 13, 20, 21, 22, 24, 35, 37, 41, 43, 49, 51, 52, 53, 55] 180 171\n",
      "Disparity observed between two algorithms: [1, 2, 3, 6, 10, 11, 13, 15, 25, 28, 29, 31, 37, 38, 40, 41, 48, 51, 54, 56] [0, 1, 3, 13, 14, 17, 23, 28, 33, 34, 38, 40, 43, 44, 47, 53, 54, 55, 58, 59] 159 171\n",
      "Disparity observed between two algorithms: [1, 4, 5, 6, 8, 13, 15, 18, 19, 24, 25, 28, 36, 37, 38, 40, 45, 48, 58, 59] [3, 9, 15, 21, 22, 23, 25, 30, 35, 36, 42, 43, 44, 46, 48, 49, 50, 52, 56, 57] 139 230\n",
      "Disparity observed between two algorithms: [1, 2, 3, 8, 16, 19, 21, 22, 25, 28, 29, 33, 36, 39, 40, 41, 47, 56, 57, 58] [0, 3, 6, 7, 8, 15, 20, 21, 24, 32, 37, 38, 39, 40, 41, 43, 49, 51, 54, 58] 193 190\n",
      "Disparity observed between two algorithms: [2, 5, 6, 7, 14, 15, 19, 23, 27, 28, 32, 37, 38, 39, 40, 42, 43, 49, 53, 57] [1, 4, 7, 8, 9, 16, 17, 20, 26, 27, 28, 30, 32, 37, 40, 48, 50, 52, 55, 59] 201 190\n",
      "Disparity observed between two algorithms: [0, 4, 10, 21, 24, 25, 26, 27, 29, 31, 32, 36, 38, 42, 43, 46, 47, 53, 54, 55] [0, 6, 9, 13, 18, 21, 23, 24, 27, 30, 33, 35, 39, 40, 44, 47, 50, 52, 55, 58] 205 171\n",
      "Disparity observed between two algorithms: [1, 4, 5, 8, 11, 13, 16, 17, 21, 23, 24, 25, 29, 36, 41, 44, 47, 51, 52, 59] [0, 1, 2, 6, 17, 18, 22, 27, 28, 29, 33, 36, 38, 39, 41, 42, 43, 45, 46, 47] 184 250\n",
      "Disparity observed between two algorithms: [0, 4, 9, 11, 12, 18, 23, 25, 26, 28, 30, 31, 33, 34, 36, 46, 52, 56, 57, 58] [0, 3, 5, 10, 13, 14, 18, 21, 22, 23, 29, 32, 36, 38, 41, 42, 51, 54, 56, 57] 206 210\n",
      "Disparity observed between two algorithms: [0, 2, 10, 13, 14, 16, 20, 22, 23, 31, 32, 33, 35, 39, 42, 43, 45, 50, 56, 59] [3, 7, 11, 15, 21, 22, 24, 27, 28, 31, 34, 36, 37, 38, 41, 42, 50, 53, 55, 56] 183 210\n",
      "Disparity observed between two algorithms: [0, 3, 5, 7, 8, 9, 12, 13, 15, 19, 26, 31, 34, 36, 37, 42, 45, 50, 51, 58] [1, 5, 6, 8, 9, 12, 13, 17, 22, 25, 26, 29, 32, 36, 37, 38, 41, 47, 53, 56] 190 210\n",
      "Disparity observed between two algorithms: [1, 2, 5, 7, 9, 13, 14, 17, 19, 27, 28, 29, 36, 38, 39, 43, 44, 45, 46, 52] [0, 1, 4, 6, 12, 19, 20, 22, 23, 28, 32, 34, 36, 40, 42, 44, 45, 47, 52, 59] 181 171\n",
      "Disparity observed between two algorithms: [1, 4, 5, 8, 13, 18, 19, 20, 27, 30, 32, 34, 35, 36, 40, 44, 45, 47, 50, 58] [2, 3, 8, 9, 12, 13, 22, 23, 26, 33, 35, 38, 43, 46, 48, 50, 51, 52, 54, 55] 174 210\n",
      "Disparity observed between two algorithms: [4, 7, 17, 20, 27, 29, 32, 34, 36, 38, 39, 40, 41, 43, 45, 47, 53, 54, 55, 57] [1, 3, 4, 7, 10, 12, 16, 18, 23, 26, 30, 35, 37, 40, 42, 43, 49, 52, 55, 59] 247 190\n",
      "Disparity observed between two algorithms: [0, 2, 7, 9, 15, 17, 21, 30, 31, 32, 33, 34, 41, 42, 45, 49, 50, 57, 58, 59] [5, 10, 12, 14, 15, 19, 24, 25, 27, 29, 30, 31, 39, 40, 41, 42, 43, 49, 58, 59] 210 190\n",
      "Disparity observed between two algorithms: [1, 2, 3, 4, 6, 8, 12, 14, 15, 16, 26, 30, 34, 37, 38, 48, 49, 52, 58, 59] [2, 3, 4, 7, 12, 13, 16, 19, 20, 24, 25, 33, 40, 41, 42, 46, 51, 53, 57, 58] 178 210\n",
      "Disparity observed between two algorithms: [1, 2, 3, 4, 6, 7, 9, 16, 21, 26, 29, 30, 35, 37, 38, 45, 49, 54, 55, 57] [0, 3, 7, 9, 14, 18, 19, 20, 22, 25, 29, 30, 32, 37, 38, 43, 47, 48, 57, 59] 184 171\n",
      "Disparity observed between two algorithms: [10, 12, 13, 14, 18, 23, 24, 26, 27, 28, 29, 36, 40, 42, 45, 49, 51, 52, 54, 55] [0, 1, 4, 6, 9, 18, 21, 24, 25, 26, 29, 31, 37, 38, 40, 43, 44, 47, 50, 51] 233 250\n",
      "Disparity observed between two algorithms: [1, 9, 10, 19, 20, 22, 25, 27, 28, 30, 31, 33, 34, 36, 37, 40, 41, 45, 46, 48] [1, 5, 12, 16, 17, 18, 22, 23, 24, 26, 29, 32, 33, 38, 41, 44, 45, 46, 47, 52] 204 190\n",
      "Disparity observed between two algorithms: [2, 4, 9, 10, 15, 18, 20, 22, 24, 28, 32, 33, 37, 39, 43, 44, 47, 48, 50, 59] [14, 17, 18, 20, 23, 26, 27, 28, 29, 32, 36, 38, 42, 43, 44, 48, 51, 53, 55, 57] 157 210\n",
      "Disparity observed between two algorithms: [1, 3, 8, 9, 11, 15, 16, 19, 28, 29, 31, 32, 33, 46, 47, 48, 52, 54, 57, 59] [4, 5, 8, 9, 10, 14, 16, 20, 22, 23, 28, 39, 40, 42, 45, 48, 50, 52, 53, 54] 204 230\n",
      " -- all tests done -- \n",
      " passed =  1  out of  100\n"
     ]
    }
   ],
   "source": [
    "from random import sample\n",
    "def compare_brute_force_vs_fast():\n",
    "    a = sorted( sample (range(60), 20) )\n",
    "    b = sorted( sample (range(60), 20) )\n",
    "    n1 = count_dominances_brute_force(a, b)\n",
    "    n2 = count_dominances(a, b)\n",
    "    if n1 != n2:\n",
    "        print('Disparity observed between two algorithms:', a, b, n1, n2)\n",
    "        return False\n",
    "    return True\n",
    "    \n",
    "print('Comparing the two implementations.')\n",
    "num_passed = 0\n",
    "total = 100\n",
    "for i in range(total):\n",
    "    if compare_brute_force_vs_fast():\n",
    "        num_passed = num_passed + 1\n",
    "print(' -- all tests done -- ')\n",
    "print(' passed = ', num_passed, ' out of ', total)"
   ]
  },
  {
   "cell_type": "code",
   "execution_count": 237,
   "metadata": {},
   "outputs": [
    {
     "name": "stdout",
     "output_type": "stream",
     "text": [
      "5\n"
     ]
    }
   ],
   "source": [
    "print(find_fixed_point([-10, -5, -2, 2, 3, 5, 7, 10, 15, 25, 35, 78, 129]))"
   ]
  },
  {
   "cell_type": "code",
   "execution_count": 238,
   "metadata": {
    "deletable": false,
    "editable": false,
    "nbgrader": {
     "checksum": "8eaa4311469820a218deed308cbf7e9d",
     "grade": false,
     "grade_id": "cell-9aa7da7a9b1a3e5e",
     "locked": true,
     "schema_version": 1,
     "solution": false
    }
   },
   "outputs": [],
   "source": [
    "def find_fixed_point_very_naive(a):\n",
    "    n = len(a)\n",
    "    for i in range(0, n):\n",
    "        if a[i] == i:\n",
    "            return i\n",
    "    return -1"
   ]
  },
  {
   "cell_type": "code",
   "execution_count": 239,
   "metadata": {
    "deletable": false,
    "editable": false,
    "nbgrader": {
     "checksum": "58ff305dcd27e92873949fd092e24fa7",
     "grade": true,
     "grade_id": "cell-84c230b8d60d7a54",
     "locked": true,
     "points": 10,
     "schema_version": 1,
     "solution": false
    }
   },
   "outputs": [
    {
     "name": "stdout",
     "output_type": "stream",
     "text": [
      " num tests  =  10000\n",
      " num passed =  10000\n"
     ]
    }
   ],
   "source": [
    "def test_find_fixed_point_code(n_tests, test_size):\n",
    "    n_passed = 0\n",
    "    for i in range(0, n_tests):\n",
    "        a = sorted( sample( range(-10 * n_tests,  10 * n_tests ), test_size))\n",
    "        j = find_fixed_point(a)\n",
    "        if j >= 0 and a[j] != j:\n",
    "            print(' Code failed for input: ', a, 'returned : ', j, 'expected:', find_fixed_point_very_naive(a))\n",
    "        elif j < 0: \n",
    "            assert j == -1, 'Your code returns an illegal negative number: have you implemented it yet?'\n",
    "            k = find_fixed_point_very_naive(a)\n",
    "            if k >= 0:\n",
    "                print('Code failed for input', a)\n",
    "                print('Your code failed to find a fixed point')\n",
    "                print('However, for j = ', k, 'a[j] =', a[k])\n",
    "            else: \n",
    "                n_passed = n_passed + 1\n",
    "        else: \n",
    "            n_passed = n_passed + 1\n",
    "    return n_passed\n",
    "\n",
    "n_tests = 10000\n",
    "n_passed = test_find_fixed_point_code(10000, 10)\n",
    "print(' num tests  = ', n_tests)\n",
    "print(' num passed = ', n_passed)"
   ]
  },
  {
   "cell_type": "code",
   "execution_count": 240,
   "metadata": {
    "deletable": false,
    "editable": false,
    "nbgrader": {
     "checksum": "eeb1e1a03469c671cddf0f72790c24f7",
     "grade": false,
     "grade_id": "cell-8d74aba7a056516c",
     "locked": true,
     "schema_version": 1,
     "solution": false
    }
   },
   "outputs": [
    {
     "name": "stdout",
     "output_type": "stream",
     "text": [
      "Test: expected answer = 5, your answer =  5\n"
     ]
    }
   ],
   "source": [
    "print('Test: expected answer = 5, your answer = ', find_fixed_point([-10, -5, -2, 2, 3, 5, 7, 10, 15, 25, 35, 78, 129])) "
   ]
  },
  {
   "cell_type": "code",
   "execution_count": 241,
   "metadata": {
    "deletable": false,
    "editable": false,
    "nbgrader": {
     "checksum": "cc3f9f39c49153f8645945dbfa9da88b",
     "grade": true,
     "grade_id": "cell-1a18d5990fb957a8",
     "locked": true,
     "points": 10,
     "schema_version": 1,
     "solution": false
    }
   },
   "outputs": [
    {
     "name": "stdout",
     "output_type": "stream",
     "text": [
      " num tests  =  10000\n",
      " num passed =  10000\n"
     ]
    }
   ],
   "source": [
    "def test_find_fixed_point_natural_code(n_tests, test_size):\n",
    "    n_passed = 0\n",
    "    for i in range(0, n_tests):\n",
    "        a = sorted( sample( range(0,  10 * n_tests ), test_size))\n",
    "        j = find_fixed_point_natural(a)\n",
    "        if j >= 0 and a[j] != j:\n",
    "            print(' Code failed for input: ', a, 'returned : ', j, 'expected:', find_fixed_point_very_naive(a))\n",
    "        elif j < 0: \n",
    "            assert j == -1, 'Your code returns an illegal negative number: have you implemented it yet?'\n",
    "            k = find_fixed_point_very_naive(a)\n",
    "            if k >= 0:\n",
    "                print('Code failed for input', a)\n",
    "                print('Your code failed to find a fixed point')\n",
    "                print('However, for j = ', k, 'a[j] =', a[k])\n",
    "            else: \n",
    "                n_passed = n_passed + 1\n",
    "        else: \n",
    "            n_passed = n_passed + 1\n",
    "    return n_passed\n",
    "\n",
    "n_tests = 10000\n",
    "n_passed = test_find_fixed_point_natural_code(10000, 10)\n",
    "print(' num tests  = ', n_tests)\n",
    "print(' num passed = ', n_passed)"
   ]
  },
  {
   "cell_type": "code",
   "execution_count": 242,
   "metadata": {
    "deletable": false,
    "editable": false,
    "nbgrader": {
     "checksum": "5b0ecf7bc8c94372fe301e21df4b5189",
     "grade": false,
     "grade_id": "cell-b234e2cab95033fe",
     "locked": true,
     "schema_version": 1,
     "solution": false
    }
   },
   "outputs": [
    {
     "name": "stdout",
     "output_type": "stream",
     "text": [
      "Test: expected answer = 0, your answer =  0\n"
     ]
    }
   ],
   "source": [
    "print('Test: expected answer = 0, your answer = ', find_fixed_point_natural([0,1, 2, 3, 5, 7, 10, 15, 25, 35, 78, 129])) "
   ]
  }
 ],
 "metadata": {
  "kernelspec": {
   "display_name": "Python 3",
   "language": "python",
   "name": "python3"
  },
  "language_info": {
   "codemirror_mode": {
    "name": "ipython",
    "version": 3
   },
   "file_extension": ".py",
   "mimetype": "text/x-python",
   "name": "python",
   "nbconvert_exporter": "python",
   "pygments_lexer": "ipython3",
   "version": "3.8.5"
  }
 },
 "nbformat": 4,
 "nbformat_minor": 2
}
