{
 "cells": [
  {
   "cell_type": "markdown",
   "metadata": {},
   "source": [
    "# CSPB 3104 Assignment 6/7"
   ]
  },
  {
   "cell_type": "markdown",
   "metadata": {},
   "source": [
    "## Instructions\n",
    "\n",
    "> This assignment is to be completed and uploaded to \n",
    "moodle as a python3 notebook. \n",
    "\n",
    "> Submission deadlines are posted on moodle. \n",
    "\n",
    "> The questions  provided  below will ask you to either write code or \n",
    "write answers in the form of markdown.\n",
    "\n",
    "> Markdown syntax guide is here: [click here](https://github.com/adam-p/markdown-here/wiki/Markdown-Cheatsheet)\n",
    "\n",
    "> Using markdown you can typeset formulae using latex.\n",
    "\n",
    "> This way you can write nice readable answers with formulae like thus:\n",
    "\n",
    ">> The algorithm runs in time $\\Theta\\left(n^{2.1\\log_2(\\log_2( n \\log^*(n)))}\\right)$, \n",
    "wherein $\\log^*(n)$ is the inverse _Ackerman_ function.\n",
    "\n",
    "__Double click anywhere on this box to find out how your instructor typeset it. Press Shift+Enter to go back.__\n"
   ]
  },
  {
   "cell_type": "markdown",
   "metadata": {},
   "source": [
    "## Question 1: Dynamic Programmer Jane's Progress\n",
    "\n",
    "__Note:__ There is an accompanying set of images that should be placed in the same directory as this notebook.\n",
    "\n",
    "We are writing a simple game AI for guiding our `Jane` the dynamic programmer to jump through a set of levels to reach a target level by taking\n",
    "courses in dynamic programming.\n",
    "\n",
    "The levels positions are numbered 1, ... , n. The character starts at level 1 and the goal is to reach level n (where she becomes\n",
    "a d.p. ninja) and thus access CSCI 3104.\n",
    "After taking a course, she can choose to move up by 1, 4, 5 or 11 levels forward at each step. No backward jumps are available.\n",
    "\n",
    "![Jane_Programmer At Start of Game](jane-picture-p1.png \"Jane at the Very Start of the Game\" )\n",
    "\n",
    "Your goal is to use dynamic programming to find out how to reach from level 1 to level n with the minimum number of courses.\n",
    "\n",
    "## 1(A) Write a recurrence.\n",
    "\n",
    "Write a recurrence `minCoursesForJane(j, n)` that represents the minimum number of steps for Jane to reach from level j to level n.\n"
   ]
  },
  {
   "cell_type": "code",
   "execution_count": 19,
   "metadata": {},
   "outputs": [],
   "source": [
    "def minCoursesForJane(j, n):\n",
    "    level_jumps = [1, 4, 5, 11]\n",
    "\n",
    "    # base case j = n\n",
    "    if j == n :\n",
    "        return 0\n",
    "    # base case j > n\n",
    "    if j > n :\n",
    "        return 999999999\n",
    "    opts = [ 1 + minCoursesForJane(j + level_up, n) for level_up in level_jumps ]\n",
    "    \n",
    "    num_courses = min(opts)\n",
    "    return num_courses"
   ]
  },
  {
   "cell_type": "code",
   "execution_count": 20,
   "metadata": {},
   "outputs": [
    {
     "name": "stdout",
     "output_type": "stream",
     "text": [
      "2\n",
      "2\n",
      "4\n",
      "3\n",
      "5\n"
     ]
    }
   ],
   "source": [
    "## Test Code: Do not edit\n",
    "print(minCoursesForJane(1, 9)) # should be 2\n",
    "print(minCoursesForJane(1, 13)) # should be 2\n",
    "print(minCoursesForJane(1, 19)) # should be 4\n",
    "print(minCoursesForJane(1, 34)) # should be 3\n",
    "print(minCoursesForJane(1, 43)) # should be 5"
   ]
  },
  {
   "cell_type": "markdown",
   "metadata": {},
   "source": [
    "## 1(B) Memoize the Recurrence.\n",
    "\n",
    "Assume that n is fixed. The memo table $T[0], \\ldots, T[n]$ should store the value of `minCoursesForJane(j, n)`. "
   ]
  },
  {
   "cell_type": "code",
   "execution_count": 2,
   "metadata": {},
   "outputs": [],
   "source": [
    "def minCoursesForJane_Memoize(n): \n",
    "    j = n - 1\n",
    "    memo = [0] * (n + 1) # make the memo table with default values 0\n",
    "    level_jumps = [1, 4, 5, 11]\n",
    "    options = []\n",
    "\n",
    "    # start at j = n - 1 and walk down to 1 to fill table\n",
    "    # how many jumps (courses), does it take for Jane to \n",
    "    # get to level n from j? Each memo[j] answers that question\n",
    "    # Jane starts at level 1, however so we return memo[1]\n",
    "    while j >= 1 :\n",
    "        options = [999999999]\n",
    "        for jump in level_jumps :\n",
    "            if j + jump <= n :\n",
    "                options.append(memo[j + jump] + 1)\n",
    "        memo[j] = min(options)\n",
    "        j -= 1\n",
    "\n",
    "    return memo[1]"
   ]
  },
  {
   "cell_type": "code",
   "execution_count": 3,
   "metadata": {},
   "outputs": [
    {
     "name": "stdout",
     "output_type": "stream",
     "text": [
      "2\n",
      "2\n",
      "4\n",
      "3\n",
      "5\n"
     ]
    }
   ],
   "source": [
    "## Test Code: Do not edit\n",
    "print(minCoursesForJane_Memoize(9)) # should be 2\n",
    "print(minCoursesForJane_Memoize(13)) # should be 2\n",
    "print(minCoursesForJane_Memoize(19)) # should be 4\n",
    "print(minCoursesForJane_Memoize(34)) # should be 3\n",
    "print(minCoursesForJane_Memoize(43)) # should be 5"
   ]
  },
  {
   "cell_type": "markdown",
   "metadata": {},
   "source": [
    "## 1(C) Recover the Solution\n",
    "\n",
    "Modify the solution from part B to also return how many steps Jane needs to jump at each course.  Your answer must be\n",
    "a pair: `minimum number of courses, list of jumps at each course: each elements of this list must be 1, 4, 5 or 11`\n"
   ]
  },
  {
   "cell_type": "code",
   "execution_count": 4,
   "metadata": {},
   "outputs": [],
   "source": [
    "def minCoursesForJane_Solution(n): # Assume that j = 1 is always the starting point\n",
    "   j = n - 1\n",
    "   memo = [0] * (n + 1) # make the memo table with default values 0\n",
    "   solution = [-1] * (n + 1) # make the solution table with default values -1\n",
    "   level_jumps = [1, 4, 5, 11]\n",
    "   jumps_made = []\n",
    "\n",
    "   while j >= 1 :\n",
    "      options = [(999999999, -1)]\n",
    "      for jump in level_jumps :\n",
    "         if j + jump <= n :\n",
    "               options.append((memo[j + jump] + 1, jump))\n",
    "      memo[j], solution[j] = min(options) # capture min pair for memo and solution table\n",
    "      j -= 1\n",
    "\n",
    "   # Now recover the jumps taken to reach n by using solution table\n",
    "   curr_level = 1\n",
    "   while curr_level < n :\n",
    "      jumps_made.append(solution[curr_level])\n",
    "      curr_level += solution[curr_level]\n",
    "   assert curr_level == n\n",
    "\n",
    "   return memo[1], jumps_made\n",
    "    "
   ]
  },
  {
   "cell_type": "code",
   "execution_count": 5,
   "metadata": {},
   "outputs": [
    {
     "name": "stdout",
     "output_type": "stream",
     "text": [
      "(2, [4, 4])\n",
      "(2, [1, 11])\n",
      "(4, [1, 1, 5, 11])\n",
      "(3, [11, 11, 11])\n",
      "(5, [4, 5, 11, 11, 11])\n"
     ]
    }
   ],
   "source": [
    "## Test Code: Do not edit\n",
    "print(minCoursesForJane_Solution(9)) # should be 2, [4, 4]\n",
    "print(minCoursesForJane_Solution(13)) # should be 2, [1, 11]\n",
    "print(minCoursesForJane_Solution(19)) # should be 4, [1, 1, 5, 11]\n",
    "print(minCoursesForJane_Solution(34)) # should be 3, [11, 11, 11]\n",
    "print(minCoursesForJane_Solution(43)) # should be 5, [4, 5, 11, 11, 11]"
   ]
  },
  {
   "cell_type": "markdown",
   "metadata": {},
   "source": [
    "## 1(D) Greedy Solution\n",
    "\n",
    "Suppose Jane tried a greedy strategy that works as follows. \n",
    "Initialize number of courses $c = 0$.\n",
    "\n",
    "   1. While $n \\geq 11$,\n",
    "      1.1) jump $11$ steps forward, and set $n = n - 11$, $ c = c + 1$\n",
    "   2. While $n \\geq 5$, \n",
    "      2.1) jump $5$ steps forward and set $n = n - 5$, $ c = c + 1$\n",
    "   3. While $n \\geq 4$, \n",
    "      3.1) jump $4$ steps forward and set $n = n - 4$, $c = c + 1$\n",
    "   4. Finally, while $n > 1$, \n",
    "      4.1) jump $1$ step forward and set $n = n - 1$, $c = c + 1$\n",
    "     \n",
    "This way, she can reach level $n$ starting from level $1$ using $c$ courses.\n",
    "\n",
    "Show using an example for $n$ that this strategy may require her to take more courses than the optimal solution from dynamic programming."
   ]
  },
  {
   "cell_type": "markdown",
   "metadata": {},
   "source": [
    "## Answer (Expected Length 3 lines) \n",
    "\n",
    "I cannot help but notice this strategy is faulty since it leads to Jane ending up at level 0.  She is supposed to start from level 1 so this algorithm should lead to n = 1 not n = 0 for any of the following values: n = 4, 5, and 11, as well as many others.  I am going to assume the following structure as a result so that my starting place is found to be where it should be:\n",
    "\n",
    "   1. While $n > 11$,\n",
    "       jump $11$ steps forward, and set $n = n - 11$, $ c = c + 1$\n",
    "   2. While $n > 5$, \n",
    "       jump $5$ steps forward and set $n = n - 5$, $ c = c + 1$\n",
    "   3. While $n > 4$, \n",
    "       jump $4$ steps forward and set $n = n - 4$, $c = c + 1$\n",
    "   4. Finally, while $n > 1$, \n",
    "       jump $1$ step forward and set $n = n - 1$, $c = c + 1$\n",
    "    5. When n = 1, we have our solution.\n",
    "\n",
    "\n",
    "We will start at level 1 but this algorithm starts at your final level and walks backwards.\n",
    "- n = 9 = final level, c = 0\n",
    "- n >= 5 but < 11    ->     n = 9 - 5 = 4,  c = 0 + 1 = 1\n",
    "- n > 1 but < 4    ->     n = 4 - 1 = 3, c = 1 + 1 = 2\n",
    "- n > 1 but < 4    ->     n = 3 - 1 = 2, c = 2 + 1 = 3\n",
    "- n > 1 but < 4    ->     n = 2 - 1 = 1, c = 3 + 1 = 4\n",
    "- n = 1.  c = 4\n",
    "\n",
    "We can see from the first test code in part 1 that the ideal solution is making two 4 level jumps yielding an answer of 2 courses.\n",
    "`print(minCoursesForJane_Solution(9)) # should be 2, [4, 4]`"
   ]
  },
  {
   "cell_type": "markdown",
   "metadata": {},
   "source": [
    "----"
   ]
  },
  {
   "cell_type": "markdown",
   "metadata": {},
   "source": [
    "## Question 2: The Defeat of Kilokahn\n",
    "\n",
    "Unfortunately, life was not as simple as it seemed in problem 1. Some of the levels have been hacked by an evil group of \n",
    "students who can subvert Jane and her great expertise to serve evil Kilokahn (Kilometric Knowledge-base Animate Human Nullity). \n",
    "\n",
    "Any level j that leaves a remainder of 2 when divided by 7 is to be avoided by Jane as she progresses towards level n (where she\n",
    "becomes a code ninja). However, Kilokahn will not be at level $n$ even if $n \\mod 7 = 2$.\n",
    "\n",
    "\n",
    "![Jane_Programmer At Start of Game with Kilokahn lurking](jane-picture-p2.png \"Jane at the Very Start of the Game with Kilokahn lurking\" )\n",
    "\n",
    "\n",
    "## 2(A) Write a recurrence.\n",
    "\n",
    "Write a recurrence `minCoursesForJaneAvoidKK(j, n)` that represents the minimum number of steps for Jane to reach from level j to level n while not reaching any level occupied by Kilokahn.\n"
   ]
  },
  {
   "cell_type": "code",
   "execution_count": 21,
   "metadata": {},
   "outputs": [],
   "source": [
    "def minCoursesForJaneAvoidKK(j, n):\n",
    "    level_jumps = [1, 4, 5, 11]\n",
    "    options = []\n",
    "\n",
    "    if j == n :\n",
    "        return 0\n",
    "    # base case j > n\n",
    "    if j > n :\n",
    "        return 999999999\n",
    "\n",
    "    for jump in level_jumps :\n",
    "        # special case -  j is congruent mod7 to 2 but j != n\n",
    "        if (j + jump != n) and ((j + jump)%7 == 2) : # bad guy is here\n",
    "             options.append(999999999)\n",
    "        else :\n",
    "            options.append(1 + minCoursesForJaneAvoidKK(j + jump, n))\n",
    "\n",
    "    courses_taken = min(options)\n",
    "    \n",
    "    return courses_taken"
   ]
  },
  {
   "cell_type": "code",
   "execution_count": 23,
   "metadata": {},
   "outputs": [
    {
     "name": "stdout",
     "output_type": "stream",
     "text": [
      "2\n",
      "2\n",
      "4\n",
      "5\n",
      "5\n",
      "6\n"
     ]
    }
   ],
   "source": [
    "## Test Code: Do not edit\n",
    "print(minCoursesForJaneAvoidKK(1, 9)) # should be 2\n",
    "print(minCoursesForJaneAvoidKK(1, 13)) # should be 2\n",
    "print(minCoursesForJaneAvoidKK(1, 19)) # should be 4\n",
    "print(minCoursesForJaneAvoidKK(1, 34)) # should be 5\n",
    "print(minCoursesForJaneAvoidKK(1, 43)) # should be 5\n",
    "print(minCoursesForJaneAvoidKK(1, 55)) # should be 6 "
   ]
  },
  {
   "cell_type": "markdown",
   "metadata": {},
   "source": [
    "## 2(B) Memoize the recurrence in 2(A)"
   ]
  },
  {
   "cell_type": "code",
   "execution_count": 86,
   "metadata": {},
   "outputs": [],
   "source": [
    "def minCoursesForJaneAvoidKK_Memoize(n): # j is assumed to be 1 \n",
    "    j = n - 1 # start at n - 1 since j = n takes 0 courses to get to\n",
    "    memo = [0] * (n + 1) # make the memo table with default values 0\n",
    "    level_jumps = [1, 4, 5, 11]\n",
    "    options = []\n",
    "\n",
    "    while j >= 1 :\n",
    "        options = [999999999]\n",
    "        for jump in level_jumps :\n",
    "            if j + jump < n  and ((j + jump)%7 != 2) : # avoid the bad levels\n",
    "                options.append(memo[j + jump] + 1)\n",
    "            elif j + jump == n :\n",
    "                options.append(memo[j + jump] + 1)\n",
    "            else :\n",
    "                options.append(999999999)\n",
    "        memo[j] = min(options)\n",
    "        j -= 1\n",
    "\n",
    "    return memo[1]"
   ]
  },
  {
   "cell_type": "code",
   "execution_count": 87,
   "metadata": {},
   "outputs": [
    {
     "name": "stdout",
     "output_type": "stream",
     "text": [
      "2\n",
      "2\n",
      "4\n",
      "5\n",
      "5\n",
      "6\n",
      "8\n",
      "83\n"
     ]
    }
   ],
   "source": [
    "## Test Code: Do not edit\n",
    "print(minCoursesForJaneAvoidKK_Memoize(9)) # should be 2\n",
    "print(minCoursesForJaneAvoidKK_Memoize(13)) # should be 2\n",
    "print(minCoursesForJaneAvoidKK_Memoize(19)) # should be 4\n",
    "print(minCoursesForJaneAvoidKK_Memoize(34)) # should be 5\n",
    "print(minCoursesForJaneAvoidKK_Memoize(43)) # should be 5\n",
    "print(minCoursesForJaneAvoidKK_Memoize(55)) # should be 6\n",
    "print(minCoursesForJaneAvoidKK_Memoize(69)) # should be 8\n",
    "print(minCoursesForJaneAvoidKK_Memoize(812)) # should be 83"
   ]
  },
  {
   "cell_type": "markdown",
   "metadata": {},
   "source": [
    "## 2(C) Recover the solution in terms of number of jumps for each course."
   ]
  },
  {
   "cell_type": "code",
   "execution_count": 88,
   "metadata": {},
   "outputs": [],
   "source": [
    "def minCoursesForJaneAvoidKK_Solution(n):\n",
    "    j = n - 1\n",
    "    memo = [0] * (n + 1) # make the memo table with default values 0\n",
    "    solution = [-1] * (n + 1) # make the solution table with default values -1\n",
    "    level_jumps = [1, 4, 5, 11]\n",
    "    jumps_made = []\n",
    "\n",
    "    while j >= 1 :\n",
    "        options = [(999999999, -1)]\n",
    "        for jump in level_jumps :\n",
    "            if j + jump < n  and ((j + jump)%7 != 2) : # avoid the bad levels\n",
    "                options.append((memo[j + jump] + 1, jump))\n",
    "            elif j + jump == n :\n",
    "                options.append((memo[j + jump] + 1, jump)) \n",
    "            else :\n",
    "                options.append((999999999, jump))\n",
    "            \n",
    "        memo[j], solution[j] = min(options) # capture min pair for memo and solution table\n",
    "        j -= 1\n",
    "\n",
    "    # Now recover the jumps taken to reach n by using solution table\n",
    "    curr_level = 1\n",
    "    while curr_level < n :\n",
    "        jumps_made.append(solution[curr_level])\n",
    "        curr_level += solution[curr_level]\n",
    "    assert curr_level == n\n",
    "\n",
    "    return memo[1], jumps_made\n"
   ]
  },
  {
   "cell_type": "code",
   "execution_count": 89,
   "metadata": {},
   "outputs": [
    {
     "name": "stdout",
     "output_type": "stream",
     "text": [
      "(2, [4, 4])\n",
      "(2, [11, 1])\n",
      "(4, [4, 5, 4, 5])\n",
      "(5, [5, 1, 11, 11, 5])\n",
      "(5, [4, 5, 11, 11, 11])\n",
      "(6, [5, 11, 11, 11, 11, 5])\n",
      "(8, [11, 1, 11, 11, 11, 11, 11, 1])\n",
      "(83, [5, 11, 11, 11, 11, 5, 11, 11, 11, 11, 5, 11, 11, 11, 11, 5, 11, 11, 11, 11, 5, 11, 11, 11, 11, 5, 11, 11, 11, 11, 5, 11, 11, 11, 11, 5, 11, 11, 11, 11, 5, 11, 11, 11, 11, 5, 11, 11, 11, 11, 5, 11, 11, 11, 11, 5, 11, 11, 11, 11, 5, 11, 11, 11, 11, 5, 11, 11, 11, 11, 5, 11, 11, 11, 11, 5, 11, 11, 11, 11, 5, 11, 11])\n"
     ]
    }
   ],
   "source": [
    "## Test Code: Do not edit\n",
    "print(minCoursesForJaneAvoidKK_Solution(9)) # should be 2, [4, 4]\n",
    "print(minCoursesForJaneAvoidKK_Solution(13)) # should be 2, [11, 1]\n",
    "print(minCoursesForJaneAvoidKK_Solution(19)) # should be 4, [4, 5, 4, 5]\n",
    "print(minCoursesForJaneAvoidKK_Solution(34)) # should be 5, [5, 1, 11, 11, 5]\n",
    "print(minCoursesForJaneAvoidKK_Solution(43)) # should be 5, [4, 5, 11, 11, 11]\n",
    "print(minCoursesForJaneAvoidKK_Solution(55)) # should be 6, [5, 11, 11, 11, 11, 5]\n",
    "print(minCoursesForJaneAvoidKK_Solution(69)) # should be 8, [11, 1, 11, 11, 11, 11, 11, 1]\n",
    "print(minCoursesForJaneAvoidKK_Solution(812)) # should be 83, [5, 11, 11, 11, 11, 5, 11, 11, 11, 11, 5, 11, 11, 11, 11, 5, 11, 11, 11, 11, 5, 11, 11, 11, 11, 5, 11, 11, 11, 11, 5, 11, 11, 11, 11, 5, 11, 11, 11, 11, 5, 11, 11, 11, 11, 5, 11, 11, 11, 11, 5, 11, 11, 11, 11, 5, 11, 11, 11, 11, 5, 11, 11, 11, 11, 5, 11, 11, 11, 11, 5, 11, 11, 11, 11, 5, 11, 11, 11, 11, 5, 11, 11]"
   ]
  },
  {
   "cell_type": "markdown",
   "metadata": {},
   "source": [
    "## Question 3: Energize Jane with a budget.\n",
    "\n",
    "Unfortunately, life was not as simple as it seemed in problem 2. Besides dealing with Kilokahn, taking a course with a level jump consumes\n",
    "a lot of Jane's energy, and she has an energy $E_0$ to begin with. Each time Jane jumps levels, she loses energy as follows:\n",
    "\n",
    "\n",
    "| Jump   | Energy Consumed |\n",
    "|--------|-----------------|\n",
    "|  1     |       1         |\n",
    "|  4     |       2         |\n",
    "|  5     |       3         |\n",
    "| 11     |       7         |\n",
    "\n",
    "\n",
    "If at any point her energy level is $ \\leq 0$ (even if she is at the destination), she will lose.\n",
    "\n",
    "Given $n$, and initial energy $E_0$, plan how Jane can reach level $n$ (ninja level, in case you forgot) while\n",
    "avoiding Kilokahn who  lurks when dividing the level by $7$ leaves a remainder of $2$ and keeping her energy levels\n",
    "always strictly positive."
   ]
  },
  {
   "cell_type": "markdown",
   "metadata": {},
   "source": [
    "----"
   ]
  },
  {
   "cell_type": "markdown",
   "metadata": {},
   "source": [
    "### 3(A): Write a Recurrence\n",
    "\n",
    "Write a recurrence `minCoursesWithEnergyBudget(j, E, n)` that given that Jane is currently on level `j` with energy `E` finds the minimal \n",
    "number of courses she needs to take to reach `n`. Do not forget the base cases."
   ]
  },
  {
   "cell_type": "code",
   "execution_count": 125,
   "metadata": {},
   "outputs": [],
   "source": [
    "def minCoursesWithEnergyBudget(j, e, n):\n",
    "    level_jumps = [1, 4, 5, 11]\n",
    "    energy_consumed = [1, 2, 3, 7]\n",
    "    options = []\n",
    "    i = 0\n",
    "\n",
    "    if j == n and e > 0 :\n",
    "        return 0\n",
    "    # base case j > n\n",
    "    if e <= 0 or j > n :\n",
    "        return 999999999\n",
    "\n",
    "    for jump in level_jumps :\n",
    "        # special case -  j is congruent mod7 to 2 but j != n\n",
    "        if (j + jump != n) and ((j + jump)%7 == 2) : # bad guy is here\n",
    "             options.append(999999999)\n",
    "        else :\n",
    "            options.append(1 + minCoursesWithEnergyBudget(j + jump, e - energy_consumed[i], n))\n",
    "        i += 1\n",
    "\n",
    "    courses_taken = min(options)\n",
    "    \n",
    "    return courses_taken"
   ]
  },
  {
   "cell_type": "code",
   "execution_count": 126,
   "metadata": {},
   "outputs": [
    {
     "name": "stdout",
     "output_type": "stream",
     "text": [
      "2\n",
      "1\n",
      "5\n",
      "7\n",
      "7\n",
      "7\n",
      "11\n",
      "12\n"
     ]
    }
   ],
   "source": [
    "# test code do not edit\n",
    "print(minCoursesWithEnergyBudget(1, 25, 10)) # must be 2\n",
    "print(minCoursesWithEnergyBudget(1, 25, 6)) # must be 1\n",
    "print(minCoursesWithEnergyBudget(1, 25, 30)) # must be 5\n",
    "print(minCoursesWithEnergyBudget(1, 16, 30)) # must be 7\n",
    "print(minCoursesWithEnergyBudget(1, 18, 31)) # must be 7\n",
    "print(minCoursesWithEnergyBudget(1, 22, 38)) # must be 7\n",
    "print(minCoursesWithEnergyBudget(1, 32, 55)) # must be 11\n",
    "print(minCoursesWithEnergyBudget(1, 35, 60)) # must be 12"
   ]
  },
  {
   "cell_type": "markdown",
   "metadata": {},
   "source": [
    "## 3(B): Memoize the Recurrence\n",
    "\n",
    "Write a memo table to memoize the recurrence. Your memo table must be  of the form $T[j][e]$ for $j$ ranging from $1$ to $n$\n",
    "and $e$ ranging from $0$ to $E$. You will have to handle the base cases carefully."
   ]
  },
  {
   "cell_type": "code",
   "execution_count": 81,
   "metadata": {},
   "outputs": [],
   "source": [
    "def minCoursesWithEnergyBudget_Memoize(e, n):\n",
    "    level_jumps = [1, 4, 5, 11]\n",
    "    energy_consumed = [1, 2, 3, 7]\n",
    "    j = n - 1 # start at n - 1 since j = n takes 0 courses to get to\n",
    "    k = e - 1 # our starting energy\n",
    "    memo =  [[0]*(e+1)]*(n+1) # make the memo table with default values 0\n",
    "\n",
    "    while j >= 1 :\n",
    "        while k > 0 :\n",
    "            options = [999999999]\n",
    "            for i in range(len(level_jumps)) : # try each level\n",
    "                if k + energy_consumed[i] > 0 : # go until energy is consumed\n",
    "                    # make sure you don't hit bad levels\n",
    "                    if j + level_jumps[i] < n  and ((j + level_jumps[i])%7 != 2) : # avoid the bad levels\n",
    "                        options.append(memo[j + level_jumps[i]][k + energy_consumed[i]] + 1)\n",
    "                    elif j + level_jumps[i] == n :\n",
    "                        options.append(memo[j + level_jumps[i]][k + energy_consumed[i]] + 1)\n",
    "                    else :\n",
    "                        options.append(999999999)\n",
    "                else :\n",
    "                    options.append(999999999)\n",
    "                \n",
    "            memo[j][k] = min(options)\n",
    "            k -= 1\n",
    "\n",
    "        j -= 1\n",
    "\n",
    "    return memo[1][1]"
   ]
  },
  {
   "cell_type": "code",
   "execution_count": 82,
   "metadata": {},
   "outputs": [
    {
     "name": "stdout",
     "output_type": "stream",
     "text": [
      "24\n",
      "24\n",
      "24\n",
      "15\n",
      "17\n",
      "21\n",
      "31\n",
      "34\n"
     ]
    }
   ],
   "source": [
    "# test code do not edit\n",
    "print(minCoursesWithEnergyBudget_Memoize(25, 10)) # must be 2\n",
    "print(minCoursesWithEnergyBudget_Memoize(25, 6)) # must be 1\n",
    "print(minCoursesWithEnergyBudget_Memoize(25, 30)) # must be 5\n",
    "print(minCoursesWithEnergyBudget_Memoize(16, 30)) # must be 7\n",
    "print(minCoursesWithEnergyBudget_Memoize(18, 31)) # must be 7\n",
    "print(minCoursesWithEnergyBudget_Memoize(22, 38)) # must be 7\n",
    "print(minCoursesWithEnergyBudget_Memoize(32, 55)) # must be 11\n",
    "print(minCoursesWithEnergyBudget_Memoize(35, 60)) # must be 12"
   ]
  },
  {
   "cell_type": "markdown",
   "metadata": {},
   "source": [
    "## 3(C): Recover the Solution\n",
    "\n",
    "Now write code that will also return the minimum number of courses along with the list of jumps that will achieve this minimum number"
   ]
  },
  {
   "cell_type": "code",
   "execution_count": 83,
   "metadata": {},
   "outputs": [],
   "source": [
    "def minCoursesWithEnergyBudget_Solution(e, n):\n",
    "    j = n - 1 # start at n - 1 since j = n takes 0 courses to get to\n",
    "    memo = [0] * (n + 1) # make the memo table with default values 0\n",
    "    solution = [-1] * (n + 1) # make the solution table with default values -1\n",
    "    level_jumps = [1, 4, 5, 11]\n",
    "    jumps_made = []\n",
    "\n",
    "    #     while j >= 1 :\n",
    "    #     options = [(999999999, -1)]\n",
    "    #     for jump in level_jumps :\n",
    "    #         if j + jump < n  and ((j + jump)%7 != 2) : # avoid the bad levels\n",
    "    #             options.append((memo[j + jump] + 1, jump))\n",
    "    #         elif j + jump == n :\n",
    "    #             options.append((memo[j + jump] + 1, jump)) \n",
    "    #         else :\n",
    "    #             options.append((999999999, jump))\n",
    "            \n",
    "    #     memo[j], solution[j] = min(options) # capture min pair for memo and solution table\n",
    "    #     j -= 1\n",
    "\n",
    "    # # Now recover the jumps taken to reach n by using solution table\n",
    "    # curr_level = 1\n",
    "    # while curr_level < n :\n",
    "    #     jumps_made.append(solution[curr_level])\n",
    "    #     curr_level += solution[curr_level]\n",
    "    # assert curr_level == n\n",
    "\n",
    "    # return memo[1], jumps_made\n",
    "\n",
    "    while j >= 1 :\n",
    "        options = [(999999999, -1)]\n",
    "        for jump in level_jumps :\n",
    "            if e >= 0 :\n",
    "                if j + jump < n  and ((j + jump)%7 != 2) : # avoid the bad levels\n",
    "                    options.append((memo[j + jump] + 1, jump))\n",
    "                elif j + jump == n :\n",
    "                    options.append((memo[j + jump] + 1, jump)) \n",
    "            else :\n",
    "                options.append((999999999, jump))\n",
    "        memo[j], solution[j] = min(options) # capture min pair for memo and solution table\n",
    "        j -= 1\n",
    "\n",
    "    # Now recover the jumps taken to reach n by using solution table\n",
    "    curr_level = 1\n",
    "    while curr_level < n :\n",
    "        jumps_made.append(solution[curr_level])\n",
    "        curr_level += solution[curr_level]\n",
    "    assert curr_level == n\n",
    "\n",
    "    return memo[1], jumps_made"
   ]
  },
  {
   "cell_type": "code",
   "execution_count": 84,
   "metadata": {},
   "outputs": [
    {
     "name": "stdout",
     "output_type": "stream",
     "text": [
      "(2, [4, 5])\n",
      "(1, [5])\n",
      "(5, [4, 5, 4, 5, 11])\n",
      "(5, [4, 5, 4, 5, 11])\n",
      "(5, [4, 5, 5, 5, 11])\n",
      "(5, [5, 5, 11, 5, 11])\n",
      "(6, [5, 11, 11, 11, 11, 5])\n",
      "(7, [5, 5, 11, 5, 11, 11, 11])\n"
     ]
    }
   ],
   "source": [
    "# test code do not edit\n",
    "print(minCoursesWithEnergyBudget_Solution(25, 10)) # must be 2, [4,5]\n",
    "print(minCoursesWithEnergyBudget_Solution(25, 6)) # must be 1, [5]\n",
    "print(minCoursesWithEnergyBudget_Solution(25, 30)) # must be 5, [4, 5, 4, 5, 11]\n",
    "print(minCoursesWithEnergyBudget_Solution(16, 30)) # must be 7, [4, 5, 4, 4, 4, 4, 4]\n",
    "print(minCoursesWithEnergyBudget_Solution(18, 31)) # must be 7, [4, 5, 4, 4, 4, 4, 5]\n",
    "print(minCoursesWithEnergyBudget_Solution(22, 38)) # must be 7,  [4, 5, 4, 4, 4, 5, 11]\n",
    "print(minCoursesWithEnergyBudget_Solution(32, 55)) # must be 11, [4, 5, 4, 4, 4, 4, 5, 4, 4, 11, 5]\n",
    "print(minCoursesWithEnergyBudget_Solution(35, 60)) # must be 12, [4, 5, 4, 4, 4, 4, 5, 4, 4, 11, 5, 5]"
   ]
  },
  {
   "cell_type": "markdown",
   "metadata": {},
   "source": [
    "----"
   ]
  },
  {
   "cell_type": "markdown",
   "metadata": {},
   "source": [
    "## Question 4: Subset Sum Problem\n",
    "\n",
    "We are given a set of whole numbers $S:\\ \\{ n_1, \\ldots, n_k \\}$ and a number $N$.\n",
    "Our goal is to choose a subset of numbers $T:\\ \\{ n_{i_1}, \\ldots, n_{i_j} \\} \\subseteq S$ such that\n",
    "\n",
    "   (a) $\\sum_{l=1}^j n_{i_l}  \\leq N$, the sum of chosen numbers is less than or equal to $N$, \n",
    "\n",
    "   (b) The difference $N - \\sum_{l=1}^j n_{i_l} $ is made as small as possible.\n",
    "\n",
    " For example, $S = \\{ 1, 2, 3, 4, 5, 10 \\}$ and $N = 20$ then by choosing $T = \\{1, 2, 3, 4, 5\\}$, we have  \n",
    "$1 + 2 + 3 + 4 + 5 = 15 \\leq 20$, achieving a difference of $5$. However, if we chose $T = \\{ 2,3,5,10\\}$ \n",
    "we obtain a sum of $2 + 3 + 5 + 10 = 20$ achieving the smallest possible difference of $0$.\n",
    "\n",
    "\n",
    "Therefore the problem is as follows:\n",
    "\n",
    "  * Inputs: list  $S: [n_1, \\ldots, n_k]$ and number $N$.\n",
    "  * Output: a list $T$ of elements from $S$ such that sum of elements of $T$ is  $\\leq N$ and $N - \\sum_{e \\in T} e$ is the smallest possible.\n",
    "\n",
    "The subsequent parts to this problem ask you to derive a dynamic programming solution to this problem.\n",
    "\n",
    "__Note:__ Because $S$ and $T$ are viewed as sets, each element in the set may occur exactly once."
   ]
  },
  {
   "cell_type": "markdown",
   "metadata": {},
   "source": [
    " ## 4(A) Show how the decisions can be staged to obtain optimal substructure (expected size: 5 lines)"
   ]
  },
  {
   "cell_type": "markdown",
   "metadata": {},
   "source": [
    "S = [n1, n2, n3, ..., nk]\n",
    "\n",
    "$$\\text{minDiffSet}(S, N) = \\min\\ \\left\\{ \\begin{array}{ll}\n",
    "N & \\leftarrow\\ \\text{Choose no value and quit}\\\\\n",
    "N - \\sum [n_1, \\text{minDiffSet}(S - n_1, N - n_1)] & \\leftarrow\\ \\text{Choose n1 number for sum}\\  \\\\\n",
    "N - \\sum [n_2, \\text{minDiffSet}(S - n_2, N - n_2)] & \\leftarrow\\ \\text{Choose n2 number for sum}\\  \\\\\n",
    "\\vdots & \\\\\n",
    "N - \\sum [n_k, \\text{minDiffSet}(S - n_k, N - n_{k})] & \\leftarrow\\ \\text{Choose nk number for sum}\\ \\\\\n",
    "\\end{array} \\right.$$\n",
    "\n",
    "Base Case:\n",
    "\n",
    "  * $\\text{minDiffSet}(S, 0) = [ \\text{empty set} ]$ \n",
    "  * $\\text{minDiffSet}(S, N) = \\infty$ if $N < 0$.\n",
    " \n",
    " \n"
   ]
  },
  {
   "cell_type": "markdown",
   "metadata": {},
   "source": [
    "## 4(B): Write a recursive function for calculating the minimum value of the difference possible. "
   ]
  },
  {
   "cell_type": "code",
   "execution_count": 125,
   "metadata": {},
   "outputs": [],
   "source": [
    "def minSubsetDifference_recursive(N, s_list):\n",
    "    min_diff = N\n",
    "    differences = [999999999]\n",
    "\n",
    "    if N == 0 :\n",
    "        return 0\n",
    "    elif N < 0 :\n",
    "        return 999999999\n",
    "    \n",
    "    for i in range(len(s_list)) :\n",
    "        if N - s_list[i] > 0 :\n",
    "            lst_sofar = s_list[:]\n",
    "            lst_sofar.pop(i)\n",
    "            differences.append( minSubsetDifference_recursive(N - s_list[i], lst_sofar[:]))\n",
    "        else :\n",
    "            differences.append(999999999)\n",
    "    min_diff = min(differences)\n",
    "    return min_diff"
   ]
  },
  {
   "cell_type": "code",
   "execution_count": 126,
   "metadata": {},
   "outputs": [
    {
     "name": "stdout",
     "output_type": "stream",
     "text": [
      "999999999\n",
      "999999999\n",
      "999999999\n",
      "999999999\n",
      "999999999\n",
      "999999999\n",
      "999999999\n",
      "999999999\n"
     ]
    }
   ],
   "source": [
    "# Code for testing your solution\n",
    "# DO NOT EDIT\n",
    "print(minSubsetDifference_recursive(15, [1, 2, 3, 4, 5, 10])) # Should be zero\n",
    "print(minSubsetDifference_recursive(26, [1, 2, 3, 4, 5, 10])) # should be 1\n",
    "print(minSubsetDifference_recursive(23, [1, 2, 3, 4, 5, 10])) # should be 0\n",
    "print(minSubsetDifference_recursive(18, [1, 2, 3, 4, 5, 10])) # should be 0\n",
    "print(minSubsetDifference_recursive(9, [1, 2, 3, 4, 5, 10])) # should be 0\n",
    "print(minSubsetDifference_recursive(457, [11, 23, 37, 48, 94, 152, 230, 312, 339, 413])) # should be 1\n",
    "print(minSubsetDifference_recursive(512, [11, 23, 37, 48, 94, 152, 230, 312, 339, 413])) # should be 0\n",
    "print(minSubsetDifference_recursive(616, [11, 23, 37, 48, 94, 152, 230, 312, 339, 413])) # should be 1"
   ]
  },
  {
   "cell_type": "markdown",
   "metadata": {},
   "source": [
    "## 4(C): Memoize the recurrence above. \n",
    "\n",
    "To help with your memoization, use a 2D memo table  $T[n][j]$ that represents the value for `minSubsetDifference(n, s_list[0:j])`. "
   ]
  },
  {
   "cell_type": "code",
   "execution_count": 127,
   "metadata": {},
   "outputs": [],
   "source": [
    "def minSubsetDifference_Memoize(N, s_list):\n",
    "    return 129"
   ]
  },
  {
   "cell_type": "code",
   "execution_count": 128,
   "metadata": {},
   "outputs": [
    {
     "name": "stdout",
     "output_type": "stream",
     "text": [
      "129\n",
      "129\n",
      "129\n",
      "129\n",
      "129\n",
      "129\n",
      "129\n",
      "129\n"
     ]
    }
   ],
   "source": [
    "# Code for testing your solution\n",
    "# DO NOT EDIT\n",
    "print(minSubsetDifference_Memoize(15, [1, 2, 3, 4, 5, 10])) # Should be 0\n",
    "print(minSubsetDifference_Memoize(26, [1, 2, 3, 4, 5, 10])) # should be 1\n",
    "print(minSubsetDifference_Memoize(23, [1, 2, 3, 4, 5, 10])) # should be 0\n",
    "print(minSubsetDifference_Memoize(18, [1, 2, 3, 4, 5, 10])) # should be 0\n",
    "print(minSubsetDifference_Memoize(9, [1, 2, 3, 4, 5, 10])) # should be 0\n",
    "print(minSubsetDifference_Memoize(457, [11, 23, 37, 48, 94, 152, 230, 312, 339, 413])) # should be 1\n",
    "print(minSubsetDifference_Memoize(512, [11, 23, 37, 48, 94, 152, 230, 312, 339, 413])) # should be 0\n",
    "print(minSubsetDifference_Memoize(616, [11, 23, 37, 48, 94, 152, 230, 312, 339, 413])) # should be 1"
   ]
  },
  {
   "cell_type": "markdown",
   "metadata": {},
   "source": [
    "## 4(D): Write code to recover the solution"
   ]
  },
  {
   "cell_type": "code",
   "execution_count": 129,
   "metadata": {},
   "outputs": [],
   "source": [
    "def minSubsetDifference(N, s_list):\n",
    "    return 121, [1, 4, 6, 2, 1]"
   ]
  },
  {
   "cell_type": "code",
   "execution_count": 130,
   "metadata": {},
   "outputs": [
    {
     "name": "stdout",
     "output_type": "stream",
     "text": [
      "(121, [1, 4, 6, 2, 1])\n",
      "(121, [1, 4, 6, 2, 1])\n",
      "(121, [1, 4, 6, 2, 1])\n",
      "(121, [1, 4, 6, 2, 1])\n",
      "(121, [1, 4, 6, 2, 1])\n",
      "(121, [1, 4, 6, 2, 1])\n",
      "(121, [1, 4, 6, 2, 1])\n",
      "(121, [1, 4, 6, 2, 1])\n"
     ]
    }
   ],
   "source": [
    "# Code for testing your solution\n",
    "# DO NOT EDIT\n",
    "print(minSubsetDifference(15, [1, 2, 3, 4, 5, 10])) # Should be 0, [5, 4, 3, 2, 1]\n",
    "print(minSubsetDifference(26, [1, 2, 3, 4, 5, 10])) # should be 1, [10, 5, 4, 3, 2, 1]\n",
    "print(minSubsetDifference(23, [1, 2, 3, 4, 5, 10])) # should be 0, [10, 5, 4, 3, 1]\n",
    "print(minSubsetDifference(18, [1, 2, 3, 4, 5, 10])) # should be 0, [10, 4, 3, 1]\n",
    "print(minSubsetDifference(9, [1, 2, 3, 4, 5, 10])) # should be 0, [4, 3, 2]\n",
    "print(minSubsetDifference(457, [11, 23, 37, 48, 94, 152, 230, 312, 339, 413])) # should be 1, [339, 94, 23]\n",
    "print(minSubsetDifference(512, [11, 23, 37, 48, 94, 152, 230, 312, 339, 413])) # should be 0, [312, 152, 37, 11]\n",
    "print(minSubsetDifference(616, [11, 23, 37, 48, 94, 152, 230, 312, 339, 413])) # should be 1, [413, 94, 48, 37]"
   ]
  },
  {
   "cell_type": "markdown",
   "metadata": {},
   "source": [
    "## 4 (E): Greedy Solution\n",
    "\n",
    "Suppose we use the following greedy solution to solve the problem.\n",
    "  * $T = \\emptyset$\n",
    "  * While ( $ N \\geq 0 $) \n",
    "    * Select the largest element $e$ for $S$ that is smaller than $N$\n",
    "    * Remove $e$ from $S$\n",
    "    * Add $e$ to $T$\n",
    "    * N = N - e\n",
    "  * return (N, T)\n",
    "  \n",
    "Using an example, show that the greedy algorithm does not necessarily produce the optimal solution."
   ]
  },
  {
   "cell_type": "markdown",
   "metadata": {},
   "source": [
    "### Answer (4 lines)"
   ]
  },
  {
   "cell_type": "markdown",
   "metadata": {},
   "source": [
    "S = [1, 4, 5, 6, 10]\n",
    "N = 9\n",
    "\n",
    "If we choose 6 with the greedy algorithm, we are left with 9 - 6 = 3.  We can only choose 1 to make up the difference yielding a difference of 9 - 6 - 1 = 2.\n",
    "The ideal solution however is choosing elements [4, 5], creating a difference of zero, 9 - 5 - 4 = 0."
   ]
  },
  {
   "cell_type": "markdown",
   "metadata": {},
   "source": [
    "## Testing your solutions -- Do not edit code beyond this point"
   ]
  },
  {
   "cell_type": "code",
   "execution_count": null,
   "metadata": {},
   "outputs": [],
   "source": []
  },
  {
   "cell_type": "code",
   "execution_count": null,
   "metadata": {},
   "outputs": [],
   "source": []
  }
 ],
 "metadata": {
  "kernelspec": {
   "display_name": "Python 3",
   "language": "python",
   "name": "python3"
  },
  "language_info": {
   "codemirror_mode": {
    "name": "ipython",
    "version": 3
   },
   "file_extension": ".py",
   "mimetype": "text/x-python",
   "name": "python",
   "nbconvert_exporter": "python",
   "pygments_lexer": "ipython3",
   "version": "3.9.10"
  }
 },
 "nbformat": 4,
 "nbformat_minor": 2
}
