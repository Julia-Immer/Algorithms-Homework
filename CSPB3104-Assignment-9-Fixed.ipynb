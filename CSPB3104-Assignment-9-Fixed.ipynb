{
 "cells": [
  {
   "cell_type": "markdown",
   "metadata": {},
   "source": [
    "# CSPB 3104 Assignment 9\n",
    "## Instructions\n",
    "\n",
    "> This assignment is to be completed and uploaded to \n",
    "moodle as a python3 notebook. \n",
    "\n",
    "> Submission deadlines are posted on moodle. \n",
    "\n",
    "> The questions  provided  below will ask you to either write code or \n",
    "write answers in the form of markdown.\n",
    "\n",
    "> Markdown syntax guide is here: [click here](https://github.com/adam-p/markdown-here/wiki/Markdown-Cheatsheet)\n",
    "\n",
    "> Using markdown you can typeset formulae using latex.\n",
    "\n",
    "> This way you can write nice readable answers with formulae like thus:\n",
    "\n",
    ">> The algorithm runs in time $\\Theta\\left(n^{2.1\\log_2(\\log_2( n \\log^*(n)))}\\right)$, \n",
    "wherein $\\log^*(n)$ is the inverse _Ackerman_ function.\n",
    "\n",
    "__Double click anywhere on this box to find out how your instructor typeset it. Press Shift+Enter to go back. __\n"
   ]
  },
  {
   "cell_type": "markdown",
   "metadata": {},
   "source": [
    "## Question 1: Most Likely Mutation Tree\n",
    "\n",
    "This question is inspired by this research article: *Spada et al. J Clin Microbiol. 2004 Sep; 42(9): 4230–4236.* and this episode of the erstwhile popular TV show Numb3rs https://www.hulu.com/watch/315041 (need a hulu subscription).\n",
    "\n",
    "\n",
    "Viruses have RNA which mutate rapidly. Let us assume that the RNA of a viral species can be written as\n",
    "an $l$ letter string made up of A, C, T and G.  While replicating, a virus can mutate through random changes in \n",
    "$k$ out of these $l$ positions with probability proportional to  $2^{-k^2}$.  \n",
    "\n",
    "We collect viral samples starting from a single individual and after sequencing, \n",
    "we observe $n$ mutants $A_1, \\ldots, A_n$, but we do not know which individual mutated to another nor what the order of these mutations were. We wish to  reconstruct the mutation tree that connects $A_i$ to $A_j$ if $A_i$ mutated into $A_j$ or vice-versa. \n",
    "\n",
    "Assume that $l$ is large enough that the same RNA sequence cannot be obtained through two different sequences of mutations.\n",
    "\n",
    "You are given a weighted undirected graph $G$ whose vertices are the RNA sequences $A_1, \\ldots, A_n$ and there is an edge between any two nodes $(A_i, A_j)$ with weight $2^{-d(i,j)^2}$, where $d(i,j)$ is the the number of differences between  $A_i$ and $A_j$. \n",
    "\n",
    "A spanning tree $T$ of $G$ then represents a possible history of mutations, the likelihood of which is given by the product of the edge weights of $T$.\n",
    "\n",
    "Show how to compute the most likely spanning tree $T$ in this graph.\n"
   ]
  },
  {
   "cell_type": "markdown",
   "metadata": {},
   "source": [
    "#### Answer 1 (Expected Length: 6 lines)\n",
    "\n",
    "Use Prim's Algorithm to create the minimal spanning tree (MST) of G starting from the original mutation node.\n",
    "\n",
    "This finds the shortest distance between each mutation, which is the same as the fewest number of changes necessary to tie mutations together.  Since we started with the parent sequence node, all edges crossing are examined in Prim's and only the shortest (most likely) is chosen.\n",
    "\n",
    "The MST is the most likely chain of mutations.\n",
    "\n",
    "\n",
    "Comment:\n",
    "I found this a little confusing at first as the probability of an event occurring is supposed to be between a number 0 and 1.  I believe the probability of a given mutation would be: 1/$2^{-k^2}$ for k changes. In this case it would be inversely proportional.  I can see how the problem wouldn't work if we had the true probability as the weight though (We would then want to find the maximum spanning tree to find the most likely changes)."
   ]
  },
  {
   "cell_type": "markdown",
   "metadata": {},
   "source": [
    "### Question 2 (A): Distance Between Clusters\n",
    "\n",
    "Let $G$ be a weighted undirected graph with vertices $V$ and edges $E$. \n",
    "\n",
    "Assume that all edge weights are unique and let $T$ be a MST for this graph.\n",
    "\n",
    "Let us partition the vertices into two clusters $V_1$ and $V_2$. If an edge $e: (u,v)$ satisfies\n",
    "$u \\in V_1$ and $v\\in V_2$, we will call it _partition crossing_.\n",
    "\n",
    "We define the distance between these clusters\n",
    "as the minimum weight among all partition crossing edges of the graph. \n",
    "\n",
    "Show that the minimum weight partition crossing edge must belong to the MST $T$.\n",
    "\n",
    "__Hint:__ Attempt a proof by contradiction."
   ]
  },
  {
   "cell_type": "markdown",
   "metadata": {},
   "source": [
    "### Answer 2(A) ( Expected Length: 6 lines)\n",
    "If e is the min weight crossing edge, then it must belong to the MST T.\n",
    "\n",
    "Proof by contridiction:\n",
    "\n",
    "Let $w(edge)$ be the weight of an edge.\n",
    "\n",
    "Assume e is the min weight crossing edge and it does NOT belong to T.  Therefore $w(e) \\leq w(u, v)$, for all $(u, v) \\in G$ where $u \\in V_1$ and $v \\in V_2$.\n",
    "\n",
    "Since all weights are unique, $w(e) \\ne w((u,v))$ and $w(e) < w((u,v))$ for all $(u, v) \\in G$.\n",
    "\n",
    "Since e is not in T, there must be another boundary crossing edge, say $e'$, which is a member of T, since T contains all nodes in $V_1$ and $V_2$.\n",
    "\n",
    "Since $e' \\in T$, $w(e') < w(e)$ due to the build process of a MST, e not being in T, and the weights being unique.\n",
    "\n",
    "But $w(e) < w(e')$ since e is the minimum edge!  Contradiction. QED"
   ]
  },
  {
   "cell_type": "markdown",
   "metadata": {},
   "source": [
    "## Question 2 (B) : Distance Between Point Clusters\n",
    "\n",
    "Let $\\mathcal{Q}:\\ \\{ (x_1,y_1), \\ldots, (x_n, y_n)\\}$ be the coordinates of $n$ points on a plane. Given a partition of $\\mathcal{Q}$ into two clusters $\\mathcal{Q}_1$ and $\\mathcal{Q}_2$, the distance between these clusters is defined as the smallest among the pairwise distances taking one point in $\\mathcal{Q}_1$ and one in $\\mathcal{Q}_2$:\n",
    " \n",
    " $$d(\\mathcal{Q}_1, \\mathcal{Q}_2) = \\min_{ (x_i, y_i) \\in \\mathcal{Q}_1, (x_j, y_j) \\in \\mathcal{Q}_2}\\ \\sqrt{(y_j-y_i)^2 + (x_j - x_i)^2} \\,.$$\n",
    "\n",
    "Given such a partition of $\\mathcal{Q}$, write an efficient algorithm to calculate the distance between them. In particular, we would like you to use the idea from 2(A) for this task. Also, what is the complexity of your method?\n"
   ]
  },
  {
   "cell_type": "markdown",
   "metadata": {},
   "source": [
    "### Answer 2 (B) (Expected Length: 8 lines)\n",
    "\n",
    "Make a graph where each edge connects a point in $Q_1$ to every other point in $Q_2$ and vice versa, and let the weight be the distance between the two points as found by the standard distance formula. Put the edges into a list.\n",
    "Time: $\\theta (|Q_1| * |Q_2|)$\n",
    "\n",
    "Run a modified Kruskal's Algorithm using the list of all edges drawn above, but instead of sorting, scan for the smallest edge and return the very first minimum edge found.\n",
    "Time: $\\theta (|Q_1| * |Q_2|)$ - (the time it took to scan. honestly not sure it was worth calling Kruskal's)\n",
    "\n",
    "Because it is the very first edge found by Kruskal's and we only have edges that cross the boundary, we have found the minimum distance between a point in $Q_1$ and a point in $Q_2$.\n",
    "\n",
    "If our graph were complete, all boundary crossing edges would have been examined in the step above and the same minimum would have been found to cross the boundary.  By 2A we know this edge would be the only boundary crossing edge in the minimum spanning tree, thereby making it the minimum distance.\n",
    "\n",
    "Total time: $\\theta (|Q_1| * |Q_2|)$\n"
   ]
  },
  {
   "cell_type": "markdown",
   "metadata": {},
   "source": [
    "### Question 2(C): Finding maximally separated clusters\n",
    "\n",
    "Now you are given $\\mathcal{Q}$ as above ($n$ points scattered in the plane), but without a partition.\n",
    "Use the idea from 2(B) to partition the set $\\mathcal{Q}$ into maximally separated clusters $\\mathcal{Q}_1$ and $\\mathcal{Q}_2$.  Ie, find $\\mathcal{Q}_1$ and $\\mathcal{Q}_2$ such that\n",
    "$d(\\mathcal{Q}_1, \\mathcal{Q}_2)$ is maximized.\n",
    "\n"
   ]
  },
  {
   "cell_type": "markdown",
   "metadata": {},
   "source": [
    "### Answer 2(C) (Expected Size: 4 lines)\n",
    "\n",
    "Construct a graph which is complete with all points connected to all other points in Q, and let each edge be weighted with the distance between the two coordinates. Store it in an adjacency matrix.\n",
    "Time: $\\theta (|Q|*|Q|)$\n",
    "\n",
    "Run Prim's algorithm and construct your minimum spanning tree.  \n",
    "Time: $\\theta (|Q|*|Q|)$ - since |Q|*|Q| are the number of edges and we use linear scanning of the matrix since the graph is very full.\n",
    "\n",
    "Look through the edges in the MST and find the largest one.  Let's say it's edge (u, v), where u is the parent of v. Put v and all of its descendants in one partition, and then all nodes (points) left in the other partition.  Now you have them seperated by the maximum minimum difference using 2b.\n",
    "Time: $\\theta (|Q|)$\n",
    "\n",
    "Total time is $\\theta (|Q|*|Q|)$\n"
   ]
  },
  {
   "cell_type": "markdown",
   "metadata": {},
   "source": [
    "## Question 3:  Circular dependencies\n",
    "\n",
    "Jane Programmer (of the dreaded dynamic programming assignment) has been reviewing her school's course catalog.  Classes in her department are organized into 8 divisions -- PBNJ-1000 through PBNJ-8999, with each division more difficult than the last.  But Jane has noticed some issues -- some upper division classes have lower division prerequisites, but the opposite is true as well.  In fact, her current course, PBNJ-3104, requires PBNJ-2400 and PBNJ-2400 requires PBNJ-1300, but PBNJ-1300 requires PBNJ-3104! \n",
    "\n",
    "She wants to report these circular dependencies to the dean of the department by finding two classes which depend on each other and have the largest difference in class number.  In the example above, PBNJ-3104 and PBNJ-1300 depend on each other and have a difference of 3104 - 1300 = 1804.\n",
    "\n",
    "Given a list of classes and their prerequisites, describe an algorithm that will help Jane find the pair of classes with maximum difference between their class numbers.\n",
    "\n",
    "What is the running time of your algorithm in terms of number of classes and prereqs?\n",
    "\n",
    "__HINT:__ Your algorithm should involve the strongly connected components of a graph."
   ]
  },
  {
   "cell_type": "markdown",
   "metadata": {},
   "source": [
    "breakdown stuff into strongly connected components using our algorithms from the first half of the week.  two depth first searches"
   ]
  },
  {
   "cell_type": "markdown",
   "metadata": {},
   "source": [
    "### Answer 3  (Expected Length: 5 lines) - still not sure how to do that!\n",
    "Make a graph where each node is a course number and each edge is directed according to the dependencies in the given list.  If 3104 requires 1300 then the edge points from 1300 to 3104. Use an adjacency list.\n",
    "\n",
    "Find the maximal strongly connected components using two depth first searches, the first one on the regular graph and the second on the reverse graph, like we saw in the lecture Strongly Connected Components: Algorithms.\n",
    "\n",
    "This is a way of finding all the cycles and a cycle is what we need to identify to find the interdependent courses.  Any maximally strongly connected component with more than one course in it has a cycle.\n",
    "\n",
    "```\n",
    "max_diff = 0\n",
    "courses_to_report = []\n",
    "\n",
    "for each mscc in the MSCCs list :\n",
    "    mscc.mergesort() # |V|log|V| when you add all mscc's together\n",
    "    if mscc[0] != mscc[-1] and |mscc[0] - mscc[-1]| > max_diff :\n",
    "        courses_to_report = [mscc[0], mscc[-1]]\n",
    "        max_diff = |mscc[0] - mscc[-1]|\n",
    "\n",
    "return max_diff, courses_to_report\n",
    "```\n",
    "\n",
    "#### Complexity:\n",
    "Making graph: $\\theta (|V| + |E|)$\n",
    "\n",
    "MSCC finding algorithm: $\\theta (|V|log|V| + |E|)$\n",
    "\n",
    "Max_diff pseudocode: $O(|V|log|V|)$\n",
    "\n",
    "Since V = courses and E = dependencies,\n",
    "\n",
    "Total: $O(|courses|*log|courses| + |dependencies|)$"
   ]
  },
  {
   "cell_type": "markdown",
   "metadata": {},
   "source": [
    "## Testing your solutions -- Do not edit code beyond this point"
   ]
  },
  {
   "cell_type": "code",
   "execution_count": null,
   "metadata": {},
   "outputs": [],
   "source": []
  }
 ],
 "metadata": {
  "kernelspec": {
   "display_name": "Python 3",
   "language": "python",
   "name": "python3"
  },
  "language_info": {
   "codemirror_mode": {
    "name": "ipython",
    "version": 3
   },
   "file_extension": ".py",
   "mimetype": "text/x-python",
   "name": "python",
   "nbconvert_exporter": "python",
   "pygments_lexer": "ipython3",
   "version": "3.9.10"
  }
 },
 "nbformat": 4,
 "nbformat_minor": 2
}
