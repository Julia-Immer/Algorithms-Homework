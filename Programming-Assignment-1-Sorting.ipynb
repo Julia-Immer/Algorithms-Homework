{
 "cells": [
  {
   "cell_type": "markdown",
   "metadata": {},
   "source": [
    "# Programming Assignment \\# 1\n",
    "\n",
    "__Goal:__ \n",
    "\n",
    "This programming assignment will ask you to do the following tasks.\n",
    "\n",
    "(a) Implement some of the sorting algorithms for sorting integer data in ascending order in python3.\n",
    "  - Simple sort (implemented for you)\n",
    "  - Bubble Sort (read from book or online sources)\n",
    "  - Merge Sort\n",
    "  - Quicksort \n",
    "  \n",
    "  \n",
    "(b) Your implementation must count the number of *compare* operations each sorting algorithm carries out.\n",
    "    \n",
    "(c) You must formulate a series of arrays of lengths from $5$ to $100$  (step by 5), that will form the worst case of these\n",
    "sorting algorithms and plot the number of comparisons in the __worst case__ vs. size of input array (x axis)\n",
    " \n",
    "(d) Generate $1000$ random inputs for each size and compute average time. Plot the size of input array (x axis) vs. number of comparisons (y axis)"
   ]
  },
  {
   "cell_type": "markdown",
   "metadata": {},
   "source": [
    "----\n",
    "## Simple Sort"
   ]
  },
  {
   "cell_type": "code",
   "execution_count": 109,
   "metadata": {},
   "outputs": [],
   "source": [
    "%matplotlib inline\n",
    "import matplotlib\n",
    "import numpy as np\n",
    "import matplotlib.pyplot as plt\n",
    "\n",
    "def simple_sort(a):\n",
    "    # must sort the array a in place and return the number of comparisons\n",
    "    num_compare = 0\n",
    "    n = len(a)\n",
    "    for i in range(0, n): # i goes from 0 to n-1\n",
    "        for j in range(i+1, n): # j goes from i+1 to n-1\n",
    "            num_compare = num_compare + 1\n",
    "            if a[i] >= a[j]:\n",
    "                # swap\n",
    "                a[i], a[j] = a[j], a[i]\n",
    "    return num_compare"
   ]
  },
  {
   "cell_type": "code",
   "execution_count": 110,
   "metadata": {},
   "outputs": [
    {
     "name": "stdout",
     "output_type": "stream",
     "text": [
      "Num Comparison =  45\n",
      "Sorted Result =  [-2, -1, 1, 2, 3, 3, 4, 10, 15, 29]\n"
     ]
    }
   ],
   "source": [
    "# TESTING CODE\n",
    "a = [3, 10, 1, 29, -1, 4, 3, 15, 2, -2]\n",
    "nc = simple_sort(a)\n",
    "print('Num Comparison = ', nc)\n",
    "print('Sorted Result = ', a)"
   ]
  },
  {
   "cell_type": "markdown",
   "metadata": {},
   "source": [
    "### Complexity analysis of simple sort.\n",
    "\n",
    "Note that simple sort consists of two loops and regardless of the input array, the first loop runs from n steps. And the second loop runs $n-i-1$ steps where $i$ is the index of the first loop. Thus, the worst case, best case and average case complexity should be $\\sum_{j=1}^{n-1} j = \\frac{n(n-1)}{2}$ comparisons = $\\Theta(n^2)$\n",
    "\n",
    "The code below plots it for arrays of size 5, 10, ..., 100. However, we cannot really distinguish between the number of comparisons for randomized vs. worst case."
   ]
  },
  {
   "cell_type": "code",
   "execution_count": 111,
   "metadata": {},
   "outputs": [
    {
     "data": {
      "image/png": "[encoded data removed]",
      "text/plain": [
       "<Figure size 432x288 with 1 Axes>"
      ]
     },
     "metadata": {
      "needs_background": "light"
     },
     "output_type": "display_data"
    }
   ],
   "source": [
    "import random\n",
    "\n",
    "# CODE TO GENERATE WORST CASE\n",
    "array_sizes = range(5, 100, 5)\n",
    "\n",
    "# Code for creating an already sorted array\n",
    "def create_ascending_sorted_array(a_size):\n",
    "    a = []\n",
    "    for i in range(a_size):\n",
    "        a.append(i)\n",
    "    return a\n",
    "\n",
    "# Code for creating a random array\n",
    "def create_random_shuffled_array(a_size):\n",
    "    a = list(range(a_size))\n",
    "    random.shuffle(a)\n",
    "    return a\n",
    "\n",
    "\n",
    "# Code for running sorting and generating number of compares\n",
    "num_compares_wc = []\n",
    "for n in array_sizes:\n",
    "    a = create_ascending_sorted_array(n)\n",
    "    nc = simple_sort(a)\n",
    "    num_compares_wc.append(nc)\n",
    "    \n",
    "# Randomized comparisons\n",
    "num_compares_random = []\n",
    "num_trials = 1000\n",
    "for n in array_sizes:\n",
    "    total = 0\n",
    "    for m in range(num_trials):\n",
    "        a = create_random_shuffled_array(n)\n",
    "        nc = simple_sort(a)\n",
    "        total = total + nc\n",
    "    avg = total / num_trials\n",
    "    num_compares_random.append(avg)\n",
    "# Code for plotting\n",
    "\n",
    "plt.plot(array_sizes, num_compares_wc, label='Worst Case')\n",
    "plt.plot(array_sizes, num_compares_random, label='Average Case')\n",
    "plt.legend(['Worst Case', 'Average Case'])\n",
    "plt.title('Simple Sort (Worst and Average Cases)')\n",
    "plt.xlabel('Array Size')\n",
    "plt.ylabel('Number of Comparisons')\n",
    "\n",
    "plt.show()"
   ]
  },
  {
   "cell_type": "markdown",
   "metadata": {},
   "source": [
    "----\n",
    "\n",
    "### Bubble Sort"
   ]
  },
  {
   "cell_type": "code",
   "execution_count": 112,
   "metadata": {},
   "outputs": [],
   "source": [
    "def bubble_sort(a):\n",
    "    # Implement code to bubble sort the given array a in place.\n",
    "    # Also return the number of comparisons. \n",
    "    num_compares = 0\n",
    "    swapped = False\n",
    "    n = len(a)\n",
    "\n",
    "    # we must go through the unsorted portion of \n",
    "    # the list n times unless it is sorted\n",
    "    for i in range(n) :\n",
    "        for j in range(n - i - 1) : # only look at unsorted front of list\n",
    "            num_compares += 1\n",
    "            if a[j] > a[j+1] :\n",
    "                a[j+1], a[j] = a[j], a[j+1] # swap larger for smaller element\n",
    "                swapped = True\n",
    "        \n",
    "        # if array hasn't had any swaps it is sorted\n",
    "        if not swapped :\n",
    "            break\n",
    "    \n",
    "    return num_compares"
   ]
  },
  {
   "cell_type": "markdown",
   "metadata": {},
   "source": [
    "### Complexity Analysis of Bubble Sort\n",
    "\n",
    "__Todo: explain what the worst and average cases are. Explain how you would craft inputs for the worst case __\n",
    "\n",
    "The worst case of bubble sort occurs when the smallest element is at the very end of the list.  In order to move that item to the front, where it belongs, the algorithm will have to go through all iterations.  Each loop iteration, the smallest one would be moved only one space closer to the front.  I generated arrays that were in descending order to simulate the worst case.\n",
    "\n"
   ]
  },
  {
   "cell_type": "code",
   "execution_count": 113,
   "metadata": {},
   "outputs": [],
   "source": [
    "def make_descending_sorted_array(cap) :\n",
    "    a = []\n",
    "    # makes descending sorted array [cap, cap-1, ..., 2, 1]\n",
    "    for i in range(cap) :\n",
    "        a.append(cap-i)\n",
    "\n",
    "    return a"
   ]
  },
  {
   "cell_type": "code",
   "execution_count": 114,
   "metadata": {},
   "outputs": [
    {
     "data": {
      "image/png": "[encoded data removed]",
      "text/plain": [
       "<Figure size 432x288 with 1 Axes>"
      ]
     },
     "metadata": {
      "needs_background": "light"
     },
     "output_type": "display_data"
    }
   ],
   "source": [
    "## WRITE CODE HERE TO GENERATE WORST CASE and AVERAGE CASE INPUTS/PLOT\n",
    "## You may cut and paste from code we provided or directly call them\n",
    "array_sizes = range(5, 100, 5)\n",
    "\n",
    "# Code for running sorting and generating number of compares\n",
    "# Worst case is an array input that's in descending order\n",
    "num_compares_wc = []\n",
    "for n in array_sizes:\n",
    "    a = make_descending_sorted_array(n)\n",
    "    nc = bubble_sort(a)\n",
    "    num_compares_wc.append(nc)\n",
    "    \n",
    "# Randomized arrays for Average Case\n",
    "num_compares_random = []\n",
    "num_trials = 1000\n",
    "for n in array_sizes:\n",
    "    total = 0\n",
    "    for m in range(num_trials):\n",
    "        a = create_random_shuffled_array(n)\n",
    "        nc = bubble_sort(a)\n",
    "        total+=nc\n",
    "    avg = total / num_trials\n",
    "    num_compares_random.append(avg)\n",
    "\n",
    "# Code for plotting\n",
    "plt.plot(array_sizes, num_compares_wc, label='Worst Case')\n",
    "plt.plot(array_sizes, num_compares_random, label='Average Case')\n",
    "plt.legend(['Worst Case', 'Average Case'])\n",
    "plt.title('Bubble Sort (Worst and Average Cases)')\n",
    "plt.xlabel('Array Size')\n",
    "plt.ylabel('Number of Comparisons')\n",
    "plt.show()"
   ]
  },
  {
   "cell_type": "markdown",
   "metadata": {},
   "source": [
    "----\n",
    "### Merge Sort"
   ]
  },
  {
   "cell_type": "code",
   "execution_count": 115,
   "metadata": {},
   "outputs": [],
   "source": [
    "def merge(a, start, mid, stop):\n",
    "    num_compares = 0\n",
    "    sort_array = []\n",
    "    i = start\n",
    "    j = mid + 1\n",
    "\n",
    "    # Sort elements in sublists by adding\n",
    "    # one-by-one to new array\n",
    "    while i <= mid and j <= stop :\n",
    "        if a[i] <= a[j] :\n",
    "            sort_array.append(a[i])\n",
    "            i += 1\n",
    "        else :\n",
    "            sort_array.append(a[j])\n",
    "            j += 1\n",
    "        num_compares += 1\n",
    "\n",
    "    # Copy any remaining elements\n",
    "    # Only one will execute\n",
    "    while i <= mid :\n",
    "        sort_array.append(a[i])\n",
    "        i += 1\n",
    "    while j <= stop :\n",
    "        sort_array.append(a[j])\n",
    "        j += 1\n",
    "\n",
    "    # Copy sorted array back to original\n",
    "    for num in sort_array :\n",
    "        a[start] = num\n",
    "        start += 1\n",
    "\n",
    "    return num_compares\n"
   ]
  },
  {
   "cell_type": "code",
   "execution_count": 116,
   "metadata": {},
   "outputs": [],
   "source": [
    "def merge_sort_recursive(a, start, stop) :\n",
    "    num_compares = 0\n",
    "\n",
    "    # Base Case: size <= 1\n",
    "    if stop - start < 1 :\n",
    "        return num_compares\n",
    "\n",
    "    mid = (stop + start)//2 # divide array here\n",
    "\n",
    "    # recursively divide each side until single\n",
    "    # element lists are obtained\n",
    "    num_compares += merge_sort_recursive(a, start, mid)\n",
    "    num_compares += merge_sort_recursive(a, mid+1, stop)\n",
    "\n",
    "    # sort while merging split array back together\n",
    "    num_compares += merge(a, start, mid, stop)\n",
    "\n",
    "    return num_compares"
   ]
  },
  {
   "cell_type": "code",
   "execution_count": 117,
   "metadata": {},
   "outputs": [],
   "source": [
    "def merge_sort(a):\n",
    "    # Implement the code for merge sort\n",
    "    # Use a function merge_sort_recursive to implement the recursive call\n",
    "    # Be careful in counting number of comparisons since you should include comparisons in the merge part.\n",
    "    # Also: code needs to sort the array a. You may have to copy things over from a temp array back into a.\n",
    "    num_compares = merge_sort_recursive(a, 0, len(a)-1)\n",
    "    return num_compares"
   ]
  },
  {
   "cell_type": "markdown",
   "metadata": {},
   "source": [
    "### Complexity Analysis of Merge Sort\n",
    "\n",
    "__Todo: explain what the worst and average cases are. Explain how you would craft inputs for the worst case __\n"
   ]
  },
  {
   "cell_type": "code",
   "execution_count": 118,
   "metadata": {},
   "outputs": [],
   "source": [
    "def make_ascending_sorted_array(size):\n",
    "    a = []\n",
    "    for i in range(size):\n",
    "        a.append(i)\n",
    "\n",
    "    return a"
   ]
  },
  {
   "cell_type": "code",
   "execution_count": 119,
   "metadata": {},
   "outputs": [],
   "source": [
    "# assume it takes in list of a size that is a power of two\n",
    "def wc_merge(wc, start, mid, stop):\n",
    "    wc_array = []\n",
    "    i = start\n",
    "    j = mid + 1\n",
    "    choose_from_first_array = False\n",
    "\n",
    "    # Jumble elements in sublists by jumbling pairs\n",
    "    if stop - start < 2 :\n",
    "        wc[start], wc[stop] = wc[stop], wc[start] # swap sorted elements\n",
    "        return\n",
    "    \n",
    "    while i <= mid and j <= stop :\n",
    "        if choose_from_first_array == True :\n",
    "            wc_array.append(wc[i])\n",
    "            i += 1\n",
    "            choose_from_first_array = False\n",
    "        else:\n",
    "            wc_array.append(wc[j])\n",
    "            j += 1\n",
    "            choose_from_first_array = True\n",
    "\n",
    "    # Copy any remaining elements\n",
    "    # Only one will execute\n",
    "    while i <= mid :\n",
    "        wc_array.append(a[i])\n",
    "        i += 1\n",
    "    while j <= stop :\n",
    "        wc_array.append(a[j])\n",
    "        j += 1\n",
    "\n",
    "    # Copy sorted array back to original\n",
    "    for num in wc_array :\n",
    "        wc[start] = num\n",
    "        start += 1\n",
    "    \n",
    "    return"
   ]
  },
  {
   "cell_type": "code",
   "execution_count": 120,
   "metadata": {},
   "outputs": [],
   "source": [
    "def wc_mergesort_divide(wc, start, stop):\n",
    "    # base case\n",
    "    if stop - start < 1 :\n",
    "        return\n",
    "\n",
    "    mid = (start + stop)//2\n",
    "    # divide left and right side till base case\n",
    "    wc_mergesort_divide(wc, start, mid)\n",
    "    wc_mergesort_divide(wc, mid + 1, stop)\n",
    "\n",
    "    # merge and jumble\n",
    "    wc_merge(wc, start, mid, stop)\n",
    "\n",
    "    return\n"
   ]
  },
  {
   "cell_type": "code",
   "execution_count": 121,
   "metadata": {},
   "outputs": [],
   "source": [
    "def worst_case_mergesort(size):\n",
    "    wc = make_ascending_sorted_array(size)\n",
    "\n",
    "    wc_mergesort_divide(wc, 0, len(wc)-1)\n",
    "\n",
    "    return wc"
   ]
  },
  {
   "cell_type": "code",
   "execution_count": 131,
   "metadata": {},
   "outputs": [
    {
     "name": "stdout",
     "output_type": "stream",
     "text": [
      "[7, 3, 5, 1, 6, 2, 5, 3]\n"
     ]
    }
   ],
   "source": [
    "## WRITE CODE HERE TO GENERATE WORST CASE and AVERAGE CASE INPUTS/PLOT\n",
    "## You may cut and paste from code we provided or directly call them\n",
    "size = 8\n",
    "wc = worst_case_mergesort(size)\n",
    "print(wc)"
   ]
  },
  {
   "cell_type": "markdown",
   "metadata": {},
   "source": [
    "----\n",
    "### Quick Sort\n"
   ]
  },
  {
   "cell_type": "code",
   "execution_count": 132,
   "metadata": {},
   "outputs": [],
   "source": [
    "def quick_sort(a):\n",
    "    # Implement code for quick sort\n",
    "    # Must sort the array a in place\n",
    "    # Must return the number of comparisons\n",
    "    return # you can implement it how you wish"
   ]
  },
  {
   "cell_type": "markdown",
   "metadata": {},
   "source": [
    "### Complexity Analysis of Quick Sort\n",
    "\n",
    "__Todo: explain what the worst and average cases are. Explain how you would craft inputs for the worst case __\n"
   ]
  },
  {
   "cell_type": "code",
   "execution_count": 133,
   "metadata": {},
   "outputs": [],
   "source": [
    "## WRITE CODE HERE TO GENERATE WORST CASE and AVERAGE CASE INPUTS/PLOT\n",
    "## You may cut and paste from code we provided or directly call them"
   ]
  },
  {
   "cell_type": "markdown",
   "metadata": {},
   "source": [
    "-----\n",
    "## Testing Code: Do not edit\n",
    "\n"
   ]
  },
  {
   "cell_type": "code",
   "execution_count": 134,
   "metadata": {},
   "outputs": [],
   "source": [
    "def test_sorting_algorithm(sort_fun, sz, num_trials):\n",
    "    num_passed = 0\n",
    "    for i in range(num_trials):\n",
    "        a = create_random_shuffled_array(sz)\n",
    "        a_orig = list(a) # make a copy\n",
    "        b = sorted(a)\n",
    "        nc = sort_fun(a)\n",
    "        if a == b:\n",
    "            num_passed = num_passed + 1\n",
    "        else:\n",
    "            print('----')\n",
    "            print('FAILED: Input = ', a_orig)\n",
    "            print('Expected: ', b)\n",
    "            print('Obtained:', a)\n",
    "            print('----')\n",
    "    print('Num Trials = ', num_trials)\n",
    "    print('Num Passed = ', num_passed)"
   ]
  },
  {
   "cell_type": "code",
   "execution_count": 135,
   "metadata": {},
   "outputs": [
    {
     "name": "stdout",
     "output_type": "stream",
     "text": [
      "Num Trials =  100\n",
      "Num Passed =  100\n"
     ]
    }
   ],
   "source": [
    "test_sorting_algorithm(simple_sort, 50, 100)"
   ]
  },
  {
   "cell_type": "code",
   "execution_count": 136,
   "metadata": {},
   "outputs": [
    {
     "name": "stdout",
     "output_type": "stream",
     "text": [
      "Num Trials =  10\n",
      "Num Passed =  10\n"
     ]
    }
   ],
   "source": [
    "test_sorting_algorithm(bubble_sort, 10, 10)"
   ]
  },
  {
   "cell_type": "code",
   "execution_count": 137,
   "metadata": {},
   "outputs": [
    {
     "name": "stdout",
     "output_type": "stream",
     "text": [
      "Num Trials =  10\n",
      "Num Passed =  10\n"
     ]
    }
   ],
   "source": [
    "test_sorting_algorithm(merge_sort, 10, 10)"
   ]
  },
  {
   "cell_type": "code",
   "execution_count": 138,
   "metadata": {},
   "outputs": [
    {
     "name": "stdout",
     "output_type": "stream",
     "text": [
      "----\n",
      "FAILED: Input =  [0, 6, 1, 7, 5, 4, 3, 2, 8, 9]\n",
      "Expected:  [0, 1, 2, 3, 4, 5, 6, 7, 8, 9]\n",
      "Obtained: [0, 6, 1, 7, 5, 4, 3, 2, 8, 9]\n",
      "----\n",
      "----\n",
      "FAILED: Input =  [0, 8, 4, 5, 3, 2, 9, 7, 1, 6]\n",
      "Expected:  [0, 1, 2, 3, 4, 5, 6, 7, 8, 9]\n",
      "Obtained: [0, 8, 4, 5, 3, 2, 9, 7, 1, 6]\n",
      "----\n",
      "----\n",
      "FAILED: Input =  [5, 7, 6, 4, 9, 3, 1, 2, 8, 0]\n",
      "Expected:  [0, 1, 2, 3, 4, 5, 6, 7, 8, 9]\n",
      "Obtained: [5, 7, 6, 4, 9, 3, 1, 2, 8, 0]\n",
      "----\n",
      "----\n",
      "FAILED: Input =  [2, 4, 8, 6, 1, 3, 0, 5, 7, 9]\n",
      "Expected:  [0, 1, 2, 3, 4, 5, 6, 7, 8, 9]\n",
      "Obtained: [2, 4, 8, 6, 1, 3, 0, 5, 7, 9]\n",
      "----\n",
      "----\n",
      "FAILED: Input =  [1, 5, 2, 4, 0, 3, 9, 7, 6, 8]\n",
      "Expected:  [0, 1, 2, 3, 4, 5, 6, 7, 8, 9]\n",
      "Obtained: [1, 5, 2, 4, 0, 3, 9, 7, 6, 8]\n",
      "----\n",
      "----\n",
      "FAILED: Input =  [9, 2, 8, 5, 7, 3, 0, 6, 4, 1]\n",
      "Expected:  [0, 1, 2, 3, 4, 5, 6, 7, 8, 9]\n",
      "Obtained: [9, 2, 8, 5, 7, 3, 0, 6, 4, 1]\n",
      "----\n",
      "----\n",
      "FAILED: Input =  [7, 5, 0, 1, 6, 2, 3, 8, 4, 9]\n",
      "Expected:  [0, 1, 2, 3, 4, 5, 6, 7, 8, 9]\n",
      "Obtained: [7, 5, 0, 1, 6, 2, 3, 8, 4, 9]\n",
      "----\n",
      "----\n",
      "FAILED: Input =  [9, 1, 7, 6, 8, 3, 2, 0, 4, 5]\n",
      "Expected:  [0, 1, 2, 3, 4, 5, 6, 7, 8, 9]\n",
      "Obtained: [9, 1, 7, 6, 8, 3, 2, 0, 4, 5]\n",
      "----\n",
      "----\n",
      "FAILED: Input =  [9, 1, 2, 5, 3, 6, 0, 7, 8, 4]\n",
      "Expected:  [0, 1, 2, 3, 4, 5, 6, 7, 8, 9]\n",
      "Obtained: [9, 1, 2, 5, 3, 6, 0, 7, 8, 4]\n",
      "----\n",
      "----\n",
      "FAILED: Input =  [5, 9, 3, 2, 7, 6, 0, 8, 4, 1]\n",
      "Expected:  [0, 1, 2, 3, 4, 5, 6, 7, 8, 9]\n",
      "Obtained: [5, 9, 3, 2, 7, 6, 0, 8, 4, 1]\n",
      "----\n",
      "Num Trials =  10\n",
      "Num Passed =  0\n"
     ]
    }
   ],
   "source": [
    "test_sorting_algorithm(quick_sort, 10, 10)"
   ]
  },
  {
   "cell_type": "code",
   "execution_count": null,
   "metadata": {},
   "outputs": [],
   "source": []
  }
 ],
 "metadata": {
  "kernelspec": {
   "display_name": "Python 3",
   "language": "python",
   "name": "python3"
  },
  "language_info": {
   "codemirror_mode": {
    "name": "ipython",
    "version": 3
   },
   "file_extension": ".py",
   "mimetype": "text/x-python",
   "name": "python",
   "nbconvert_exporter": "python",
   "pygments_lexer": "ipython3",
   "version": "3.8.5"
  }
 },
 "nbformat": 4,
 "nbformat_minor": 2
}
