{
 "cells": [
  {
   "cell_type": "markdown",
   "metadata": {},
   "source": [
    "# Programming Assignment \\# 1\n",
    "\n",
    "__Goal:__ \n",
    "\n",
    "This programming assignment will ask you to do the following tasks.\n",
    "\n",
    "(a) Implement some of the sorting algorithms for sorting integer data in ascending order in python3.\n",
    "  - Simple sort (implemented for you)\n",
    "  - Bubble Sort (read from book or online sources)\n",
    "  - Merge Sort\n",
    "  - Quicksort \n",
    "  \n",
    "  \n",
    "(b) Your implementation must count the number of *compare* operations each sorting algorithm carries out.\n",
    "    \n",
    "(c) You must formulate a series of arrays of lengths from $5$ to $100$  (step by 5), that will form the worst case of these\n",
    "sorting algorithms and plot the number of comparisons in the __worst case__ vs. size of input array (x axis)\n",
    " \n",
    "(d) Generate $1000$ random inputs for each size and compute average time. Plot the size of input array (x axis) vs. number of comparisons (y axis)"
   ]
  },
  {
   "cell_type": "markdown",
   "metadata": {},
   "source": [
    "----\n",
    "## Simple Sort"
   ]
  },
  {
   "cell_type": "code",
   "execution_count": 35,
   "metadata": {},
   "outputs": [],
   "source": [
    "%matplotlib inline\n",
    "import matplotlib\n",
    "import numpy as np\n",
    "import matplotlib.pyplot as plt\n",
    "\n",
    "def simple_sort(a):\n",
    "    # must sort the array a in place and return the number of comparisons\n",
    "    num_compare = 0\n",
    "    n = len(a)\n",
    "    for i in range(0, n): # i goes from 0 to n-1\n",
    "        for j in range(i+1, n): # j goes from i+1 to n-1\n",
    "            num_compare = num_compare + 1\n",
    "            if a[i] >= a[j]:\n",
    "                # swap\n",
    "                a[i], a[j] = a[j], a[i]\n",
    "    return num_compare"
   ]
  },
  {
   "cell_type": "code",
   "execution_count": 36,
   "metadata": {},
   "outputs": [
    {
     "name": "stdout",
     "output_type": "stream",
     "text": [
      "Num Comparison =  45\n",
      "Sorted Result =  [-2, -1, 1, 2, 3, 3, 4, 10, 15, 29]\n"
     ]
    }
   ],
   "source": [
    "# TESTING CODE\n",
    "a = [3, 10, 1, 29, -1, 4, 3, 15, 2, -2]\n",
    "nc = simple_sort(a)\n",
    "print('Num Comparison = ', nc)\n",
    "print('Sorted Result = ', a)"
   ]
  },
  {
   "cell_type": "markdown",
   "metadata": {},
   "source": [
    "### Complexity analysis of simple sort.\n",
    "\n",
    "Note that simple sort consists of two loops and regardless of the input array, the first loop runs from n steps. And the second loop runs $n-i-1$ steps where $i$ is the index of the first loop. Thus, the worst case, best case and average case complexity should be $\\sum_{j=1}^{n-1} j = \\frac{n(n-1)}{2}$ comparisons = $\\Theta(n^2)$\n",
    "\n",
    "The code below plots it for arrays of size 5, 10, ..., 100. However, we cannot really distinguish between the number of comparisons for randomized vs. worst case."
   ]
  },
  {
   "cell_type": "code",
   "execution_count": 37,
   "metadata": {},
   "outputs": [
    {
     "data": {
      "image/png": "[encoded data removed]",
      "text/plain": [
       "<Figure size 432x288 with 1 Axes>"
      ]
     },
     "metadata": {
      "needs_background": "light"
     },
     "output_type": "display_data"
    }
   ],
   "source": [
    "import random\n",
    "\n",
    "# CODE TO GENERATE WORST CASE\n",
    "array_sizes = range(5, 100, 5)\n",
    "\n",
    "# Code for creating an already sorted array\n",
    "def create_ascending_sorted_array(a_size):\n",
    "    a = []\n",
    "    for i in range(a_size):\n",
    "        a.append(i)\n",
    "    return a\n",
    "\n",
    "# Code for creating a random array\n",
    "def create_random_shuffled_array(a_size):\n",
    "    a = list(range(a_size))\n",
    "    random.shuffle(a)\n",
    "    return a\n",
    "\n",
    "\n",
    "# Code for running sorting and generating number of compares\n",
    "num_compares_wc = []\n",
    "for n in array_sizes:\n",
    "    a = create_ascending_sorted_array(n)\n",
    "    nc = simple_sort(a)\n",
    "    num_compares_wc.append(nc)\n",
    "    \n",
    "# Randomized comparisons\n",
    "num_compares_random = []\n",
    "num_trials = 1000\n",
    "for n in array_sizes:\n",
    "    total = 0\n",
    "    for m in range(num_trials):\n",
    "        a = create_random_shuffled_array(n)\n",
    "        nc = simple_sort(a)\n",
    "        total = total + nc\n",
    "    avg = total / num_trials\n",
    "    num_compares_random.append(avg)\n",
    "# Code for plotting\n",
    "\n",
    "plt.plot(array_sizes, num_compares_wc, label='Worst Case')\n",
    "plt.plot(array_sizes, num_compares_random, label='Average Case')\n",
    "plt.legend(['Worst Case', 'Average Case'])\n",
    "plt.title('Simple Sort (Worst and Average Cases)')\n",
    "plt.xlabel('Array Size')\n",
    "plt.ylabel('Number of Comparisons')\n",
    "\n",
    "plt.show()"
   ]
  },
  {
   "cell_type": "markdown",
   "metadata": {},
   "source": [
    "----\n",
    "\n",
    "### Bubble Sort"
   ]
  },
  {
   "cell_type": "code",
   "execution_count": 38,
   "metadata": {},
   "outputs": [],
   "source": [
    "def bubble_sort(a):\n",
    "    # Implement code to bubble sort the given array a in place.\n",
    "    # Also return the number of comparisons. \n",
    "    num_compares = 0\n",
    "    swapped = False\n",
    "    n = len(a)\n",
    "\n",
    "    # we must go through the unsorted portion of \n",
    "    # the list n times unless it is sorted\n",
    "    for i in range(n) :\n",
    "        for j in range(n - i - 1) : # only look at unsorted front of list\n",
    "            num_compares += 1\n",
    "            if a[j] > a[j+1] :\n",
    "                a[j+1], a[j] = a[j], a[j+1] # swap larger for smaller element\n",
    "                swapped = True\n",
    "        \n",
    "        # if array hasn't had any swaps it is sorted\n",
    "        if not swapped :\n",
    "            break\n",
    "    \n",
    "    return num_compares"
   ]
  },
  {
   "cell_type": "markdown",
   "metadata": {},
   "source": [
    "### Complexity Analysis of Bubble Sort\n",
    "\n",
    "The worst case of bubble sort occurs when the smallest element is at the very end of the list.  In order to move that item to the front, where it belongs, the algorithm will have to go through all iterations.  Each loop iteration, the smallest one would be moved only one space closer to the front.  I generated arrays that were in descending order to simulate the worst case.\n",
    "\n",
    "The worst case complexity is theta(n^2) which is the same as the average.  The best case complexity is theta(n) but this only occurs when the array is already sorted or is all the same or it is an array of all the same number.  This is because there are two loops but a flag variable to terminate early if the array is sorted.\n"
   ]
  },
  {
   "cell_type": "code",
   "execution_count": 39,
   "metadata": {},
   "outputs": [],
   "source": [
    "def make_descending_sorted_array(cap) :\n",
    "    a = []\n",
    "    # makes descending sorted array [cap, cap-1, ..., 2, 1]\n",
    "    for i in range(cap) :\n",
    "        a.append(cap-i)\n",
    "\n",
    "    return a"
   ]
  },
  {
   "cell_type": "code",
   "execution_count": 40,
   "metadata": {},
   "outputs": [
    {
     "data": {
      "image/png": "[encoded data removed]",
      "text/plain": [
       "<Figure size 432x288 with 1 Axes>"
      ]
     },
     "metadata": {
      "needs_background": "light"
     },
     "output_type": "display_data"
    }
   ],
   "source": [
    "## Code to generate average and worst cases for Bubble Sort\n",
    "array_sizes = range(5, 100, 5)\n",
    "\n",
    "# Code for running sorting and generating number of compares\n",
    "# Worst case is an array input that's in descending order\n",
    "num_compares_wc = []\n",
    "for n in array_sizes:\n",
    "    a = make_descending_sorted_array(n)\n",
    "    nc = bubble_sort(a)\n",
    "    num_compares_wc.append(nc)\n",
    "    \n",
    "# Randomized arrays for Average Case\n",
    "num_compares_random = []\n",
    "num_trials = 1000\n",
    "for n in array_sizes:\n",
    "    total = 0\n",
    "    for m in range(num_trials):\n",
    "        a = create_random_shuffled_array(n)\n",
    "        nc = bubble_sort(a)\n",
    "        total+=nc\n",
    "    avg = total / num_trials\n",
    "    num_compares_random.append(avg)\n",
    "\n",
    "# Code for plotting\n",
    "plt.plot(array_sizes, num_compares_wc, label='Worst Case')\n",
    "plt.plot(array_sizes, num_compares_random, label='Average Case')\n",
    "plt.legend(['Worst Case', 'Average Case'])\n",
    "plt.title('Bubble Sort (Worst and Average Cases)')\n",
    "plt.xlabel('Array Size')\n",
    "plt.ylabel('Number of Comparisons')\n",
    "plt.show()"
   ]
  },
  {
   "cell_type": "markdown",
   "metadata": {},
   "source": [
    "----\n",
    "### Merge Sort"
   ]
  },
  {
   "cell_type": "code",
   "execution_count": 41,
   "metadata": {},
   "outputs": [],
   "source": [
    "def merge(a, start, mid, stop):\n",
    "    num_compares = 0\n",
    "    sort_array = []\n",
    "    i = start\n",
    "    j = mid + 1\n",
    "\n",
    "    # Sort elements in sublists by adding\n",
    "    # one-by-one to new array\n",
    "    while i <= mid and j <= stop :\n",
    "        if a[i] <= a[j] :\n",
    "            sort_array.append(a[i])\n",
    "            i += 1\n",
    "        else :\n",
    "            sort_array.append(a[j])\n",
    "            j += 1\n",
    "        num_compares += 1\n",
    "\n",
    "    # Copy any remaining elements\n",
    "    # Only one will execute\n",
    "    while i <= mid :\n",
    "        sort_array.append(a[i])\n",
    "        i += 1\n",
    "    while j <= stop :\n",
    "        sort_array.append(a[j])\n",
    "        j += 1\n",
    "\n",
    "    # Copy sorted array back to original\n",
    "    for num in sort_array :\n",
    "        a[start] = num\n",
    "        start += 1\n",
    "\n",
    "    return num_compares\n"
   ]
  },
  {
   "cell_type": "code",
   "execution_count": 42,
   "metadata": {},
   "outputs": [],
   "source": [
    "def merge_sort_recursive(a, start, stop) :\n",
    "    num_compares = 0\n",
    "\n",
    "    # Base Case: size <= 1\n",
    "    if stop - start < 1 :\n",
    "        return num_compares\n",
    "\n",
    "    mid = (stop + start)//2 # divide array here\n",
    "\n",
    "    # recursively divide each side until single\n",
    "    # element lists are obtained\n",
    "    num_compares += merge_sort_recursive(a, start, mid)\n",
    "    num_compares += merge_sort_recursive(a, mid+1, stop)\n",
    "\n",
    "    # sort while merging split array back together\n",
    "    num_compares += merge(a, start, mid, stop)\n",
    "\n",
    "    return num_compares"
   ]
  },
  {
   "cell_type": "code",
   "execution_count": 43,
   "metadata": {},
   "outputs": [],
   "source": [
    "def merge_sort(a):\n",
    "    num_compares = merge_sort_recursive(a, 0, len(a)-1)\n",
    "    return num_compares"
   ]
  },
  {
   "cell_type": "markdown",
   "metadata": {},
   "source": [
    "### Complexity Analysis of Merge Sort\n",
    "\n",
    "The worst case of merge sort occurs when the array is perfectly jumbled to require every split to examine the maximum number of elements in the initial while loop of merge().\n",
    "\n",
    "The i and j pointers must advance one at a time, i++ and then in the next comparison, j++.  All possible comparisons must be done in the first while loop because the second two do not examine any elements.\n",
    "\n",
    "To create the worst case, I reverse engineered the algorithm to start with a sorted array and then after the divide steps, it merges one element from the first and then one from the second and back and forth.  This creates the maximun number of comparisons.\n",
    "\n",
    "The average case complexity is the same as the worst case complexity at theta(nlogn).  This is what I read and it makes sense, but as you can see in the graphs the worst case appears asymptotically larger, at least as far as the compare operations go.\n"
   ]
  },
  {
   "cell_type": "code",
   "execution_count": 44,
   "metadata": {},
   "outputs": [],
   "source": [
    "def make_ascending_sorted_array(size):\n",
    "    a = []\n",
    "    for i in range(size):\n",
    "        a.append(i)\n",
    "\n",
    "    return a"
   ]
  },
  {
   "cell_type": "code",
   "execution_count": 45,
   "metadata": {},
   "outputs": [],
   "source": [
    "# Generating the worst case merge scenario\n",
    "def wc_merge(wc, start, mid, stop):\n",
    "    wc_array = []\n",
    "    i = start\n",
    "    j = mid + 1\n",
    "    choose_from_first_array = False\n",
    "\n",
    "    # Jumble elements in sublists by jumbling pairs\n",
    "    if stop - start < 2 :\n",
    "        wc[start], wc[stop] = wc[stop], wc[start] # swap sorted elements\n",
    "        return\n",
    "    \n",
    "    while i <= mid and j <= stop :\n",
    "        if choose_from_first_array == True :\n",
    "            wc_array.append(wc[i])\n",
    "            i += 1\n",
    "            choose_from_first_array = False\n",
    "        else:\n",
    "            wc_array.append(wc[j])\n",
    "            j += 1\n",
    "            choose_from_first_array = True\n",
    "\n",
    "    # Copy any remaining elements\n",
    "    # Only one will execute\n",
    "    while i <= mid :\n",
    "        wc_array.append(wc[i])\n",
    "        i += 1\n",
    "    while j <= stop :\n",
    "        wc_array.append(wc[j])\n",
    "        j += 1\n",
    "\n",
    "    # Copy sorted array back to original\n",
    "    for num in wc_array :\n",
    "        wc[start] = num\n",
    "        start += 1\n",
    "    \n",
    "    return"
   ]
  },
  {
   "cell_type": "code",
   "execution_count": 46,
   "metadata": {},
   "outputs": [],
   "source": [
    "def wc_mergesort_divide(wc, start, stop):\n",
    "    # base case\n",
    "    if stop - start < 1 :\n",
    "        return\n",
    "\n",
    "    mid = (start + stop)//2\n",
    "    # divide left and right side till base case\n",
    "    wc_mergesort_divide(wc, start, mid)\n",
    "    wc_mergesort_divide(wc, mid + 1, stop)\n",
    "\n",
    "    # merge and jumble\n",
    "    wc_merge(wc, start, mid, stop)\n",
    "\n",
    "    return\n"
   ]
  },
  {
   "cell_type": "code",
   "execution_count": 47,
   "metadata": {},
   "outputs": [],
   "source": [
    "# Generates an array which yields worst case complexity for Merge Sort\n",
    "def worst_case_mergesort(size):\n",
    "    wc = make_ascending_sorted_array(size)\n",
    "\n",
    "    wc_mergesort_divide(wc, 0, len(wc)-1)\n",
    "\n",
    "    return wc"
   ]
  },
  {
   "cell_type": "code",
   "execution_count": 48,
   "metadata": {},
   "outputs": [
    {
     "data": {
      "image/png": "[encoded data removed]",
      "text/plain": [
       "<Figure size 432x288 with 1 Axes>"
      ]
     },
     "metadata": {
      "needs_background": "light"
     },
     "output_type": "display_data"
    }
   ],
   "source": [
    "## Code to generate worst and average cases of Merge Sort\n",
    "array_sizes = range(2, 128, 2)\n",
    "\n",
    "# Code for running sorting and generating number of compares\n",
    "# Worst case is an array input that's in descending order\n",
    "num_compares_wc = []\n",
    "for n in array_sizes:\n",
    "    a = worst_case_mergesort(n)\n",
    "    nc = merge_sort(a)\n",
    "    num_compares_wc.append(nc)\n",
    "    \n",
    "# Randomized arrays for Average Case\n",
    "num_compares_random = []\n",
    "num_trials = 1000\n",
    "for n in array_sizes:\n",
    "    total = 0\n",
    "    for m in range(num_trials):\n",
    "        a = create_random_shuffled_array(n)\n",
    "        nc = merge_sort(a)\n",
    "        total+=nc\n",
    "    avg = total / num_trials\n",
    "    num_compares_random.append(avg)\n",
    "\n",
    "# Code for plotting\n",
    "plt.plot(array_sizes, num_compares_wc, label='Worst Case')\n",
    "plt.plot(array_sizes, num_compares_random, label='Average Case')\n",
    "plt.legend(['Worst Case', 'Average Case'])\n",
    "plt.title('merge_sort (Worst and Average Cases)')\n",
    "plt.xlabel('Array Size')\n",
    "plt.ylabel('Number of Comparisons')\n",
    "plt.show()\n"
   ]
  },
  {
   "cell_type": "markdown",
   "metadata": {},
   "source": [
    "----\n",
    "### Quick Sort\n"
   ]
  },
  {
   "cell_type": "code",
   "execution_count": 49,
   "metadata": {},
   "outputs": [],
   "source": [
    "def quick_sort_partition(a, low, high, pivot_and_num_compares):\n",
    "  pivot = a[high]\n",
    "  j = low\n",
    "  i = low\n",
    "  \n",
    "  # loop through elements of data from low to high - 1. We don't include the pivot (high)\n",
    "  while j < high :\n",
    "    # if current element is less than pivot swap a[i] and a[j]\n",
    "    if a[j] < pivot :\n",
    "      a[i], a[j] = a[j], a[i]\n",
    "      i += 1\n",
    "    pivot_and_num_compares[1] += 1\n",
    "    j += 1\n",
    "\n",
    "  # we must check data[i] against the pivot still\n",
    "  if pivot < a[i] :\n",
    "    a[i], a[high] = a[high], a[i]  \n",
    "    pivot_and_num_compares[1] += 1\n",
    "\n",
    "  pivot_and_num_compares[0] = i # set new pivot\n",
    "  \n",
    "  return pivot_and_num_compares"
   ]
  },
  {
   "cell_type": "code",
   "execution_count": 50,
   "metadata": {},
   "outputs": [],
   "source": [
    "def quick_sort_recurse(a, low, high, pivot_and_num_compares):\n",
    "    # if the list is larger than one element, partition and recurse left and right\n",
    "    if low < high :\n",
    "        pivot_and_num_compares = quick_sort_partition(a, low, high, pivot_and_num_compares)\n",
    "        new_partition = pivot_and_num_compares[0]\n",
    "\n",
    "        quick_sort_recurse(a, low, new_partition - 1, pivot_and_num_compares) # recurse left\n",
    "        quick_sort_recurse(a, new_partition + 1, high, pivot_and_num_compares) # recurse right\n",
    "    \n",
    "    return pivot_and_num_compares"
   ]
  },
  {
   "cell_type": "code",
   "execution_count": 51,
   "metadata": {},
   "outputs": [],
   "source": [
    "def quick_sort(a):\n",
    "    pivot_and_num_compares = quick_sort_recurse(a, 0, len(a)-1, [len(a)-1, 0])\n",
    "\n",
    "    num_compares = pivot_and_num_compares[1]\n",
    "    \n",
    "    return num_compares"
   ]
  },
  {
   "cell_type": "markdown",
   "metadata": {},
   "source": [
    "### Complexity Analysis of Quick Sort\n",
    "\n",
    "The difference between the average and worst cases for quick sort is enormous.  The worst case occurs when you choose a pivot which results in the array being partitioned to the same side every time, such as if you choose the last element as a pivot in a sorted array.  I chose to generate the worst case by using lists of a single element repeated which results in the same dilemna since my pivot is chosen to be the last element.  Here it must call quick_sort_partition n times, resulting in a complexity of theta(n^2).\n",
    "\n",
    "Since this is a divide and conquer algorithm however, the average case, when the pivot is not chosen to be the worst possible item, is only theta(nlogn).  It's obvious by the graph that the average and worst case have that big of a difference between them.\n"
   ]
  },
  {
   "cell_type": "code",
   "execution_count": 52,
   "metadata": {},
   "outputs": [],
   "source": [
    "def repeated_value_array(size) :\n",
    "    i = 0\n",
    "    rp = []\n",
    "    while i < size :\n",
    "        rp.append(13)\n",
    "        i += 1\n",
    "\n",
    "    return rp"
   ]
  },
  {
   "cell_type": "code",
   "execution_count": 53,
   "metadata": {},
   "outputs": [
    {
     "data": {
      "image/png": "[encoded data removed]",
      "text/plain": [
       "<Figure size 432x288 with 1 Axes>"
      ]
     },
     "metadata": {
      "needs_background": "light"
     },
     "output_type": "display_data"
    }
   ],
   "source": [
    "## Code to generate worst and average cases for Quick Sort\n",
    "array_sizes = range(4, 64, 4)\n",
    "\n",
    "# Code for running sorting and generating number of compares\n",
    "# Worst case is acheived when all the values in the array are the same number\n",
    "# Or depending on pivot, sorted in ascending or descenging manner\n",
    "# I chose to implement this with arrays of a repeated value\n",
    "num_compares_wc = []\n",
    "for n in array_sizes:\n",
    "    a = repeated_value_array(n)\n",
    "    nc = quick_sort(a)\n",
    "    num_compares_wc.append(nc)\n",
    "    \n",
    "# Randomized arrays for Average Case\n",
    "num_compares_random = []\n",
    "num_trials = 1000\n",
    "for n in array_sizes:\n",
    "    total = 0\n",
    "    for m in range(num_trials):\n",
    "        a = create_random_shuffled_array(n)\n",
    "        nc = quick_sort(a)\n",
    "        total+=nc\n",
    "    avg = total / num_trials\n",
    "    num_compares_random.append(avg)\n",
    "\n",
    "# Code for plotting\n",
    "plt.plot(array_sizes, num_compares_wc, label='Worst Case')\n",
    "plt.plot(array_sizes, num_compares_random, label='Average Case')\n",
    "plt.legend(['Worst Case', 'Average Case'])\n",
    "plt.title('quick_sort (Worst and Average Cases)')\n",
    "plt.xlabel('Array Size')\n",
    "plt.ylabel('Number of Comparisons')\n",
    "plt.show()"
   ]
  },
  {
   "cell_type": "markdown",
   "metadata": {},
   "source": [
    "-----\n",
    "## Testing Code: Do not edit\n",
    "\n"
   ]
  },
  {
   "cell_type": "code",
   "execution_count": 54,
   "metadata": {},
   "outputs": [],
   "source": [
    "def test_sorting_algorithm(sort_fun, sz, num_trials):\n",
    "    num_passed = 0\n",
    "    for i in range(num_trials):\n",
    "        a = create_random_shuffled_array(sz)\n",
    "        a_orig = list(a) # make a copy\n",
    "        b = sorted(a)\n",
    "        nc = sort_fun(a)\n",
    "        if a == b:\n",
    "            num_passed = num_passed + 1\n",
    "        else:\n",
    "            print('----')\n",
    "            print('FAILED: Input = ', a_orig)\n",
    "            print('Expected: ', b)\n",
    "            print('Obtained:', a)\n",
    "            print('----')\n",
    "    print('Num Trials = ', num_trials)\n",
    "    print('Num Passed = ', num_passed)"
   ]
  },
  {
   "cell_type": "code",
   "execution_count": 55,
   "metadata": {},
   "outputs": [
    {
     "name": "stdout",
     "output_type": "stream",
     "text": [
      "Num Trials =  100\n",
      "Num Passed =  100\n"
     ]
    }
   ],
   "source": [
    "test_sorting_algorithm(simple_sort, 50, 100)"
   ]
  },
  {
   "cell_type": "code",
   "execution_count": 56,
   "metadata": {},
   "outputs": [
    {
     "name": "stdout",
     "output_type": "stream",
     "text": [
      "Num Trials =  10\n",
      "Num Passed =  10\n"
     ]
    }
   ],
   "source": [
    "test_sorting_algorithm(bubble_sort, 10, 10)"
   ]
  },
  {
   "cell_type": "code",
   "execution_count": 57,
   "metadata": {},
   "outputs": [
    {
     "name": "stdout",
     "output_type": "stream",
     "text": [
      "Num Trials =  10\n",
      "Num Passed =  10\n"
     ]
    }
   ],
   "source": [
    "test_sorting_algorithm(merge_sort, 10, 10)"
   ]
  },
  {
   "cell_type": "code",
   "execution_count": 58,
   "metadata": {},
   "outputs": [
    {
     "name": "stdout",
     "output_type": "stream",
     "text": [
      "Num Trials =  10\n",
      "Num Passed =  10\n"
     ]
    }
   ],
   "source": [
    "test_sorting_algorithm(quick_sort, 10, 10)"
   ]
  }
 ],
 "metadata": {
  "kernelspec": {
   "display_name": "Python 3",
   "language": "python",
   "name": "python3"
  },
  "language_info": {
   "codemirror_mode": {
    "name": "ipython",
    "version": 3
   },
   "file_extension": ".py",
   "mimetype": "text/x-python",
   "name": "python",
   "nbconvert_exporter": "python",
   "pygments_lexer": "ipython3",
   "version": "3.8.5"
  }
 },
 "nbformat": 4,
 "nbformat_minor": 2
}
