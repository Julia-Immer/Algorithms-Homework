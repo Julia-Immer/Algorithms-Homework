{
 "cells": [
  {
   "cell_type": "markdown",
   "metadata": {},
   "source": [
    "# Programming Assignment \\# 1\n",
    "\n",
    "__Goal:__ \n",
    "\n",
    "This programming assignment will ask you to do the following tasks.\n",
    "\n",
    "(a) Implement some of the sorting algorithms for sorting integer data in ascending order in python3.\n",
    "  - Simple sort (implemented for you)\n",
    "  - Bubble Sort (read from book or online sources)\n",
    "  - Merge Sort\n",
    "  - Quicksort \n",
    "  \n",
    "  \n",
    "(b) Your implementation must count the number of *compare* operations each sorting algorithm carries out.\n",
    "    \n",
    "(c) You must formulate a series of arrays of lengths from $5$ to $100$  (step by 5), that will form the worst case of these\n",
    "sorting algorithms and plot the number of comparisons in the __worst case__ vs. size of input array (x axis)\n",
    " \n",
    "(d) Generate $1000$ random inputs for each size and compute average time. Plot the size of input array (x axis) vs. number of comparisons (y axis)"
   ]
  },
  {
   "cell_type": "markdown",
   "metadata": {},
   "source": [
    "----\n",
    "## Simple Sort"
   ]
  },
  {
   "cell_type": "code",
   "execution_count": 2,
   "metadata": {},
   "outputs": [
    {
     "ename": "ModuleNotFoundError",
     "evalue": "No module named 'matplotlib'",
     "output_type": "error",
     "traceback": [
      "\u001b[0;31m---------------------------------------------------------------------------\u001b[0m",
      "\u001b[0;31mModuleNotFoundError\u001b[0m                       Traceback (most recent call last)",
      "\u001b[1;32m/Users/admin/Library/Mobile Documents/com~apple~CloudDocs/Algo/Programming-Assignment-1-Sorting.ipynb Cell 3'\u001b[0m in \u001b[0;36m<module>\u001b[0;34m\u001b[0m\n\u001b[0;32m----> <a href='vscode-notebook-cell:/Users/admin/Library/Mobile%20Documents/com~apple~CloudDocs/Algo/Programming-Assignment-1-Sorting.ipynb#ch0000002?line=0'>1</a>\u001b[0m get_ipython()\u001b[39m.\u001b[39;49mrun_line_magic(\u001b[39m'\u001b[39;49m\u001b[39mmatplotlib\u001b[39;49m\u001b[39m'\u001b[39;49m, \u001b[39m'\u001b[39;49m\u001b[39minline\u001b[39;49m\u001b[39m'\u001b[39;49m)\n\u001b[1;32m      <a href='vscode-notebook-cell:/Users/admin/Library/Mobile%20Documents/com~apple~CloudDocs/Algo/Programming-Assignment-1-Sorting.ipynb#ch0000002?line=1'>2</a>\u001b[0m \u001b[39mimport\u001b[39;00m \u001b[39mmatplotlib\u001b[39;00m\n\u001b[1;32m      <a href='vscode-notebook-cell:/Users/admin/Library/Mobile%20Documents/com~apple~CloudDocs/Algo/Programming-Assignment-1-Sorting.ipynb#ch0000002?line=2'>3</a>\u001b[0m \u001b[39mimport\u001b[39;00m \u001b[39mnumpy\u001b[39;00m \u001b[39mas\u001b[39;00m \u001b[39mnp\u001b[39;00m\n",
      "File \u001b[0;32m~/Library/Python/3.8/lib/python/site-packages/IPython/core/interactiveshell.py:2204\u001b[0m, in \u001b[0;36mInteractiveShell.run_line_magic\u001b[0;34m(self, magic_name, line, _stack_depth)\u001b[0m\n\u001b[1;32m   <a href='file:///~/Library/Python/3.8/lib/python/site-packages/IPython/core/interactiveshell.py?line=2201'>2202</a>\u001b[0m     kwargs[\u001b[39m'\u001b[39m\u001b[39mlocal_ns\u001b[39m\u001b[39m'\u001b[39m] \u001b[39m=\u001b[39m \u001b[39mself\u001b[39m\u001b[39m.\u001b[39mget_local_scope(stack_depth)\n\u001b[1;32m   <a href='file:///~/Library/Python/3.8/lib/python/site-packages/IPython/core/interactiveshell.py?line=2202'>2203</a>\u001b[0m \u001b[39mwith\u001b[39;00m \u001b[39mself\u001b[39m\u001b[39m.\u001b[39mbuiltin_trap:\n\u001b[0;32m-> <a href='file:///~/Library/Python/3.8/lib/python/site-packages/IPython/core/interactiveshell.py?line=2203'>2204</a>\u001b[0m     result \u001b[39m=\u001b[39m fn(\u001b[39m*\u001b[39;49margs, \u001b[39m*\u001b[39;49m\u001b[39m*\u001b[39;49mkwargs)\n\u001b[1;32m   <a href='file:///~/Library/Python/3.8/lib/python/site-packages/IPython/core/interactiveshell.py?line=2204'>2205</a>\u001b[0m \u001b[39mreturn\u001b[39;00m result\n",
      "File \u001b[0;32m~/Library/Python/3.8/lib/python/site-packages/IPython/core/magics/pylab.py:99\u001b[0m, in \u001b[0;36mPylabMagics.matplotlib\u001b[0;34m(self, line)\u001b[0m\n\u001b[1;32m     <a href='file:///~/Library/Python/3.8/lib/python/site-packages/IPython/core/magics/pylab.py?line=96'>97</a>\u001b[0m     \u001b[39mprint\u001b[39m(\u001b[39m\"\u001b[39m\u001b[39mAvailable matplotlib backends: \u001b[39m\u001b[39m%s\u001b[39;00m\u001b[39m\"\u001b[39m \u001b[39m%\u001b[39m backends_list)\n\u001b[1;32m     <a href='file:///~/Library/Python/3.8/lib/python/site-packages/IPython/core/magics/pylab.py?line=97'>98</a>\u001b[0m \u001b[39melse\u001b[39;00m:\n\u001b[0;32m---> <a href='file:///~/Library/Python/3.8/lib/python/site-packages/IPython/core/magics/pylab.py?line=98'>99</a>\u001b[0m     gui, backend \u001b[39m=\u001b[39m \u001b[39mself\u001b[39;49m\u001b[39m.\u001b[39;49mshell\u001b[39m.\u001b[39;49menable_matplotlib(args\u001b[39m.\u001b[39;49mgui\u001b[39m.\u001b[39;49mlower() \u001b[39mif\u001b[39;49;00m \u001b[39misinstance\u001b[39;49m(args\u001b[39m.\u001b[39;49mgui, \u001b[39mstr\u001b[39;49m) \u001b[39melse\u001b[39;49;00m args\u001b[39m.\u001b[39;49mgui)\n\u001b[1;32m    <a href='file:///~/Library/Python/3.8/lib/python/site-packages/IPython/core/magics/pylab.py?line=99'>100</a>\u001b[0m     \u001b[39mself\u001b[39m\u001b[39m.\u001b[39m_show_matplotlib_backend(args\u001b[39m.\u001b[39mgui, backend)\n",
      "File \u001b[0;32m~/Library/Python/3.8/lib/python/site-packages/IPython/core/interactiveshell.py:3327\u001b[0m, in \u001b[0;36mInteractiveShell.enable_matplotlib\u001b[0;34m(self, gui)\u001b[0m\n\u001b[1;32m   <a href='file:///~/Library/Python/3.8/lib/python/site-packages/IPython/core/interactiveshell.py?line=3305'>3306</a>\u001b[0m \u001b[39m\"\"\"Enable interactive matplotlib and inline figure support.\u001b[39;00m\n\u001b[1;32m   <a href='file:///~/Library/Python/3.8/lib/python/site-packages/IPython/core/interactiveshell.py?line=3306'>3307</a>\u001b[0m \n\u001b[1;32m   <a href='file:///~/Library/Python/3.8/lib/python/site-packages/IPython/core/interactiveshell.py?line=3307'>3308</a>\u001b[0m \u001b[39mThis takes the following steps:\u001b[39;00m\n\u001b[0;32m   (...)\u001b[0m\n\u001b[1;32m   <a href='file:///~/Library/Python/3.8/lib/python/site-packages/IPython/core/interactiveshell.py?line=3323'>3324</a>\u001b[0m \u001b[39m    display figures inline.\u001b[39;00m\n\u001b[1;32m   <a href='file:///~/Library/Python/3.8/lib/python/site-packages/IPython/core/interactiveshell.py?line=3324'>3325</a>\u001b[0m \u001b[39m\"\"\"\u001b[39;00m\n\u001b[1;32m   <a href='file:///~/Library/Python/3.8/lib/python/site-packages/IPython/core/interactiveshell.py?line=3325'>3326</a>\u001b[0m \u001b[39mfrom\u001b[39;00m \u001b[39mIPython\u001b[39;00m\u001b[39m.\u001b[39;00m\u001b[39mcore\u001b[39;00m \u001b[39mimport\u001b[39;00m pylabtools \u001b[39mas\u001b[39;00m pt\n\u001b[0;32m-> <a href='file:///~/Library/Python/3.8/lib/python/site-packages/IPython/core/interactiveshell.py?line=3326'>3327</a>\u001b[0m \u001b[39mfrom\u001b[39;00m \u001b[39mmatplotlib_inline\u001b[39;00m\u001b[39m.\u001b[39;00m\u001b[39mbackend_inline\u001b[39;00m \u001b[39mimport\u001b[39;00m configure_inline_support\n\u001b[1;32m   <a href='file:///~/Library/Python/3.8/lib/python/site-packages/IPython/core/interactiveshell.py?line=3327'>3328</a>\u001b[0m gui, backend \u001b[39m=\u001b[39m pt\u001b[39m.\u001b[39mfind_gui_and_backend(gui, \u001b[39mself\u001b[39m\u001b[39m.\u001b[39mpylab_gui_select)\n\u001b[1;32m   <a href='file:///~/Library/Python/3.8/lib/python/site-packages/IPython/core/interactiveshell.py?line=3329'>3330</a>\u001b[0m \u001b[39mif\u001b[39;00m gui \u001b[39m!=\u001b[39m \u001b[39m'\u001b[39m\u001b[39minline\u001b[39m\u001b[39m'\u001b[39m:\n\u001b[1;32m   <a href='file:///~/Library/Python/3.8/lib/python/site-packages/IPython/core/interactiveshell.py?line=3330'>3331</a>\u001b[0m     \u001b[39m# If we have our first gui selection, store it\u001b[39;00m\n",
      "File \u001b[0;32m~/Library/Python/3.8/lib/python/site-packages/matplotlib_inline/backend_inline.py:6\u001b[0m, in \u001b[0;36m<module>\u001b[0;34m\u001b[0m\n\u001b[1;32m      <a href='file:///~/Library/Python/3.8/lib/python/site-packages/matplotlib_inline/backend_inline.py?line=0'>1</a>\u001b[0m \u001b[39m\"\"\"A matplotlib backend for publishing figures via display_data\"\"\"\u001b[39;00m\n\u001b[1;32m      <a href='file:///~/Library/Python/3.8/lib/python/site-packages/matplotlib_inline/backend_inline.py?line=2'>3</a>\u001b[0m \u001b[39m# Copyright (c) IPython Development Team.\u001b[39;00m\n\u001b[1;32m      <a href='file:///~/Library/Python/3.8/lib/python/site-packages/matplotlib_inline/backend_inline.py?line=3'>4</a>\u001b[0m \u001b[39m# Distributed under the terms of the BSD 3-Clause License.\u001b[39;00m\n\u001b[0;32m----> <a href='file:///~/Library/Python/3.8/lib/python/site-packages/matplotlib_inline/backend_inline.py?line=5'>6</a>\u001b[0m \u001b[39mimport\u001b[39;00m \u001b[39mmatplotlib\u001b[39;00m\n\u001b[1;32m      <a href='file:///~/Library/Python/3.8/lib/python/site-packages/matplotlib_inline/backend_inline.py?line=6'>7</a>\u001b[0m \u001b[39mfrom\u001b[39;00m \u001b[39mmatplotlib\u001b[39;00m\u001b[39m.\u001b[39;00m\u001b[39mbackends\u001b[39;00m\u001b[39m.\u001b[39;00m\u001b[39mbackend_agg\u001b[39;00m \u001b[39mimport\u001b[39;00m (  \u001b[39m# noqa\u001b[39;00m\n\u001b[1;32m      <a href='file:///~/Library/Python/3.8/lib/python/site-packages/matplotlib_inline/backend_inline.py?line=7'>8</a>\u001b[0m     new_figure_manager,\n\u001b[1;32m      <a href='file:///~/Library/Python/3.8/lib/python/site-packages/matplotlib_inline/backend_inline.py?line=8'>9</a>\u001b[0m     FigureCanvasAgg,\n\u001b[1;32m     <a href='file:///~/Library/Python/3.8/lib/python/site-packages/matplotlib_inline/backend_inline.py?line=9'>10</a>\u001b[0m     new_figure_manager_given_figure,\n\u001b[1;32m     <a href='file:///~/Library/Python/3.8/lib/python/site-packages/matplotlib_inline/backend_inline.py?line=10'>11</a>\u001b[0m )\n\u001b[1;32m     <a href='file:///~/Library/Python/3.8/lib/python/site-packages/matplotlib_inline/backend_inline.py?line=11'>12</a>\u001b[0m \u001b[39mfrom\u001b[39;00m \u001b[39mmatplotlib\u001b[39;00m \u001b[39mimport\u001b[39;00m colors\n",
      "\u001b[0;31mModuleNotFoundError\u001b[0m: No module named 'matplotlib'"
     ]
    }
   ],
   "source": [
    "%matplotlib inline\n",
    "import matplotlib\n",
    "import numpy as np\n",
    "import matplotlib.pyplot as plt\n",
    "\n",
    "def simple_sort(a):\n",
    "    # must sort the array a in place and return the number of comparisons\n",
    "    num_compare = 0\n",
    "    n = len(a)\n",
    "    for i in range(0, n): # i goes from 0 to n-1\n",
    "        for j in range(i+1, n): # j goes from i+1 to n-1\n",
    "            num_compare = num_compare + 1\n",
    "            if a[i] >= a[j]:\n",
    "                # swap\n",
    "                a[i], a[j] = a[j], a[i]\n",
    "    return num_compare"
   ]
  },
  {
   "cell_type": "code",
   "execution_count": null,
   "metadata": {},
   "outputs": [],
   "source": [
    "# TESTING CODE\n",
    "a = [3, 10, 1, 29, -1, 4, 3, 15, 2, -2]\n",
    "nc = simple_sort(a)\n",
    "print('Num Comparison = ', nc)\n",
    "print('Sorted Result = ', a)"
   ]
  },
  {
   "cell_type": "markdown",
   "metadata": {},
   "source": [
    "### Complexity analysis of simple sort.\n",
    "\n",
    "Note that simple sort consists of two loops and regardless of the input array, the first loop runs from n steps. And the second loop runs $n-i-1$ steps where $i$ is the index of the first loop. Thus, the worst case, best case and average case complexity should be $\\sum_{j=1}^{n-1} j = \\frac{n(n-1)}{2}$ comparisons = $\\Theta(n^2)$\n",
    "\n",
    "The code below plots it for arrays of size 5, 10, ..., 100. However, we cannot really distinguish between the number of comparisons for randomized vs. worst case."
   ]
  },
  {
   "cell_type": "code",
   "execution_count": null,
   "metadata": {},
   "outputs": [],
   "source": [
    "import random\n",
    "\n",
    "# CODE TO GENERATE WORST CASE\n",
    "array_sizes = range(5, 100, 5)\n",
    "\n",
    "# Code for creating an already sorted array\n",
    "def create_ascending_sorted_array(a_size):\n",
    "    a = []\n",
    "    for i in range(a_size):\n",
    "        a.append(i)\n",
    "    return a\n",
    "\n",
    "# Code for creating a random array\n",
    "def create_random_shuffled_array(a_size):\n",
    "    a = list(range(a_size))\n",
    "    random.shuffle(a)\n",
    "    return a\n",
    "\n",
    "\n",
    "# Code for running sorting and generating number of compares\n",
    "num_compares_wc = []\n",
    "for n in array_sizes:\n",
    "    a = create_ascending_sorted_array(n)\n",
    "    nc = simple_sort(a)\n",
    "    num_compares_wc.append(nc)\n",
    "    \n",
    "# Randomized comparisons\n",
    "num_compares_random = []\n",
    "num_trials = 1000\n",
    "for n in array_sizes:\n",
    "    total = 0\n",
    "    for m in range(num_trials):\n",
    "        a = create_random_shuffled_array(n)\n",
    "        nc = simple_sort(a)\n",
    "        total = total + nc\n",
    "    avg = total / num_trials\n",
    "    num_compares_random.append(avg)\n",
    "# Code for plotting\n",
    "\n",
    "plt.plot(array_sizes, num_compares_wc, label='Worst Case')\n",
    "plt.plot(array_sizes, num_compares_random, label='Average Case')\n",
    "plt.legend(['Worst Case', 'Average Case'])\n",
    "plt.title('Simple Sort (Worst and Average Cases)')\n",
    "plt.xlabel('Array Size')\n",
    "plt.ylabel('Number of Comparisons')\n",
    "\n",
    "plt.show()"
   ]
  },
  {
   "cell_type": "markdown",
   "metadata": {},
   "source": [
    "----\n",
    "\n",
    "### Bubble Sort"
   ]
  },
  {
   "cell_type": "code",
   "execution_count": null,
   "metadata": {},
   "outputs": [],
   "source": [
    "def bubble_sort(a):\n",
    "    # Implement code to bubble sort the given array a in place.\n",
    "    # Also return the number of comparisons. \n",
    "    num_compares = 0\n",
    "    swapped = False\n",
    "    n = len(a)\n",
    "\n",
    "    # we must go through the unsorted portion of \n",
    "    # the list n times unless it is sorted\n",
    "    for i in range(n) :\n",
    "        for j in range(n-i-1) : # only look at unsorted front of list\n",
    "            num_compares+=1\n",
    "            if a[j] > a[j+1] :\n",
    "                a[j+1], a[j] = a[j], a[j+1] # swap larger for smaller element\n",
    "                swapped = True\n",
    "        \n",
    "        # if array hasn't had any swaps it is sorted\n",
    "        if not swapped :\n",
    "            break\n",
    "    \n",
    "    return num_compares"
   ]
  },
  {
   "cell_type": "markdown",
   "metadata": {},
   "source": [
    "### Complexity Analysis of Bubble Sort\n",
    "\n",
    "__Todo: explain what the worst and average cases are. Explain how you would craft inputs for the worst case __\n",
    "\n",
    "The worst case of bubble sort occurs when the smallest element is at the very end of the list.  In order to move that item to the front, where it belongs, the algorithm will have to go through all iterations.  Each loop iteration, the smallest one would be moved only one space closer to the front.  I generated arrays that were in descending order to simulate the worst case.\n",
    "\n"
   ]
  },
  {
   "cell_type": "code",
   "execution_count": null,
   "metadata": {},
   "outputs": [],
   "source": [
    "def make_descending_sorted_array(cap) :\n",
    "    a = []\n",
    "    # makes descending sorted array [cap, cap-1, ..., 2, 1]\n",
    "    for i in range(cap) :\n",
    "        a.append(cap-i)\n",
    "\n",
    "    return a"
   ]
  },
  {
   "cell_type": "code",
   "execution_count": null,
   "metadata": {},
   "outputs": [],
   "source": [
    "## WRITE CODE HERE TO GENERATE WORST CASE and AVERAGE CASE INPUTS/PLOT\n",
    "## You may cut and paste from code we provided or directly call them\n",
    "array_sizes = range(5, 100, 5)\n",
    "\n",
    "# Code for running sorting and generating number of compares\n",
    "# Worst case is an array input that's in descending order\n",
    "num_compares_wc = []\n",
    "for n in array_sizes:\n",
    "    a = make_descending_sorted_array(n)\n",
    "    nc = bubble_sort(a)\n",
    "    num_compares_wc.append(nc)\n",
    "    \n",
    "# Randomized arrays for Average Case\n",
    "num_compares_random = []\n",
    "num_trials = 1000\n",
    "for n in array_sizes:\n",
    "    total = 0\n",
    "    for m in range(num_trials):\n",
    "        a = create_random_shuffled_array(n)\n",
    "        nc = bubble_sort(a)\n",
    "        total+=nc\n",
    "    avg = total / num_trials\n",
    "    num_compares_random.append(avg)\n",
    "\n",
    "# Code for plotting\n",
    "plt.plot(array_sizes, num_compares_wc, label='Worst Case')\n",
    "plt.plot(array_sizes, num_compares_random, label='Average Case')\n",
    "plt.legend(['Worst Case', 'Average Case'])\n",
    "plt.title('Bubble Sort (Worst and Average Cases)')\n",
    "plt.xlabel('Array Size')\n",
    "plt.ylabel('Number of Comparisons')\n",
    "plt.show()"
   ]
  },
  {
   "cell_type": "markdown",
   "metadata": {},
   "source": [
    "----\n",
    "### Merge Sort"
   ]
  },
  {
   "cell_type": "code",
   "execution_count": null,
   "metadata": {},
   "outputs": [],
   "source": [
    "def merge_sort_recursive(a, start, stop) :\n",
    "    num_compares = 0\n",
    "\n",
    "    # Base Case: size <= 1\n",
    "    if stop-start <= 1 :\n",
    "        return num_compares\n",
    "\n",
    "    return num_compares"
   ]
  },
  {
   "cell_type": "code",
   "execution_count": null,
   "metadata": {},
   "outputs": [],
   "source": [
    "def merge_sort(a):\n",
    "    # Implement the code for merge sort\n",
    "    # Use a function merge_sort_recursive to implement the recursive call\n",
    "    # Be careful in counting number of comparisons since you should include comparisons in the merge part.\n",
    "    # Also: code needs to sort the array a. You may have to copy things over from a temp array back into a.\n",
    "    return merge_sort_recursive(a, 0, len(a)-1)"
   ]
  },
  {
   "cell_type": "markdown",
   "metadata": {},
   "source": [
    "### Complexity Analysis of Merge Sort\n",
    "\n",
    "__Todo: explain what the worst and average cases are. Explain how you would craft inputs for the worst case __\n"
   ]
  },
  {
   "cell_type": "code",
   "execution_count": null,
   "metadata": {},
   "outputs": [],
   "source": [
    "## WRITE CODE HERE TO GENERATE WORST CASE and AVERAGE CASE INPUTS/PLOT\n",
    "## You may cut and paste from code we provided or directly call them"
   ]
  },
  {
   "cell_type": "markdown",
   "metadata": {},
   "source": [
    "----\n",
    "### Quick Sort\n"
   ]
  },
  {
   "cell_type": "code",
   "execution_count": null,
   "metadata": {},
   "outputs": [],
   "source": [
    "def quick_sort(a):\n",
    "    # Implement code for quick sort\n",
    "    # Must sort the array a in place\n",
    "    # Must return the number of comparisons\n",
    "    return # you can implement it how you wish"
   ]
  },
  {
   "cell_type": "markdown",
   "metadata": {},
   "source": [
    "### Complexity Analysis of Quick Sort\n",
    "\n",
    "__Todo: explain what the worst and average cases are. Explain how you would craft inputs for the worst case __\n"
   ]
  },
  {
   "cell_type": "code",
   "execution_count": null,
   "metadata": {},
   "outputs": [],
   "source": [
    "## WRITE CODE HERE TO GENERATE WORST CASE and AVERAGE CASE INPUTS/PLOT\n",
    "## You may cut and paste from code we provided or directly call them"
   ]
  },
  {
   "cell_type": "markdown",
   "metadata": {},
   "source": [
    "-----\n",
    "## Testing Code: Do not edit\n",
    "\n"
   ]
  },
  {
   "cell_type": "code",
   "execution_count": null,
   "metadata": {},
   "outputs": [],
   "source": [
    "def test_sorting_algorithm(sort_fun, sz, num_trials):\n",
    "    num_passed = 0\n",
    "    for i in range(num_trials):\n",
    "        a = create_random_shuffled_array(sz)\n",
    "        a_orig = list(a) # make a copy\n",
    "        b = sorted(a)\n",
    "        nc = sort_fun(a)\n",
    "        if a == b:\n",
    "            num_passed = num_passed + 1\n",
    "        else:\n",
    "            print('----')\n",
    "            print('FAILED: Input = ', a_orig)\n",
    "            print('Expected: ', b)\n",
    "            print('Obtained:', a)\n",
    "            print('----')\n",
    "    print('Num Trials = ', num_trials)\n",
    "    print('Num Passed = ', num_passed)"
   ]
  },
  {
   "cell_type": "code",
   "execution_count": null,
   "metadata": {},
   "outputs": [],
   "source": [
    "test_sorting_algorithm(simple_sort, 50, 100)"
   ]
  },
  {
   "cell_type": "code",
   "execution_count": null,
   "metadata": {},
   "outputs": [],
   "source": [
    "test_sorting_algorithm(bubble_sort, 10, 10)"
   ]
  },
  {
   "cell_type": "code",
   "execution_count": null,
   "metadata": {},
   "outputs": [],
   "source": [
    "test_sorting_algorithm(merge_sort, 10, 10)"
   ]
  },
  {
   "cell_type": "code",
   "execution_count": null,
   "metadata": {},
   "outputs": [],
   "source": [
    "test_sorting_algorithm(quick_sort, 10, 10)"
   ]
  },
  {
   "cell_type": "code",
   "execution_count": null,
   "metadata": {},
   "outputs": [],
   "source": []
  }
 ],
 "metadata": {
  "kernelspec": {
   "display_name": "Python 3",
   "language": "python",
   "name": "python3"
  },
  "language_info": {
   "codemirror_mode": {
    "name": "ipython",
    "version": 3
   },
   "file_extension": ".py",
   "mimetype": "text/x-python",
   "name": "python",
   "nbconvert_exporter": "python",
   "pygments_lexer": "ipython3",
   "version": "3.8.5"
  }
 },
 "nbformat": 4,
 "nbformat_minor": 2
}
