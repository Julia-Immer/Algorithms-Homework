{
 "cells": [
  {
   "cell_type": "markdown",
   "metadata": {},
   "source": [
    "# CSPB 3104 Assignment 5:  Julia Scott"
   ]
  },
  {
   "cell_type": "markdown",
   "metadata": {},
   "source": [
    "***\n",
    "# Instructions\n",
    "\n",
    "This assignment is to be completed as a python3 notebook.  When you upload, please upload the completed notebook (ipynb file).\n",
    "\n",
    "The questions  provided  below will ask you to either write code or \n",
    "write answers in the form of markdown.\n",
    "\n",
    " Markdown syntax guide is here: [click here](https://github.com/adam-p/markdown-here/wiki/Markdown-Cheatsheet)\n",
    "\n",
    "Using markdown you can typeset formulae using latex.\n",
    "This way you can write nice readable answers with formulae like thus:\n",
    "\n",
    "The algorithm runs in time $\\Theta\\left(n^{2.1\\log_2(\\log_2( n \\log^*(n)))}\\right)$, \n",
    "where $\\log^*(n)$ is the inverse _Ackerman_ function.\n",
    "\n",
    "__Double click anywhere on this box to find out how your instructor typeset it. Press Shift+Enter to go back.__\n",
    "\n",
    "***"
   ]
  },
  {
   "cell_type": "markdown",
   "metadata": {},
   "source": [
    "## Question 1: AVL Trees.\n",
    "\n",
    " AVL Trees are yet another self balancing binary search tree (BST) that are sometimes used in the place of  red black trees.\n",
    " The key property of an AVL tree is that \n",
    "\n",
    " *for all nodes $n$ in the tree*, $\\left|\\ \\text{height}(n.\\text{left}) - \\text{height}(n.\\text{right}) \\right| \\leq 1$\n",
    "\n",
    " In words, the height of the left subtree and right subtree at any node can differ by at most $1$.\n",
    " \n",
    " Let $h$ be the height of an AVL tree and $n$ be the number of nodes in the tree.  The goal of this problem is to prove a relationship between $h$ and $n$.  We've broken this into two steps:\n",
    "\n",
    " (A) Prove that $n \\geq F_h$, where $F_h$ is the $h^{th}$ Fibonacci number. ($F_0 = 1, F_1 = 1, F_2 = 2, \\ldots $)\n",
    "  (*Hint* Use strong induction with two base cases. First establish the property for all AVL trees of heights 0 and 1. Next, assuming\n",
    "  it holds for trees of height $\\leq h$, prove it for trees of height $h+1$ ).\n",
    "  \n",
    "  \n",
    "  Next, it is a fact that for any $k \\geq 30$, $F_k \\geq 1.5^k$.\n",
    "  \n",
    " (B) Using the above fact and the result from part A,  show that $h = \\Theta(\\log(n))$.\n",
    "\n",
    " (C) We will briefly examine inserting a node into an AVL tree through an example. On the left, we have shown an AVL tree and to the right we show the result after a BST insert has happened.\n",
    "\n",
    "![AVL Tree Before and After Insertion](avl-tree-insert-problem-img.jpeg \"AVL Tree Insertion\" )\n",
    "\n",
    "  Devise a sequence of left and right rotations that will restore the AVL tree property.\n",
    "Explain for each rotation what is the root node at which we are rotating and which direction. If you wish, you may insert images showing the trees before/after rotation using markdown (see how we inserted the image. But do not forget to upload the images with the submission).\n",
    "\n",
    "\n",
    "\n",
    "\n"
   ]
  },
  {
   "cell_type": "markdown",
   "metadata": {},
   "source": [
    " ### Answer 1 (Expected length: 15 lines)\n",
    "\n",
    "__(A)__  (A) Prove that $n \\geq F_h$, where $F_h$ is the $h^{th}$ Fibonacci number. ($F_0 = 1, F_1 = 1, F_2 = 2, \\ldots $)\n",
    "  (*Hint* Use strong induction with two base cases. First establish the property for all AVL trees of heights 0 and 1. Next, assuming\n",
    "  it holds for trees of height $\\leq h$, prove it for trees of height $h+1$ ).\n",
    "\n",
    "\n",
    "![AVL Tree Nodes Proof](InductionProof_AVLTreeNodes.jpeg \"Induction proof\" )\n",
    "\n",
    "\n",
    "\n",
    "__(B)__ Let k be the height of a balanced AVL tree.  \n",
    "Using the given fact, take the log of both sides of $F_k \\geq 1.5^k$ for $k \\geq 30$, and you are given:\n",
    "\n",
    "$\\log(F_k) \\geq \\log(1.5^k)$\n",
    "\n",
    "$\\log(F_k) \\geq k*\\log(1.5)$\n",
    "\n",
    "Divide both sides by log(1.5)\n",
    "\n",
    "$\\frac{\\log(F_k)}{\\log(1.5)} \\geq k$\n",
    "\n",
    "And we know already that $n \\geq F_k$\n",
    "\n",
    "Therefore, $\\log(n) \\geq \\log(F_k)$ and $k \\leq \\log(n)$\n",
    "\n",
    "Thus k is upper bounded by $\\log(n)$  and  $k = O(\\log(n))$\n",
    "\n",
    "Since we have a balanced, AVL tree, the height of the tree is:\n",
    "\n",
    "$k = ceiling(\\log(n))$\n",
    "\n",
    "The ceiling function rounds the value to the nearest integer, thus\n",
    "\n",
    "$k \\geq \\log(n)$  for all k greater than or equal to 30.\n",
    "\n",
    "This means the height is lower bounded by log(n), giving us\n",
    "\n",
    "$h = \\Theta(\\log(n))$\n",
    "\n",
    "__(C)__ Only one rotation is needed.  The rotation takes place at node 29 as the root. 29 is rotated right, and 26 comes up to take it's place. Now 24 is the left child of 29 and 26, the right child.\n",
    "\n",
    "\n"
   ]
  },
  {
   "cell_type": "markdown",
   "metadata": {},
   "source": [
    "***\n",
    "## Question 2: Bloom Filters"
   ]
  },
  {
   "cell_type": "markdown",
   "metadata": {},
   "source": [
    "\n",
    " A bloom filter is a fast set data structure that maintains a set $S$ of keys. One can insert keys into the set and test whether a given key $k$ belongs to the set. It may be used in applications where the keys are \"complicated\" objects such as TCP packets or images that are expensive to compare with each other. \n",
    " \n",
    "\n",
    " The data structure is an array $T$ of Booleans size $m$ with $l$ different hash functions $h_1, \\ldots, h_l$.\n",
    " Initially, `T[i] = FALSE` for all `i`.\n",
    "\n",
    " If a key $k$ is to be inserted \n",
    " we first compute $i_1 = h_1(k), \\ldots, i_l = h_l(k)$ and then we set $T[i_1] = \\cdots T[i_l] = \\text{TRUE}$.\n",
    "\n",
    " __Note:  A bloom filter is *not* a hash table, but they both use hash functions in interesting ways.__\n",
    "\n",
    " __(A)__ Suppose we wish to find out if an element $k$ is a member of the set by checking if\n",
    "$T[h_1(k)], \\ldots, T[h_l(k)]$ are all true. Explain whether this can lead to a *false positive* i.e,\n",
    "the approach wrongly concludes that $k$ belongs to the set when it was never inserted; or *false negative*\n",
    "i.e, the approach wrongly concludes that $k$ does not belong to the set when it does.\n",
    "\n",
    " __(B)__ Suppose our hash functions are guaranteed to be uniform. I.e, for any randomly chosen\n",
    "key $k$, for any hash function $h_i$ and cell $j$, \n",
    "  $$ \\mathbb{P}( h_i(k) = j)  = \\frac{1}{m} $$\n",
    " If $n$ keys are chosen at random and inserted into the filter, compute that probability that any given cell $T[j]$ is set to FALSE after this.\n",
    "\n",
    " __(C)__ Use the results from previous set to estimate the probability of a false positive. I.e, some $l$ cells\n",
    "$i_1, i_2, \\ldots, i_l$ are simultaneously set to TRUE.\n",
    "\n",
    " \n",
    "\n"
   ]
  },
  {
   "cell_type": "markdown",
   "metadata": {},
   "source": [
    "### Answer 2 { Expected Size: 15 lines}\n",
    "\n",
    "__(A)__ Yes this can lead to a false positive.  Bloom filters are only mostly correct and how accurate they are depend on the set up of the hash functions, the keys, and the number of m buckets for the true or false values.  \n",
    "\n",
    "Let's say we have two keys, k1 and k2, and k1 is already in the filter and k2 is not.  Let's also say they happen to map to the same indices for all of the hash functions.  In this case the bloom filter would check h1(k2)... hl(k2), and it would find all values in those locations to be true since h1(k1)... hl(k1) has already been computed and changed to be true.  This would yield a false positive.  \n",
    "\n",
    "False negatives are impossible because if a key has been added, by the nature of functions, h1(k)....hl(k) will map to the same indices every time, preventing false negatives.\n",
    "\n",
    "__(B)__ \n",
    "\n",
    "The total probability for mapping or not mapping to a given cell in the bloom filter with one hash function is 1, making the total probability equation:  \n",
    "\n",
    "$1 = \\frac{1}{m} + probability\\ of\\ not\\ mapping$\n",
    "\n",
    "$probability\\ of\\ not\\ mapping = p_{not} = 1 - \\frac{1}{m}$\n",
    "\n",
    "After $n$ keys are inserted the probability that any given cell has not been mapped to, and thus is set to False, is:\n",
    "\n",
    "$(p_{not})^n$\n",
    "\n",
    "Thus,\n",
    "\n",
    "$P = (1 - \\frac{1}{m})^n$\n",
    "\n",
    "__(C)__ For a false positive, l cells will have to be found to be simultaneously True.\n",
    "The probability of this is all the probabilities of each cell being true, multiplied together, by nature of statistics.\n",
    "Thus,\n",
    "\n",
    "$P_{false\\ positive} = ((\\frac{1}{m})^n)^l = (\\frac{1}{m})^{n*l}$\n"
   ]
  },
  {
   "cell_type": "markdown",
   "metadata": {},
   "source": [
    "## Testing your solutions -- Do not edit code beyond this point"
   ]
  },
  {
   "cell_type": "code",
   "execution_count": null,
   "metadata": {},
   "outputs": [],
   "source": []
  }
 ],
 "metadata": {
  "kernelspec": {
   "display_name": "Python 3",
   "language": "python",
   "name": "python3"
  },
  "language_info": {
   "codemirror_mode": {
    "name": "ipython",
    "version": 3
   },
   "file_extension": ".py",
   "mimetype": "text/x-python",
   "name": "python",
   "nbconvert_exporter": "python",
   "pygments_lexer": "ipython3",
   "version": "3.7.2"
  }
 },
 "nbformat": 4,
 "nbformat_minor": 2
}
