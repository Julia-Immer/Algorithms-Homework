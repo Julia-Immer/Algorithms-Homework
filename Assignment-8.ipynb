{
 "cells": [
  {
   "cell_type": "markdown",
   "metadata": {
    "deletable": false,
    "editable": false,
    "nbgrader": {
     "checksum": "0e912d91fc43af4de0293c408025a668",
     "grade": false,
     "grade_id": "cell-127b1a833cb3b365",
     "locked": true,
     "schema_version": 1,
     "solution": false
    }
   },
   "source": [
    "# CSPB 3104 Assignment 8: Problem Set\n",
    "## Instructions\n",
    "\n",
    "> This assignment is to be completed and uploaded to \n",
    "moodle as a python3 notebook. \n",
    "\n",
    "> Submission deadlines are posted on moodle. \n",
    "\n",
    "> The questions  provided  below will ask you to either write code or \n",
    "write answers in the form of markdown.\n",
    "\n",
    "> Markdown syntax guide is here: [click here](https://github.com/adam-p/markdown-here/wiki/Markdown-Cheatsheet)\n",
    "\n",
    "> Using markdown you can typeset formulae using latex.\n",
    "\n",
    "> This way you can write nice readable answers with formulae like thus:\n",
    "\n",
    ">> The algorithm runs in time $\\Theta\\left(n^{2.1\\log_2(\\log_2( n \\log^*(n)))}\\right)$, \n",
    "wherein $\\log^*(n)$ is the inverse _Ackerman_ function.\n",
    "\n",
    "__Double click anywhere on this box to find out how your instructor typeset it. Press Shift+Enter to go back.__\n"
   ]
  },
  {
   "cell_type": "markdown",
   "metadata": {
    "deletable": false,
    "editable": false,
    "nbgrader": {
     "checksum": "bec909e672e3976357fa513c80c7c64a",
     "grade": false,
     "grade_id": "cell-b34e71ff2fc2e751",
     "locked": true,
     "schema_version": 1,
     "solution": false
    }
   },
   "source": [
    "----"
   ]
  },
  {
   "cell_type": "markdown",
   "metadata": {
    "deletable": false,
    "editable": false,
    "nbgrader": {
     "checksum": "27ae8cb5796bb77cc365e4e382b8019b",
     "grade": false,
     "grade_id": "cell-1945cd477b54f85c",
     "locked": true,
     "schema_version": 1,
     "solution": false
    }
   },
   "source": [
    "## Question 1: Shortest Cycle Involving a Given Node.\n",
    "\n",
    "You are given a directed graph $G: (V, E)$ using an adjacency list representation and a vertex (node) $u$ of the graph.\n",
    "Write an algorithm to perform the following tasks:\n",
    "\n",
    "__1(A)__ Write an algorithm that decides (true/false) whether the vertex $u$ belongs to a cycle.\n",
    "\n",
    "What is the complexity for your algorithm in terms of the number of vertices $|V|$ and the number of edges $|E|$?\n",
    "\n",
    "Note: Throughout this assignment you may describe your algorithms using words and definitely use algorithms that you have already learned in class. A brief description will do.\n"
   ]
  },
  {
   "cell_type": "markdown",
   "metadata": {
    "deletable": false,
    "nbgrader": {
     "checksum": "0cf6dd299d41db50d3c7e78e3bb2fe2f",
     "grade": true,
     "grade_id": "cell-f62177827f9dd187",
     "locked": false,
     "points": 15,
     "schema_version": 1,
     "solution": true
    }
   },
   "source": [
    "Run DFS on u and label edges.\n",
    "If a back edge is found pointing to u while running DFS, then return True.\n",
    "If DFS finishes and no back edge pointing to u was found during search, then return False.\n",
    "\n",
    "The time complexity of this algortithm is $O(|V|+|E|)$ because DFS is $O(|V|+|E|)$.  At worst, the algorithm performs DFS for the entire graph making the complexity the same."
   ]
  },
  {
   "cell_type": "markdown",
   "metadata": {
    "deletable": false,
    "editable": false,
    "nbgrader": {
     "checksum": "886110138aee0e57218dd5b609150262",
     "grade": false,
     "grade_id": "cell-62c105704e7ed5fb",
     "locked": true,
     "schema_version": 1,
     "solution": false
    }
   },
   "source": [
    "__1(B)__ Write an algorithm which prints the smallest length cycle involving the vertex $u$.\n",
    "\n",
    "What is the complexity for your algorithm in terms of the number of vertices $|V|$ and the number of edges $|E|$?\n",
    "\n",
    "Same answer as 1 he said"
   ]
  },
  {
   "cell_type": "markdown",
   "metadata": {
    "deletable": false,
    "nbgrader": {
     "checksum": "819b4c2261a0b0f3d19d8829a5efa46c",
     "grade": true,
     "grade_id": "cell-1c7b2a45df2ec8ca",
     "locked": false,
     "points": 15,
     "schema_version": 1,
     "solution": true
    }
   },
   "source": [
    "YOUR ANSWER HERE"
   ]
  },
  {
   "cell_type": "markdown",
   "metadata": {
    "deletable": false,
    "editable": false,
    "nbgrader": {
     "checksum": "b4154440aa7853b85560ef2a595a8212",
     "grade": false,
     "grade_id": "cell-a40c85c43d85c203",
     "locked": true,
     "schema_version": 1,
     "solution": false
    }
   },
   "source": [
    "----"
   ]
  },
  {
   "cell_type": "markdown",
   "metadata": {
    "deletable": false,
    "editable": false,
    "nbgrader": {
     "checksum": "5094817e04e8fc96af1a6acc77207723",
     "grade": false,
     "grade_id": "cell-5b55e83496f8700c",
     "locked": true,
     "schema_version": 1,
     "solution": false
    }
   },
   "source": [
    "## Question 2: Tracing an Epidemic\n",
    "\n",
    "An email with a malicious attachment has evaded the antivirus software of company X.\n",
    "We know that the CEO's computer was infected during a business trip last month. Since then,investigators have \n",
    "been trying to determine whose mailboxes could be infected. For an employee's mailbox to be infected, he or she must have received\n",
    "and read  an email sent by an already affected employee. \n",
    "\n",
    "Starting from the time $0$ denoting when the CEO's mailbox was first infected, investigators have \"metadata\" for all\n",
    "the emails from all employees in the form\n",
    "\n",
    "$(P_i, P_j, t_k, t_l)$ meaning that employee $P_i$ sent an email at time $t_k$ to employee $P_j$, and $P_j$ opened the email at\n",
    "time $t_l > t_k$.  We assume that $P_j$'s mailbox is infected instantaneously at time $t_l$ if $P_i$'s mailbox was infected before time $t_k$. \n",
    "\n",
    "You are given a collection of email records in the form given above, and  you know that person $P_0$ is the CEO who was infected at time $t = 0$.\n",
    "\n",
    "we ask if a given person of interest $P_j$ could have been infected at a given time of interest $t = T$.\n",
    "\n",
    "__2(A)__ Write an algorithm that, given a person $P_j$ and time $T$, determines if $P_j$'s mailbox was infected before or at time $T$. What is the worst case complexity of your algorithm in terms of the number of persons $|P|$,  and the number of emails sent $|E|$.\n",
    "\n",
    "**Hint** You need to first make a graph that represents the possible flow of the \"infection\" through emails. It is easier to make a complicated graph (in this case, one where each vertex represents more than just a person) and then run a simple graph algorithm (one of the vanilla algorithms we learned this week, ie BFS/DFS/Topological sort) rather than making a simple graph and running a complicated ad-hoc algorithm on it (If your algorithm requires table lookups or passing on metadata specific to the problem at hand, it's probably too complicated).  "
   ]
  },
  {
   "cell_type": "markdown",
   "metadata": {
    "deletable": false,
    "nbgrader": {
     "checksum": "7dc1b3d1657885260248e1aac7806a94",
     "grade": true,
     "grade_id": "cell-ca4da08b8011560d",
     "locked": false,
     "points": 15,
     "schema_version": 1,
     "solution": true
    }
   },
   "source": [
    "## Making the Graph\n",
    "\n",
    "Make a series of two-node directed graphs based on each email.  Each email graph will have the starting node be the sender and the time the email is sent, and the end node be the receiver and the time they opened the graph.  Label the nodes if they are senders or receivers.  This will be our forest of emails and it will have 2*|E| nodes, taking theta(|E|) time to create.\n",
    "\n",
    "\n",
    "The edges will look like ([Pi, tk, sender], [Pj, tl, receiver]) and will be weighted with the time difference of tl - tk.  Make a special emails_sent_by list where each bucket in the list corresponds to one of the people in P.  This will take theta(|E|) for the number of emails sent.\n",
    "\n",
    "\n",
    "Create a single infection node for the CEO at t = 0.  From this node connect all of the email nodes the ceo sent out after t = 0. Let each of the new edges be weighted with the difference between 0 and tk.  I included a picture of my graph and here the ceo sends out only 3 emails.  I colored sender nodes as turquoise and receiver nodes as purple. The blue arrows are an email edge, one that connects sender and receiver.  And the red ring around the CEO's first node signifies his infected email box.\n",
    "\n",
    "\n",
    "The tree gets built by connecting every receiver node (say a [P_5, 4, receiver] node) with a time weighted directed edge to every single one of that same person's (P_5) sender nodes which have time t_s >= t_receiver (t_s >= 4). The weight is the difference, t_receiver minus t_s.  For example, the upper left hand yellow edge from the CEO (P_0) has a weight of 0.  The middle edge from the CEO has a weight of 2 - 0 = 2.  These edges are colored yellow in the diagram.\n",
    "\n",
    "\n",
    "As you make the graph, you should disregard all emails received by the ceo.  The CEO is always infected in this scenario so emails back to him don't matter. \n",
    "\n",
    "Store the graph in an adjacency list.  The adjacency list worst case ends up having O(2*|E|) = O(|E|) buckets if there are close to as many people as emails.\n",
    "\n",
    "\n",
    "![Infection Tree](InfectionTree.jpg \"Infection Tree\" )\n",
    "\n",
    "This graph allows us to trace infections from the CEO at time 0 as only the emails in the direct flow of the CEO's infecting emails will be reachable from the start node.\n",
    "\n",
    "\n",
    "In the example, P_3 (person 3) sends an email at t = 0, but they haven't received any emails yet so there are no connecting paths to the larger tree where that email and it's two nodes are reachable. \n",
    "\n",
    "\n",
    "## Finding the First Infection of Pj\n",
    "\n",
    "Use a modified Djirksta's Algorithm to find all the shortest paths from the CEO (P_0) node to each node which has Pj as a receiver.  This algorithm keeps track of the lengths of all the possible paths to Pj. If the algorithm encounters a node with Pj as the receiver, then it will record the time for that receiver node in a min-heap, taking O(log|E|).\n",
    "\n",
    "\n",
    "Because we used a min-heap in Djirksta's, the total runtime to complete the algorithm is O((|E| + 2*|E|)log|E|) = O(|E|log|E|).\n",
    "\n",
    "The graph creation took O(|E|) which leaves us with O(|E|log|E|) complexity for our solution.\n",
    "\n",
    "\n",
    "\n",
    "\n"
   ]
  },
  {
   "cell_type": "markdown",
   "metadata": {
    "deletable": false,
    "editable": false,
    "nbgrader": {
     "checksum": "44ca5f2c62e15d7e23c315161b8c5c16",
     "grade": false,
     "grade_id": "cell-ea8e4613fd3a0ecc",
     "locked": true,
     "schema_version": 1,
     "solution": false
    }
   },
   "source": [
    "__2(B)__ Write an algorithm that prints out each person who is infected in increasing order of the times in which they\n",
    "first got infected.\n"
   ]
  },
  {
   "cell_type": "markdown",
   "metadata": {
    "deletable": false,
    "nbgrader": {
     "checksum": "7ee04073478778baf66d029d0575febf",
     "grade": true,
     "grade_id": "cell-e854214ca7571bd4",
     "locked": false,
     "points": 15,
     "schema_version": 1,
     "solution": true
    }
   },
   "source": [
    "## Running Djirksta's to Print Infections\n",
    "\n",
    "Run Djirksta's Algorithm again but this time use it to find the shortest time distance from the CEO infection node to all receiver nodes.\n",
    "\n",
    "Using a hash map of all the people in P, we can store the current shortest distance for each Pj receiver node by overwriting the time if the new infection time is shorter for than the current value for Pj in our map, or passing if not.  The lookup and overwrite time for hash maps is O(1).\n",
    "\n",
    "This lets Djirksta's run in O(|E|) time.  The size of this map is |P| and its important to say that only receiver nodes are considered for possible solutions in the hash map.\n",
    "\n",
    "Printing out our hash map will only take O(|P|) giving us O(|E| + |P|) time total."
   ]
  },
  {
   "cell_type": "markdown",
   "metadata": {
    "deletable": false,
    "editable": false,
    "nbgrader": {
     "checksum": "5463ccc822ea257abab616b1ed295b3d",
     "grade": false,
     "grade_id": "cell-bbbaebd54182a91b",
     "locked": true,
     "schema_version": 1,
     "solution": false
    }
   },
   "source": [
    "----"
   ]
  },
  {
   "cell_type": "markdown",
   "metadata": {
    "deletable": false,
    "editable": false,
    "nbgrader": {
     "checksum": "1c292ea1a4ed3fab4f484d8cb4fdcd5b",
     "grade": false,
     "grade_id": "cell-5476b9fe46e69f6b",
     "locked": true,
     "schema_version": 1,
     "solution": false
    }
   },
   "source": [
    "## Question 3: Testing Moth Age Expert\n",
    "\n",
    "A person claims to have spent his life studying the emperor gum moth  *Opodiphthera eucalypti*. \n",
    "Given two moth samples, he claims to tell us which one is the older. Of course, \n",
    "we ourselves are no experts and they all in fact look the same to us.\n",
    "\n",
    "\n",
    "We test the person as follows: (a) collect a large number $n$ of e.g. moth specimen; (b) randomly\n",
    "select $m$ different pairs from our collection and have the person tell us which one is older; \n",
    "(c) record their answers and analyze them to see if they are _consistent_\n",
    "\n",
    "Write an algorithm to detect if the \"expert\" opinions are _consistent_. \n",
    "\n",
    "\n",
    "**Hint:** We have refrained from discussing what consistency means in this case. But can provide you an example as a hint.\n",
    "\n",
    "__Example__ \n",
    "\n",
    "Suppose $n= 4$ and the expert says that\n",
    "\n",
    "Specimen \\# $1$ is older than $2$, $3$ is older than $4$, $4$ is older than $2$ and $2$ is older\n",
    "than $3$.\n",
    "\n",
    "The expert's opinion is clearly *inconsistent*.\n",
    "\n",
    "Suppose $n=4$ and the expert says that\n",
    "\n",
    "Specimen \\# $1$ is older than $2$, $3$ is older than $4$ and $4$ is older than $1$. The\n",
    "expert's answer is *consistent*.\n",
    "\n"
   ]
  },
  {
   "cell_type": "markdown",
   "metadata": {
    "deletable": false,
    "nbgrader": {
     "checksum": "838f173066756cd41eafb0e4fbfcda57",
     "grade": true,
     "grade_id": "cell-0ae64f4d37077c7a",
     "locked": false,
     "points": 20,
     "schema_version": 1,
     "solution": true
    }
   },
   "source": [
    "YOUR ANSWER HERE"
   ]
  },
  {
   "cell_type": "markdown",
   "metadata": {
    "deletable": false,
    "editable": false,
    "nbgrader": {
     "checksum": "971c10d1b1e963ad625846abddc60f97",
     "grade": false,
     "grade_id": "cell-4e1b94d22bdd769d",
     "locked": true,
     "schema_version": 1,
     "solution": false
    }
   },
   "source": [
    "----"
   ]
  },
  {
   "cell_type": "markdown",
   "metadata": {
    "deletable": false,
    "editable": false,
    "nbgrader": {
     "checksum": "9ec4d44f30e520be55507d66b8c1e5d0",
     "grade": false,
     "grade_id": "cell-73a95ac75b7272e1",
     "locked": true,
     "schema_version": 1,
     "solution": false
    }
   },
   "source": [
    "## Question 4: Testing if an undirected graph is acyclic\n",
    "\n",
    "You are given a strongly connected, undirected graph $G$ with $n$ vertices as an adjacency list. Write an algorithm to check if $G$ has a cycle that runs in time $\\Theta(n)$.\n",
    "\n",
    "*Hint* A connected, undirected acyclic graph is a tree. Since you are already given that $G$ is connected, you are just checking if $G$ is a tree. How many edges would a tree have?\n"
   ]
  },
  {
   "cell_type": "markdown",
   "metadata": {
    "deletable": false,
    "nbgrader": {
     "checksum": "ff16477da1925d3c9c70c0b5b4234ae7",
     "grade": true,
     "grade_id": "cell-68cb53d23a2a9ba5",
     "locked": false,
     "points": 20,
     "schema_version": 1,
     "solution": true
    }
   },
   "source": [
    "Strongly connected and \n",
    "\n",
    "The tree will have n - 1 edges if it has n nodes.  \n",
    "\n",
    "if it's acyclic: number of nodes = number of edges + 1"
   ]
  }
 ],
 "metadata": {
  "kernelspec": {
   "display_name": "Python 3",
   "language": "python",
   "name": "python3"
  },
  "language_info": {
   "codemirror_mode": {
    "name": "ipython",
    "version": 3
   },
   "file_extension": ".py",
   "mimetype": "text/x-python",
   "name": "python",
   "nbconvert_exporter": "python",
   "pygments_lexer": "ipython3",
   "version": "3.9.10"
  }
 },
 "nbformat": 4,
 "nbformat_minor": 2
}
