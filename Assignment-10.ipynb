{
 "cells": [
  {
   "cell_type": "markdown",
   "metadata": {},
   "source": [
    "# CSPB 3104 Assignment 10:\n",
    "## Instructions\n",
    "\n",
    "> This assignment is to be completed and uploaded to \n",
    "moodle as a python3 notebook. \n",
    "\n",
    "> Submission deadlines are posted on moodle. \n",
    "\n",
    "> The questions  provided  below will ask you to either write code or \n",
    "write answers in the form of markdown.\n",
    "\n",
    "> Markdown syntax guide is here: [click here](https://github.com/adam-p/markdown-here/wiki/Markdown-Cheatsheet)\n",
    "\n",
    "> Using markdown you can typeset formulae using latex.\n",
    "\n",
    "> This way you can write nice readable answers with formulae like thus:\n",
    "\n",
    ">> The algorithm runs in time $\\Theta\\left(n^{2.1\\log_2(\\log_2( n \\log^*(n)))}\\right)$, \n",
    "wherein $\\log^*(n)$ is the inverse _Ackerman_ function.\n",
    "\n",
    "__Double click anywhere on this box to find out how your instructor typeset it. Press Shift+Enter to go back.__\n"
   ]
  },
  {
   "cell_type": "markdown",
   "metadata": {},
   "source": [
    "## Question 1: Arbitrage Opportunities\n",
    "\n",
    "An arbitrage in finance is a way to make money for sure without much risk. For instance, suppose 1 USD yields 5 Chinese RMB and 1 RMB trades for 0.4 Euros, and 1 Euro trades for 0.52 USD,  you have an arbitrage opportunity\n",
    "wherein you can take x USD, obtain 5x RMB, and in turn trade them for 2x Euros and finally end up with 1.02x USD back. Every time you exercise this opportunity, you get a 2 cent profit (assuming you can trade for free and there is no spread in the buying and selling prices, but that is another can of worms).\n",
    "\n",
    "In theory, arbitrage cannot exist in efficient markets but they can persist for a short amount of time. Electronic traders can then search for such opportunities in real time and rapidly exploit them.\n",
    "\n",
    "You are given a basket of $n$ currencies and for each pair of currencies $(C_i,C_j)$, you are given a ratio\n",
    "$R_{i,j}$ that says that one unit of currency $C_i$ is currently fetching $R_{i,j}$ units of $C_j$.\n",
    "\n",
    "__(A)__ Given the ratios $R_{i,j}$ write an efficient algorithm that can detect if any arbitrage opportunities currently exist. What is the running time of your algorithm?\n",
    "\n",
    "(__Hint:__ Make a graph out of the problem data. What does the presence of arbitrage mean for this graph? )\n",
    "\n",
    "__(B)__ We are not just interested in finding an arbitrage opportunity, but also interested in finding the shortest length opportunity, defined as one that involves the smallest number of trades. Naturally, given that prices change\n",
    "and also given that there are trading fees, such opportunities are more desirable. \n",
    "\n",
    "Write an algorithm to find the smallest length arbitrage opportunity. What is the running time for your algorithm?\n",
    "\n",
    "(__Hint:__ Modify the Floyd Warshall algorithm you learned this week. In particular, how do you detect if there is a negative weight cycle of length k in the graph?)\n",
    "\n",
    "\n"
   ]
  },
  {
   "cell_type": "markdown",
   "metadata": {},
   "source": [
    "### Answer 1 (Expected Length: 12 lines).\n",
    "\n",
    "__(A)__ Make a graph where each node is a currency and each edge is weighted as below, directed from $C_i$ to $C_j$. Store it in an adjacency list.\n",
    "\n",
    "$$w(C_i, C_j) = (-1)*\\log((R_{i, j}))$$\n",
    "\n",
    "Taking the log of the ratio allows us to add the edge weights together to simulate multiplication and all we have to do to get the multiplicative ratio of multiple exchanges is exponentiate it.  \n",
    "  \n",
    "We need to modify the graph so we can use the Bellman Ford algorithm to find negative cycles, instead of searching for positive cycles. By reversing the sign we can find the negative cycles that reflect profit.\n",
    "\n",
    "Add an additional starting node 0 and add to it edges with weight zero so we can run Bellman Ford from it successfully, without worry of the starting node having a negative edge.\n",
    "\n",
    "Size of graph is:  \n",
    "Vertices = $n$  \n",
    "Edges = $n^2$  \n",
    "\n",
    "Time: $\\theta(n^2)$\n",
    "\n",
    "Run the Bellman Ford algorithm and after running it, check all the edges again to see if any of them can lead to further relaxation. If it can, return True and if it can't, return False.\n",
    "\n",
    "Time: $\\theta(n*n^2)$\n",
    "\n",
    "Total: $\\theta(n^3)$\n",
    "\n",
    "__(B)__ __Your answer here__\n",
    "\n",
    "Take away the start node 0 and it's edges from the graph.  $O(n)$\n",
    "  \n",
    "Modify the Floyd-Marshal algorithm so that instead of defaulting to setting $D^0[i, j]$ to 0 if i = j, have the algorithm record the distance for each of the $D^n$ matrices.  \n",
    "  \n",
    "As soon as a negative value is detected in any D[i, i] slot, capture that value.\n",
    "  \n",
    "Take that value and negate it, bringing the factor positive, and then exponentiate it to undo the log.  Return this value as the smallest arbitrage opportunity.\n",
    "\n",
    "Runtime: $O(|V|^3) = O(n^3)$"
   ]
  },
  {
   "cell_type": "markdown",
   "metadata": {},
   "source": [
    "----"
   ]
  },
  {
   "cell_type": "markdown",
   "metadata": {},
   "source": [
    "### Question 2: Longest Paths.\n",
    "\n",
    "Given a weighted, directed graph $G$, the longest simple path from vertex $s$ to $t$ is a path that (a) goes from $s$ to $t$, (b) cannot revisit a vertex along the path, and (c) has the maximum weight among all the paths going from $s$ to $t$.\n",
    "\n",
    "__(A)__ Show using an example that for any graph $G$, that the longest path problem is not equivalent to solving the shortest path problem by negating the edge weights. (*Hint* Negating edge weights will work but for a common problem that makes shortest paths undefined.)\n",
    "\n",
    "__(B)__ Show that if the graph $G$ is a DAG, the longest path problem can be solved by negating the edge weights and solving a shortest path problem. What is the running time cost?\n"
   ]
  },
  {
   "cell_type": "markdown",
   "metadata": {},
   "source": [
    "### Answer 2 (Expected Length: 6 lines)\n",
    "\n",
    "__(A)__ __your answer here__\n",
    "\n",
    "![Directed Cyclic Graph](IMG_5794Small.jpeg )\n",
    "\n",
    "![Directed Cyclic Graph Negated](IMG_5795Small.jpeg )\n",
    "\n",
    "A directed, cyclic graph with all positive weights would produce a negated graph where all edges are negative and therefore, the shortest paths are undefined.\n",
    "\n",
    "One could go around and around a cycle and the path would become continually smaller, thus making it undefined.\n",
    "\n",
    "__(B)__ __your answer here__\n",
    "\n",
    "If the graph is a DAG then we can negate the edges and use the DAG-Shortest-Path algorithm from the root to find the longest path.\n",
    "\n",
    "According to Theorem 24.5 on page 656 of our textbook, once this algorithm terminates we will have the final shortest path estimates.  Let the shortest path in the modified graph be s.\n",
    "\n",
    "$v.d = minimum\\ \\ d(s, v)$  where s is the source vertex\n",
    "\n",
    "$v.d <= d(s, u) + w(u, v)$ for all u along a path from s to v\n",
    "\n",
    "Now negate this to return to the original.\n",
    "\n",
    "$(-1)*v.d <= (-1)*d(s, u) + (-1)*w(u, v)$\n",
    "\n",
    "We can rearrange to find v.d is larger or equal to any of the other paths from s to v.\n",
    "\n",
    "$v.d >= d(s, u) + w(u, v)$\n",
    "\n",
    "$\\theta(|V| + |E|)$"
   ]
  },
  {
   "cell_type": "markdown",
   "metadata": {},
   "source": [
    "----"
   ]
  },
  {
   "cell_type": "markdown",
   "metadata": {},
   "source": [
    "### Question 3: Being In the Right Place At the Right Time.\n",
    "\n",
    "You are helping a secret agent plan a series of rendezvous in a capital. The rendezvous are happening along different stations of a subway line at precisely hours $1, 2, \\ldots, n$.  There are $m$ subway stations, each with an ID numbered $1, \\ldots, m$.\n",
    "The rendezvous at hour $j$ occurs at station $S_j$:\n",
    "\n",
    "$$\\begin{array}{|l|c|c|c|c|c|}\n",
    "\\hline\n",
    "\\text{Rendezvous} & 1 & 2 & \\cdots & n-1 & n \\\\\n",
    "\\hline\n",
    "\\text{Station ID} & S_1 & S_2 & \\cdots & S_{n-1} & S_n \\\\\n",
    "\\hline \\end{array}$$\n",
    "\n",
    "For instance, The rendezvous at hour 1 might happen at station 5, the rendezvous at hour 2 might happen at station 12, and the rendezvous at hour 3 might happen at station 1.  In this case, $S_1 = 5, S_2 = 12,$ and $S_3 = 1$.  __Note:__ Your answer should be for any sequence of rendezvous, not for this specific example.\n",
    "\n",
    "The spy starts at station $1$ at time $0$ and further, must at all costs attend rendezvous $n$. In each hour, the agent is limited to travelling no more than $K$ stations along the line.  Thus, she must decide whether to skip some of the rendezvous in favor of others.\n",
    "\n",
    "Provide an algorithm to calculate the maximum number of rendezvous the agent can make with the constraint that she must make rendezvous $n$. What is the running time?\n",
    "\n",
    "__Hint:__ As usual, it comes down to defining a graph and solving a suitable problem.\n"
   ]
  },
  {
   "cell_type": "markdown",
   "metadata": {},
   "source": [
    "### Answer 3 (expected length: 6 lines)\n",
    "\n",
    "Make a DAG by creating a node for every possible combination of station and times up to and including time n.\n",
    "\n",
    "Each node will contain (station, time). \n",
    "\n",
    "Draw edges from every node, u, to every other station and time node that is one hour ahead and is within k and -k stations (reachable stations).  Also draw an edge from each node to all other nodes with it's station ID that have time greater than u.time.  This allows the spy to wait at a station.\n",
    "\n",
    "Weight all edges that are incoming to nodes that held a station and time with a rendezvous as having weight 1.  Weight the remaining edges 0.\n",
    "\n",
    "number of nodes: $\\theta(n*m)$  \n",
    "number of edges: $\\theta(n*m*k)$  \n",
    "\n",
    "Time: $\\theta(n*m + n*m*k)$  \n",
    "\n",
    "Using problem 2, we can reverse the signs and then use the DAG-Shortest-Path algorithm to find the shortest path, giving us the longest path with the greatest number of rendezvous upon sign reversal.  We just have to make sure we only look at paths to the target node $(S^n, n)$.\n",
    "\n",
    "Time: $\\theta(n*m + n*m*k) = \\theta(n*m*k)$  "
   ]
  },
  {
   "cell_type": "markdown",
   "metadata": {},
   "source": [
    "----"
   ]
  },
  {
   "cell_type": "markdown",
   "metadata": {},
   "source": [
    "## Question 4: U-turn if you want to.\n",
    "\n",
    "A $N \\times N$ maze is defined by a graph with vertices $(i,j)$ for $1 \\leq i \\leq n$ and $1 \\leq j \\leq n$.\n",
    "Each node $(i,j)$ is connected to a subset of its four adjacent neighbors $\\{(i+1, j), (i, j+1), (i-1, j), (i, j-1) \\}$.\n",
    "\n",
    "The grid is laid out so that $(1,1)$ is the south west corner and $(n,n)$ is the northeast corner.\n",
    "\n",
    "The vehicle starts at $(1,1)$ *oriented north* and needs to reach $(n,n)$ *oriented east*.\n",
    "\n",
    "It can travel along the four cardinal directions $N, E, W, S$ and rapidly change these direction by \n",
    "making a left or right turn. Eg., changing heading from $N$ to $E$ \n",
    "requires making a right turn, $N$ to $W$ requires a left turn and $N$ to $S$\n",
    "requires either 2 left or 2 right turns.\n",
    "\n",
    "Find the minimimum cost path from $(1,1)$ oriented north to $(n,n)$ oriented east, \n",
    "where the cost is defined as the number of \n",
    "edges plus $2 \\times$ the number of left turns plus $3 \\times$ the number of right turns.\n",
    "\n",
    "What is the running time of your algorithm?\n",
    "\n",
    "*Hint* Define a new graph that helps us track not just the vehicle location but also its current travel direction.\n",
    "Define edge weights appropriately so that the shortest cost problem on this new graph will solve the original problem."
   ]
  },
  {
   "cell_type": "markdown",
   "metadata": {},
   "source": [
    "### Answer 4 (Expected Length: 8 lines)\n",
    "Make a new graph, similar to the first, except split each node into 4 nodes which represent the 4 different directions the vehicle could be facing at each (i, j) spot in the original graph.\n",
    "\n",
    "Now connect these to each neighboring node as shown in the diagram.  The 4 directions are connected by the turns they could make to face different directions.  I did have each location on the maze fully connected to itself but we don't need to connect north and south or east and west as it would be the same as making two left or two right turns.\n",
    "\n",
    "I forgot to put the edges that connect the surrounding nodes back to the middle one.  It follows the exact same procedure as above with the neighbor as the center node.\n",
    "\n",
    "![Maze Graph](IMG_5797Small.jpeg )\n",
    "\n",
    "Each node cluster (N, S, E, W) is connected to it's surrounding pixels by just one edge each weighted one, signifying moving a space.  Connect the N to N on top, E to E on the left, etc.  The idea here is you travel in the direction you're facing and any turns are made in place before moving to the nearest node.  Only connect node clusters that are connected in the original maze.\n",
    "\n",
    "Graph size:  \n",
    "vertices = $4*n^2 = \\theta(n^2)$  \n",
    "edges = $\\theta((4*2 + 4)*n^2) = \\theta(n^2)$\n",
    "\n",
    "After creating this graph we can run Dijrksta's algorithm to find the shortest path from node (1, 1, North) to the finish node (n, n, East).   $O(|V|^2) = O(n^4)$"
   ]
  },
  {
   "cell_type": "markdown",
   "metadata": {},
   "source": [
    "----"
   ]
  },
  {
   "cell_type": "markdown",
   "metadata": {},
   "source": [
    "## Testing your solutions -- Do not edit code beyond this point"
   ]
  },
  {
   "cell_type": "code",
   "execution_count": null,
   "metadata": {},
   "outputs": [],
   "source": []
  }
 ],
 "metadata": {
  "kernelspec": {
   "display_name": "Python 3",
   "language": "python",
   "name": "python3"
  },
  "language_info": {
   "codemirror_mode": {
    "name": "ipython",
    "version": 3
   },
   "file_extension": ".py",
   "mimetype": "text/x-python",
   "name": "python",
   "nbconvert_exporter": "python",
   "pygments_lexer": "ipython3",
   "version": "3.9.10"
  }
 },
 "nbformat": 4,
 "nbformat_minor": 2
}
