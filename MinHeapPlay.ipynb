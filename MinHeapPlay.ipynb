{
 "cells": [
  {
   "cell_type": "markdown",
   "metadata": {},
   "source": [
    "# Min Heap Code Play\n",
    "\n",
    "**Programming some of its operations for fun and learning.**"
   ]
  },
  {
   "cell_type": "code",
   "execution_count": null,
   "metadata": {},
   "outputs": [],
   "source": [
    "def BubbleDown(H, j) :\n",
    "    # base case 1, no children\n",
    "    if 2*j >= len(H) :\n",
    "        return\n",
    "    # case 2, only one child\n",
    "    if 2*j == len(H) - 1 :\n",
    "        if H[2*j] < H[j] :\n",
    "            # swap the elements\n",
    "            H[2*j] , H[j] = H[j] , H[2*j]\n",
    "            BubbleDown(H, 2*j)\n",
    "    # case 3, two children\n",
    "    else :\n",
    "        # take smaller element and swap\n",
    "        if (H[2*j] < H[j]) or (H[2*j + 1] < H[j]) :\n",
    "            if H[2*j] < H[2*j + 1] :\n",
    "                # swap smaller child\n",
    "                H[2*j] , H[j] = H[j] , H[2*j]\n",
    "                BubbleDown(H, 2*j)\n",
    "            else :\n",
    "                # swap right child which is smaller element\n",
    "                H[2*j + 1] , H[j] = H[j] , H[2*j + 1]\n",
    "                BubbleDown(H, 2*j + 1)\n"
   ]
  },
  {
   "cell_type": "code",
   "execution_count": null,
   "metadata": {},
   "outputs": [],
   "source": []
  }
 ],
 "metadata": {
  "language_info": {
   "name": "python"
  },
  "orig_nbformat": 4
 },
 "nbformat": 4,
 "nbformat_minor": 2
}
