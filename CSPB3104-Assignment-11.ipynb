{
 "cells": [
  {
   "cell_type": "markdown",
   "metadata": {},
   "source": [
    "# CSPB 3104 Assignment 11:\n",
    "## Instructions\n",
    "\n",
    "> This assignment is to be completed and uploaded to \n",
    "moodle as a python3 notebook. \n",
    "\n",
    "> Submission deadlines are posted on moodle. \n",
    "\n",
    "> The questions  provided  below will ask you to either write code or \n",
    "write answers in the form of markdown.\n",
    "\n",
    "> Markdown syntax guide is here: [click here](https://github.com/adam-p/markdown-here/wiki/Markdown-Cheatsheet)\n",
    "\n",
    "> Using markdown you can typeset formulae using latex.\n",
    "\n",
    "> This way you can write nice readable answers with formulae like thus:\n",
    "\n",
    ">> The algorithm runs in time $\\Theta\\left(n^{2.1\\log_2(\\log_2( n \\log^*(n)))}\\right)$, \n",
    "wherein $\\log^*(n)$ is the inverse _Ackerman_ function.\n",
    "\n",
    "__Double click anywhere on this box to find out how your instructor typeset it. Press Shift+Enter to go back.__\n"
   ]
  },
  {
   "cell_type": "markdown",
   "metadata": {},
   "source": [
    "## Question 1: Box Constrained Linear Program\n",
    "\n",
    "A box-constrained linear program is a problem of the following form:\n",
    "\n",
    "$$ \\begin{array}{rl}\n",
    "\\max & c_1 x_1 + \\cdots + c_n x_n \\\\\n",
    "\\mathsf{s.t.} & l_1 \\leq x_1 \\leq u_1 \\\\\n",
    "& l_2 \\leq x_2 \\leq u_2 \\\\\n",
    "& \\ddots \\\\\n",
    "& l_n \\leq x_n \\leq u_n \\\\\n",
    "\\end{array}$$\n",
    "\n",
    "In other words, each variable $x_i$ is constrained between lower limit $l_i$ and upper limit $u_i$.\n",
    "Given a box constrained LP, write down a linear time $\\Theta(n)$ algorithm to find its optimal solution."
   ]
  },
  {
   "cell_type": "markdown",
   "metadata": {},
   "source": [
    "### Answer (Expected Length: 3 lines)\n",
    "\n",
    "Given that each x variable is constrained between a lower and upper limit, we can maximize the initial function by simply setting each $x_i$ to either its upper or lower limit, depending on the value of $c_i$ and the upper and lower limits.\n",
    "\n",
    "Algorithm:\n",
    "\n",
    "Go through each set of $c_i*x_i$ in the linear function.\n",
    "\n",
    "If $c_i*u_i \\geq c_i*l_i$, set $x_i = u_i$.  \n",
    "Else, set $x_i = l_i$.\n",
    "\n",
    "Since we always choose the boundary that gives the maximum $c_i*x_i$, adding each little maximum together makes one composite maximum.  I could do a proof by contradiction for this but that was not asked and this question said 3 lines.  This runs in $\\theta (n)$ time, the time it takes to loop through all the variables.\n",
    "\n",
    "\n",
    "\n"
   ]
  },
  {
   "cell_type": "markdown",
   "metadata": {},
   "source": [
    "----"
   ]
  },
  {
   "cell_type": "markdown",
   "metadata": {},
   "source": [
    "## Question 2: Budget Allocation Problem\n",
    "\n",
    "There are $n$ communities in a city, $C_1, \\ldots, C_k$, with population $P_1, \\ldots, P_k$. \n",
    "The average daily income per capita for each community is given by $I_1, \\ldots, I_k$.\n",
    "The development budget $B$ dollars of the city is to be distributed between these communities following state law\n",
    "which stipulates the following constraints:\n",
    "\n",
    "  - The budget as a whole must be spent (no borrowing or saving allowed).\n",
    "  - The fair share fraction $f_i$ for a community $C_i$ is defined as $\\frac{P_i}{\\sum_{j=1}^k P_j}$.\n",
    "  - No community may receive an allocation that exceeds $1.1 f_i B$ or is lower than $0.9 f_i B$.\n",
    "  - Let $x_j$ be the allocation for community $C_j$. The overall allocation should be progressive to maximize the overall welfare formula given by $ \\sum_{j=1}^n \\frac{P_j}{I_j} x_j $.\n",
    "  \n",
    "\n",
    "Formulate the budget allocation problem as a linear program.\n",
    "\n",
    "Write down the LP for the data below.\n",
    "Use your favorite solver (Excel, GLPSOL, online solver)\n",
    "to solve the problem for the following data:\n",
    "\n",
    "$$\\begin{array}{ccccccc}\n",
    "\\hline\n",
    "ID & C_1 & C_2 & C_3 & C_4 & C_5 \\\\\n",
    "\\hline\n",
    "P_j & 50000 & 120000 & 110000 & 130000& 80000\\\\\n",
    "I_j & 250 & 125 & 200 & 90 & 280 \\\\\n",
    "\\hline\n",
    "\\end{array}$$\n",
    " \n",
    "The total budget in millions is $53$ million.\n"
   ]
  },
  {
   "cell_type": "markdown",
   "metadata": {},
   "source": [
    "### Answer 2 (Expected Length: 6 lines)\n",
    "\n",
    "__Linear Program__\n",
    "\n",
    "Equation:\n",
    "\n",
    "$$\\max \\ \\ (50000/250)x_1 + (120000/125)x_2 + (110000/200)x_3 + (130000/90)x_4 + (80000/280)x_n$$\n",
    "$$x_1 + x_2 + x_3 + x_4 + x_5 == 53000000$$\n",
    "\n",
    "$$ \\begin{array}{rl}\n",
    "\\mathsf{s.t.} & .9*\\frac{50000}{490000}*B \\leq x_1 \\leq 1.1*\\frac{50000}{490000}*B \\\\ \\\\\n",
    "& .9*\\frac{120000}{490000}*B \\leq x_2 \\leq 1.1*\\frac{120000}{490000}*B \\\\ \\\\\n",
    "& .9*\\frac{110000}{490000}*B \\leq x_3 \\leq 1.1*\\frac{110000}{490000}*B \\\\ \\\\\n",
    "& .9*\\frac{130000}{490000}*B \\leq x_4 \\leq 1.1*\\frac{130000}{490000}*B \\\\ \\\\\n",
    "& .9*\\frac{80000}{490000}*B \\leq x_5 \\leq 1.1*\\frac{80000}{490000}*B \\\\ \\\\\n",
    "\\end{array}$$\n",
    "\n",
    "\n",
    "\n"
   ]
  },
  {
   "cell_type": "code",
   "execution_count": 1,
   "metadata": {},
   "outputs": [
    {
     "name": "stdout",
     "output_type": "stream",
     "text": [
      "Collecting ortools\n",
      "  Downloading ortools-9.3.10497-cp39-cp39-macosx_10_15_x86_64.whl (12.6 MB)\n",
      "\u001b[K     |████████████████████████████████| 12.6 MB 9.6 MB/s eta 0:00:01    |███████▋                        | 3.0 MB 3.4 MB/s eta 0:00:03\n",
      "\u001b[?25hRequirement already satisfied: numpy>=1.13.3 in ./py39/lib/python3.9/site-packages (from ortools) (1.22.3)\n",
      "Collecting protobuf>=3.19.4\n",
      "  Downloading protobuf-3.20.1-cp39-cp39-macosx_10_9_x86_64.whl (962 kB)\n",
      "\u001b[K     |████████████████████████████████| 962 kB 5.2 MB/s eta 0:00:01\n",
      "\u001b[?25hCollecting absl-py>=0.13\n",
      "  Downloading absl_py-1.0.0-py3-none-any.whl (126 kB)\n",
      "\u001b[K     |████████████████████████████████| 126 kB 11.7 MB/s eta 0:00:01\n",
      "\u001b[?25hRequirement already satisfied: six in ./py39/lib/python3.9/site-packages (from absl-py>=0.13->ortools) (1.16.0)\n",
      "Installing collected packages: protobuf, absl-py, ortools\n",
      "Successfully installed absl-py-1.0.0 ortools-9.3.10497 protobuf-3.20.1\n",
      "\u001b[33mWARNING: You are using pip version 21.2.4; however, version 22.0.4 is available.\n",
      "You should consider upgrading via the '/Users/admin/Github/Algorithms-Homework/py39/bin/python -m pip install --upgrade pip' command.\u001b[0m\n",
      "Note: you may need to restart the kernel to use updated packages.\n"
     ]
    }
   ],
   "source": [
    "pip install ortools"
   ]
  },
  {
   "cell_type": "code",
   "execution_count": 1,
   "metadata": {},
   "outputs": [],
   "source": [
    "from ortools.linear_solver import pywraplp"
   ]
  },
  {
   "cell_type": "code",
   "execution_count": 33,
   "metadata": {},
   "outputs": [
    {
     "name": "stdout",
     "output_type": "stream",
     "text": [
      "5\n"
     ]
    }
   ],
   "source": [
    "solver = pywraplp.Solver.CreateSolver('GLOP')\n",
    "a = solver.NumVar((.9)*(53000000)*(50000/490000), (1.1)*(53000000)*(50000/490000), 'a')\n",
    "b = solver.NumVar((.9)*(53000000)*(120000/490000), (1.1)*(53000000)*(120000/490000), 'b')\n",
    "c = solver.NumVar((.9)*(53000000)*(110000/490000), (1.1)*(53000000)*(110000/490000), 'c')\n",
    "d = solver.NumVar((.9)*(53000000)*(130000/490000), (1.1)*(53000000)*(130000/490000), 'd')\n",
    "e = solver.NumVar((.9)*(53000000)*(80000/490000), (1.1)*(53000000)*(80000/490000), 'e')\n",
    "\n",
    "print(solver.NumVariables())"
   ]
  },
  {
   "cell_type": "code",
   "execution_count": 35,
   "metadata": {},
   "outputs": [],
   "source": [
    "solver.Add(a + b + c + d + e == 53000000)\n",
    "\n",
    "objective_func = solver.Objective()\n",
    "objective_func.SetCoefficient(a, 50000/250)\n",
    "objective_func.SetCoefficient(b, 120000/125)\n",
    "objective_func.SetCoefficient(c, 110000/200)\n",
    "objective_func.SetCoefficient(d, 130000/90)\n",
    "objective_func.SetCoefficient(e, 80000/280)\n",
    "\n",
    "objective_func.SetMaximization()\n",
    "\n",
    "solve_status = solver.Solve()\n"
   ]
  },
  {
   "cell_type": "code",
   "execution_count": 37,
   "metadata": {},
   "outputs": [
    {
     "name": "stdout",
     "output_type": "stream",
     "text": [
      "Solution:\n",
      "Objective value = 45032367670.87788\n",
      "x_1 = 4867346.9387755105\n",
      "x_2 = 14169387.755102038\n",
      "x_3 = 10708163.265306123\n",
      "x_4 = 15467346.938775513\n",
      "x_5 = 7787755.102040816\n"
     ]
    }
   ],
   "source": [
    "    if solve_status == pywraplp.Solver.OPTIMAL:\n",
    "        print('Solution:')\n",
    "        print('Objective value =', solver.Objective().Value())\n",
    "        print('x_1 =', a.solution_value())\n",
    "        print('x_2 =', b.solution_value())\n",
    "        print('x_3 =', c.solution_value())\n",
    "        print('x_4 =', d.solution_value())\n",
    "        print('x_5 =', e.solution_value())\n",
    "    else:\n",
    "        print('The problem does not have an optimal solution.')"
   ]
  },
  {
   "cell_type": "markdown",
   "metadata": {},
   "source": [
    "----"
   ]
  },
  {
   "cell_type": "markdown",
   "metadata": {},
   "source": [
    "## Question 3: 0-1 Integer Linear Programming\n",
    "\n",
    "A 0-1 integer linear program is an optimization problem involving binary variables\n",
    "$x_1, \\ldots, x_n \\in \\{0,1\\}^n$ as follows:\n",
    "\n",
    "$$\\begin{array}{rll}\n",
    "\\max & c_1 x_1 + \\cdots + c_n x_n \\\\\n",
    "\\mathsf{s.t} & a_{11} x_1 + \\cdots + a_{1n} x_n & \\leq b_1 \\\\\n",
    "& \\; \\; \\; \\; \\; \\; \\; \\; \\; \\;  \\ddots & \\\\\n",
    "& a_{m1} x_1  + \\cdots + a_{mn} x_n & \\leq b_m \\\\\n",
    "& x_1, \\ldots, x_n & \\in \\{0,1\\}\\\\\n",
    "\\end{array}$$\n",
    "\n",
    "You may think of it as a linear program but with variables restricted to take on values in the\n",
    "set $\\{0,1\\}$.\n",
    "\n",
    "The 0-1 ILP problem takes as an input (a) description of the problem (variables, objectives and constraints) and\n",
    "(b) limit $L$ and decides whether there exists a solution for the variables satisfying the constraints such that\n",
    "the objective value $\\geq L$.\n",
    "\n",
    "Show that 0-1 ILP problem is NP-Complete. (*Hint* Directly encode a 3-CNF-SAT clause as an inequality).\n",
    "\n"
   ]
  },
  {
   "cell_type": "markdown",
   "metadata": {},
   "source": [
    "### Answer (Expected Length: 10 lines)\n",
    "\n",
    "__Your answer here__\n"
   ]
  },
  {
   "cell_type": "markdown",
   "metadata": {},
   "source": [
    "----"
   ]
  },
  {
   "cell_type": "markdown",
   "metadata": {},
   "source": [
    "## Question 4: Independent Set\n",
    "\n",
    "An _independent set_ in a graph $G= (V,E)$ is a set of vertices $I \\subseteq V$ such that each edge in $E$ is incident to at most one vertex in $I$. That is, an independent set is a set of vertices where no two vertices are adjacent.\n",
    "\n",
    "The $k$ -independent set problem is to determine if a graph has an independent set of size at least $k$.\n",
    "\n",
    "(A) Show that the $k$-independent set problem is NP-Complete by reducing from the $3$-CNF-SAT problem.\n",
    "\n",
    "(B) Show that the $k$-independent set problem is NP-Complete by reducing from the $k$-clique problem.\n",
    "\n"
   ]
  },
  {
   "cell_type": "markdown",
   "metadata": {},
   "source": [
    "### Answer (Expected Length: 10 lines)\n",
    "\n",
    "__Your answer here__\n"
   ]
  },
  {
   "cell_type": "markdown",
   "metadata": {},
   "source": [
    "----"
   ]
  },
  {
   "cell_type": "markdown",
   "metadata": {},
   "source": [
    "## Testing your solutions -- Do not edit code beyond this point"
   ]
  },
  {
   "cell_type": "code",
   "execution_count": null,
   "metadata": {},
   "outputs": [],
   "source": []
  }
 ],
 "metadata": {
  "kernelspec": {
   "display_name": "Python 3",
   "language": "python",
   "name": "python3"
  },
  "language_info": {
   "codemirror_mode": {
    "name": "ipython",
    "version": 3
   },
   "file_extension": ".py",
   "mimetype": "text/x-python",
   "name": "python",
   "nbconvert_exporter": "python",
   "pygments_lexer": "ipython3",
   "version": "3.9.10"
  }
 },
 "nbformat": 4,
 "nbformat_minor": 4
}
