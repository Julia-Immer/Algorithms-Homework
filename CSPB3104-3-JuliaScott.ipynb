{
 "cells": [
  {
   "cell_type": "markdown",
   "metadata": {
    "deletable": false,
    "editable": false,
    "nbgrader": {
     "checksum": "9d050f4ea2fe4ec257d2203c783e5325",
     "grade": false,
     "grade_id": "cell-0b121a73255bed02",
     "locked": true,
     "schema_version": 1,
     "solution": false
    }
   },
   "source": [
    "# CSPB 3104 Assignment 3:  Julia Scott"
   ]
  },
  {
   "cell_type": "markdown",
   "metadata": {
    "deletable": false,
    "editable": false,
    "nbgrader": {
     "checksum": "452612bc0436a4f1249ba98d43d138be",
     "grade": false,
     "grade_id": "cell-46512401074a6917",
     "locked": true,
     "schema_version": 1,
     "solution": false
    }
   },
   "source": [
    "***\n",
    "# Instructions\n",
    "\n",
    "This assignment is to be completed as a python3 notebook.\n",
    "\n",
    "The questions  provided  below will ask you to either write code or \n",
    "write answers in the form of markdown.\n",
    "\n",
    " Markdown syntax guide is here: [click here](https://github.com/adam-p/markdown-here/wiki/Markdown-Cheatsheet)\n",
    "\n",
    "Using markdown you can typeset formulae using latex.\n",
    "This way you can write nice readable answers with formulae like thus:\n",
    "\n",
    "The algorithm runs in time $\\Theta\\left(n^{2.1\\log_2(\\log_2( n \\log^*(n)))}\\right)$, \n",
    "where $\\log^*(n)$ is the inverse _Ackerman_ function.\n",
    "\n",
    "__Double click anywhere on this box to find out how your instructor typeset it. Press Shift+Enter to go back.__\n",
    "\n",
    "***"
   ]
  },
  {
   "cell_type": "markdown",
   "metadata": {
    "deletable": false,
    "editable": false,
    "nbgrader": {
     "checksum": "73e1fbc3b5c7157f3bef20465999b033",
     "grade": false,
     "grade_id": "cell-1ccdfb3a5473d2c9",
     "locked": true,
     "schema_version": 1,
     "solution": false
    }
   },
   "source": [
    "## Question 1\n",
    "\n",
    "Answer the following questions about heaps.\n",
    "\n",
    "__1(a)__  Write down an algorithm to find the third smallest element in a minheap with more than $3$ elements. You may write pseudocode or english description of the algorithm's steps. What is the running time complexity on a heap of size $n$? * Assume all elements in the heap are distinct *\n",
    "\n",
    "\n",
    "\n",
    "\n"
   ]
  },
  {
   "cell_type": "markdown",
   "metadata": {
    "deletable": false,
    "nbgrader": {
     "checksum": "2a58b73e05a482713e5ec701fa85e11b",
     "grade": true,
     "grade_id": "cell-44e21cce771fd831",
     "locked": false,
     "points": 20,
     "schema_version": 1,
     "solution": true
    }
   },
   "source": [
    "```\n",
    "findThirdSmallest(min_heap):\n",
    "    if (min_heap[1] >= min_heap[2]) :\n",
    "        return min_heap[1]\n",
    "    else :\n",
    "        return min_heap[2]\n",
    "```\n"
   ]
  },
  {
   "cell_type": "markdown",
   "metadata": {
    "deletable": false,
    "editable": false,
    "nbgrader": {
     "checksum": "777eec29ec9c92175a07e6dd97514191",
     "grade": false,
     "grade_id": "cell-382bd790c682ff35",
     "locked": true,
     "schema_version": 1,
     "solution": false
    }
   },
   "source": [
    "__1(b)__ We wish to find the largest element in a min-heap represented by array $A[1], \\ldots, A[n]$. Show using a series of examples for $n=7$ that any element starting from $A[\\lceil{\\frac{n}{2}}\\rceil], \\ldots, A[n]$ can be the largest element. Your answer should be in the form of 4 min heaps."
   ]
  },
  {
   "cell_type": "markdown",
   "metadata": {
    "deletable": false,
    "nbgrader": {
     "checksum": "405bae515ba31f6e3239219bfb1a6cdf",
     "grade": true,
     "grade_id": "cell-b135c81ce6b4d8b3",
     "locked": false,
     "points": 20,
     "schema_version": 1,
     "solution": true
    }
   },
   "source": [
    "heap1 = h1 = [10, 15, 20, 25, 60, 40, 100]\n",
    "\n",
    "    h1.max() = 100\n",
    "    The index of 100 is n for a min heap array numbered 1 to n where n = 7.\n",
    "    A[i] is in the last half as it is the last element.\n",
    "\n",
    "\n",
    "\n",
    "heap2 = h2 = [2, 3, 5, 7, 13, 19, 11]\n",
    "\n",
    "    h2.max() = 19\n",
    "    The index of 19 is 6 for a min heap array numbered 1 to n where n = 7.\n",
    "    A[n] is in the last half as celing(n/2) = 4 and i = 6 for max number.\n",
    "    4 <= 6 <= n\n",
    "\n",
    "\n",
    "\n",
    "heap3 = h3 = [1, 2, 3, 4, 5, 6, 7]\n",
    "\n",
    "    h3.max() = 7\n",
    "    The index of 7 is i = 7 for a min heap array numbered 1 to n where n = 7.\n",
    "    A[i] = A[n] it is in the last half as it is the final element.\n",
    "\n",
    "\n",
    "\n",
    "heap4 = h4 = [4, 16, 24, 20, 80, 30, 26]\n",
    "\n",
    "    h4.max() = 80\n",
    "    The index of 80 is 5 for a min heap array numbered 1 to n where n = 7.\n",
    "    A[5] is in the last half as celing(n/2) = 4 and i = 5 for max number.\n",
    "    4 <= 5 <= n"
   ]
  },
  {
   "cell_type": "markdown",
   "metadata": {
    "deletable": false,
    "editable": false,
    "nbgrader": {
     "checksum": "afdea52813d46083340cc7197a734959",
     "grade": false,
     "grade_id": "cell-4672753a75a929f2",
     "locked": true,
     "schema_version": 1,
     "solution": false
    }
   },
   "source": [
    "***\n",
    "## Question 2\n",
    "\n",
    "Suppose you have an array __A__ of *n* distinct elements.\n",
    "\n",
    "The following pseudocode finds the k biggest values of __A__:\n",
    "\n",
    "```\n",
    "Biggest(A, k): \\\\returns an array of the k biggest values of A\n",
    "        mergesort(A)  \n",
    "        return A[n-k, n]\n",
    " ```\n",
    " \n",
    "__2(a)__ What is the complexity of the above algorithm and why?\n",
    "\n"
   ]
  },
  {
   "cell_type": "markdown",
   "metadata": {
    "deletable": false,
    "nbgrader": {
     "checksum": "430a3d8bbf4fc986718a97ee29fc7251",
     "grade": true,
     "grade_id": "cell-1575a845d33f4f18",
     "locked": false,
     "points": 15,
     "schema_version": 1,
     "solution": true
    }
   },
   "source": [
    "mergesort_complexity = O(nlogn)\n",
    "\n",
    "Biggest(n) = B(n) = mergesort_complexity + slicing_operation\n",
    "\n",
    "B(n) = O(nlogn) + slicing_operation\n",
    "\n",
    "\n",
    "The slicing operation in the return statement at the end runs in O(size of slice)\n",
    "\n",
    "B(n) = O(nlogn) + O(n - (n-k)) = O(nlogn) + O(k)\n",
    "\n",
    "O(k) < O(nlogn)\n",
    "\n",
    "B(n) = O(nlogn)"
   ]
  },
  {
   "cell_type": "markdown",
   "metadata": {
    "deletable": false,
    "editable": false,
    "nbgrader": {
     "checksum": "11517f84d1fc563ae06775cf8e9bed77",
     "grade": false,
     "grade_id": "cell-8d54d1cf5d00c3e1",
     "locked": true,
     "schema_version": 1,
     "solution": false
    }
   },
   "source": [
    "__2(b)__ Now suppose that the order of the array was important.  Design and implement an algorithm that returns an array of the k largest elements of __A__ in their original order, and it should run in $\\Theta(nk)$ time.\n",
    "\n",
    "For example, BiggestInOrder([0,5,1,3,4], 3) should return [5,3,4]."
   ]
  },
  {
   "cell_type": "code",
   "execution_count": 182,
   "metadata": {},
   "outputs": [],
   "source": [
    "def FindSmallest(A) :\n",
    "    smallest = A[0]\n",
    "\n",
    "    for j in range(len(A)) :\n",
    "        if (A[j] < smallest) :\n",
    "            smallest  = A[j]\n",
    "    \n",
    "    return smallest"
   ]
  },
  {
   "cell_type": "code",
   "execution_count": 183,
   "metadata": {
    "deletable": false,
    "nbgrader": {
     "checksum": "ce703e2dbcacac7bdea744bdfe402f42",
     "grade": false,
     "grade_id": "cell-86e5b5d458fdfe8a",
     "locked": false,
     "schema_version": 1,
     "solution": true
    }
   },
   "outputs": [],
   "source": [
    "def BiggestInOrder(B, k):\n",
    "    result = []\n",
    "    k_index_map = []\n",
    "    largest = B[0] #start with first element and measure others against it\n",
    "    large_index = 0\n",
    "    n = len(B)\n",
    "\n",
    "    # if you want the whole list of biggest terms, return entire list\n",
    "    if (k == n) :\n",
    "        return B\n",
    "    elif (k > n) :\n",
    "        return B\n",
    "\n",
    "    # we take off the first largest element to measure others against\n",
    "    for j in range(n) :\n",
    "        if (B[j] > largest) :\n",
    "            largest  = B[j]\n",
    "            large_index  = j\n",
    "    \n",
    "    k_index_map.append(large_index) # add it to the map and result vector\n",
    "\n",
    "    #use minimum element to start the measuring\n",
    "    floor_el = FindSmallest(B)\n",
    "\n",
    "    # find the next k-1 largest elements\n",
    "    for j in range(k-1) :\n",
    "        last_largest = largest\n",
    "        last_i = large_index\n",
    "\n",
    "        # set largest equal to minimum element\n",
    "        largest = floor_el\n",
    "                \n",
    "        # find the next largest element using the last largest and the floor\n",
    "        for i in range(n) :\n",
    "            if (B[i] <= last_largest) and (i != last_i) and (B[i] >= largest) :\n",
    "                largest = B[i]\n",
    "                large_index = i\n",
    "        \n",
    "        #add new biggest element index to map of biggest items\n",
    "        k_index_map.append(large_index)\n",
    "\n",
    "    \n",
    "    #output map items in sorted order\n",
    "    k_index_map = sorted(k_index_map) # complexity is nlogn which is less than theta(n*k)\n",
    "    for index in k_index_map :\n",
    "        result.append(B[index])\n",
    "\n",
    "    return result"
   ]
  },
  {
   "cell_type": "markdown",
   "metadata": {
    "deletable": false,
    "editable": false,
    "nbgrader": {
     "checksum": "c3a70315d4af5fd2730f9742ca62b2dc",
     "grade": false,
     "grade_id": "cell-a97e8fabdb7f9862",
     "locked": true,
     "schema_version": 1,
     "solution": false
    }
   },
   "source": [
    "__2(c)__ If we don't care about the original ordering, then we can use a heap to design an algorithm that runs faster than the one in part (b).  Design and implement an algorithm that returns an array of the k largest elements of __A__ using a heap."
   ]
  },
  {
   "cell_type": "code",
   "execution_count": 184,
   "metadata": {},
   "outputs": [],
   "source": [
    "# Swaps two array elements\n",
    "def Swap(C, i, j) :\n",
    "    temp = C[i]\n",
    "    C[i] = C[j]\n",
    "    C[j] = temp\n",
    "    \n",
    "    return"
   ]
  },
  {
   "cell_type": "code",
   "execution_count": 185,
   "metadata": {},
   "outputs": [],
   "source": [
    "# max heap bubble up\n",
    "def BubbleUp(B, j) :\n",
    "    if j <= 0 : # we are at the root so no more bubbling can be done\n",
    "        return\n",
    "    elif B[j] > B[j//2] : # if items are out of order with parent, swap\n",
    "        Swap(B, j, j//2)\n",
    "        BubbleUp(B, j//2)\n",
    "    \n",
    "    return"
   ]
  },
  {
   "cell_type": "code",
   "execution_count": 186,
   "metadata": {},
   "outputs": [],
   "source": [
    "# max heap bubble down\n",
    "def BubbleDown(C, i) :\n",
    "    # check if no left child\n",
    "    last_index = len(C) - 1\n",
    "    if (2*i > last_index) :\n",
    "        return\n",
    "    # left child but no right child case\n",
    "    elif (2*i+1 > last_index) :\n",
    "        if (C[i] < C[2*i]) : # item needs to swap to be heap\n",
    "            Swap(C, i, 2*i)\n",
    "    # right child case\n",
    "    else:\n",
    "        if (C[2*i] > C[2*i+1]) :\n",
    "            larger = 2*i\n",
    "        else :\n",
    "            larger = 2*i+1\n",
    "        # check if child is larger than parent \n",
    "        if (C[larger] > C[i]) :\n",
    "            Swap(C, larger, i)\n",
    "            BubbleDown(C, larger)\n",
    "        \n",
    "    return\n"
   ]
  },
  {
   "cell_type": "code",
   "execution_count": 187,
   "metadata": {},
   "outputs": [],
   "source": [
    "def MakeMaxHeap(C) :\n",
    "    i = len(C)//2 + 1 # only need to bubble down parents\n",
    "    # heapify first half of elements (all parent nodes)\n",
    "    while i >= 0 :\n",
    "        BubbleDown(C, i)\n",
    "        i-=1\n",
    "        \n",
    "    return C"
   ]
  },
  {
   "cell_type": "code",
   "execution_count": 188,
   "metadata": {},
   "outputs": [],
   "source": [
    "def DeleteMaxItem(D) :\n",
    "    max = D[0]\n",
    "    # delete max from heap, by replacing with last element and resizing\n",
    "    D[0] = D[-1]\n",
    "    D.pop() # resize heap by removing the max element we moved\n",
    "    BubbleDown(D, 0) # heapify again\n",
    "\n",
    "    return max"
   ]
  },
  {
   "cell_type": "code",
   "execution_count": 192,
   "metadata": {
    "deletable": false,
    "nbgrader": {
     "checksum": "ab624a8a786a226b7a5c1db9114d7861",
     "grade": false,
     "grade_id": "cell-87b181f2bb909f14",
     "locked": false,
     "schema_version": 1,
     "solution": true
    }
   },
   "outputs": [],
   "source": [
    "def BiggestOutOfOrder(A, k):\n",
    "    A = MakeMaxHeap(A)\n",
    "    k_largest = []\n",
    "\n",
    "    for i in range(k) :\n",
    "        # Get max el by deleting first element of heap\n",
    "        max = DeleteMaxItem(A)\n",
    "        # append deleted element to k_largest\n",
    "        k_largest.append(max)\n",
    "\n",
    "    return k_largest"
   ]
  },
  {
   "cell_type": "markdown",
   "metadata": {
    "deletable": false,
    "editable": false,
    "nbgrader": {
     "checksum": "01842f0aca59b154b8c13927ecd8c034",
     "grade": false,
     "grade_id": "cell-999aec4713dd0723",
     "locked": true,
     "schema_version": 1,
     "solution": false
    }
   },
   "source": [
    "__2(d)__  What is the complexity of your algorithm for part (c)?"
   ]
  },
  {
   "cell_type": "markdown",
   "metadata": {},
   "source": [
    "**Complexity For Biggest Out Of Order Heap Algorithm**\n",
    "\n",
    "To make a max heap the complexity is O(n).  The complexity of deletion is O(logn).\n",
    "In this algorithm we first create the heap and then we pop the root from the heap k times to get the top k elements. The append and initialization actions are O(1).\n",
    "\n",
    "Total complexity of BiggestOutOfOrder = h(n) = k\\*(O(logn)) + O(n) + O(1) + O(1) + O(1)\\*k\n",
    "h(n) = O(k\\*logn) + O(n) + O(k)\n",
    "\n",
    "Depending on the size of k and n, k\\*logn could be faster or slower than O(n).  O(k) is definitely smaller or the same as O(n) therefore we can drop O(k).\n",
    "Since we don't know the relationship between k and n, the complexity is best described as:\n",
    "\n",
    "h(n) = O(k\\*logn) + O(n)\n",
    "\n",
    "\n"
   ]
  },
  {
   "cell_type": "markdown",
   "metadata": {
    "deletable": false,
    "editable": false,
    "nbgrader": {
     "checksum": "849d0c1a3727267d0bb2bd7df00d01e6",
     "grade": false,
     "grade_id": "cell-ea68d6420d3528fa",
     "locked": true,
     "schema_version": 1,
     "solution": false
    }
   },
   "source": [
    "---\n",
    "## Testing your solutions -- Do not edit code beyond this point"
   ]
  },
  {
   "cell_type": "code",
   "execution_count": 193,
   "metadata": {
    "deletable": false,
    "editable": false,
    "nbgrader": {
     "checksum": "589162e20d0b32513b6bcdf7d893003c",
     "grade": true,
     "grade_id": "cell-2b3c60ad9c7c88e4",
     "locked": true,
     "points": 15,
     "schema_version": 1,
     "solution": false
    }
   },
   "outputs": [
    {
     "name": "stdout",
     "output_type": "stream",
     "text": [
      " num tests  =  10000\n",
      " num passed =  10000\n"
     ]
    }
   ],
   "source": [
    "from random import sample, randint\n",
    "def testBiggestInOrder(n_tests, test_size):\n",
    "    n_passed = 0\n",
    "    n_failed = 0\n",
    "    for i in range(0, n_tests):\n",
    "        a = sample( range(-10 * n_tests,  10 * n_tests ), test_size)\n",
    "        k = randint(1, len(a))\n",
    "        kbiggest = BiggestInOrder(a.copy(), k)\n",
    "        if len(kbiggest) != k:\n",
    "            if n_failed < 10:\n",
    "                print(' Code returns the wrong sized array!')\n",
    "            n_failed += 1\n",
    "            continue\n",
    "        if sorted(kbiggest) != sorted(a)[-k:]:\n",
    "            if n_failed < 10:\n",
    "                print(' Code did not return the ', k, ' biggest elements!')\n",
    "                print(' Code returned ', sorted(kbiggest), ' but we wanted ', sorted(a)[-k:], ' of ', a)\n",
    "            n_failed +=1\n",
    "            continue\n",
    "        currIndex = 0\n",
    "        inOrder = True\n",
    "        for j in range(0, len(kbiggest)):\n",
    "            for l in range(currIndex, len(a)):\n",
    "                if kbiggest[j] == a[l]:\n",
    "                    currIndex = l\n",
    "                    break\n",
    "                if l == len(a) - 1:\n",
    "                    inOrder = False\n",
    "        if inOrder == False:\n",
    "            if n_failed < 10:\n",
    "                print(' Code failed for input: ', a, 'returned : ', kbiggest, 'last correct index: ', currIndex)\n",
    "        else:\n",
    "            n_passed = n_passed + 1\n",
    "\n",
    "    return n_passed\n",
    "\n",
    "n_tests = 10000\n",
    "n_passed = testBiggestInOrder(10000, 10)\n",
    "print(' num tests  = ', n_tests)\n",
    "print(' num passed = ', n_passed)"
   ]
  },
  {
   "cell_type": "code",
   "execution_count": 194,
   "metadata": {
    "deletable": false,
    "editable": false,
    "nbgrader": {
     "checksum": "24fd18759631d9f362a938fc37899124",
     "grade": true,
     "grade_id": "cell-591c09b8573a47b0",
     "locked": true,
     "points": 15,
     "schema_version": 1,
     "solution": false
    }
   },
   "outputs": [
    {
     "name": "stdout",
     "output_type": "stream",
     "text": [
      " num tests  =  10000\n",
      " num passed =  10000\n"
     ]
    }
   ],
   "source": [
    "from random import sample, randint\n",
    "def testBiggestOutOfOrder(n_tests, test_size):\n",
    "    n_passed = 0\n",
    "    n_failed = 0\n",
    "    for i in range(0, n_tests):\n",
    "        a = sample( range(-10 * n_tests,  10 * n_tests ), test_size)\n",
    "        k = randint(1, len(a))\n",
    "        kbiggest = BiggestOutOfOrder(a.copy(), k)\n",
    "        if len(kbiggest) != k:\n",
    "            if n_failed < 10:\n",
    "                print(' Code returns the wrong sized array!')\n",
    "            n_failed += 1\n",
    "            continue\n",
    "        if sorted(kbiggest) != sorted(a)[-k:]:\n",
    "            if n_failed < 10:\n",
    "                print(' Code did not return the ', k, ' biggest elements!')\n",
    "                print(' Code returned ', sorted(kbiggest), ' but we wanted ', sorted(a)[-k:], 'where a is', a)\n",
    "            n_failed += 1\n",
    "            continue\n",
    "        n_passed = n_passed + 1\n",
    "    return n_passed\n",
    "\n",
    "n_tests = 10000\n",
    "n_passed = testBiggestOutOfOrder(10000, 10)\n",
    "print(' num tests  = ', n_tests)\n",
    "print(' num passed = ', n_passed)"
   ]
  }
 ],
 "metadata": {
  "kernelspec": {
   "display_name": "Python 3",
   "language": "python",
   "name": "python3"
  },
  "language_info": {
   "codemirror_mode": {
    "name": "ipython",
    "version": 3
   },
   "file_extension": ".py",
   "mimetype": "text/x-python",
   "name": "python",
   "nbconvert_exporter": "python",
   "pygments_lexer": "ipython3",
   "version": "3.8.5"
  }
 },
 "nbformat": 4,
 "nbformat_minor": 2
}
